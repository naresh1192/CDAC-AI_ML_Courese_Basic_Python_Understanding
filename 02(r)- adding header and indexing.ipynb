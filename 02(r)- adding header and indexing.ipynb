{
 "cells": [
  {
   "cell_type": "code",
   "execution_count": 12,
   "id": "efddb0b3-8e89-47b1-bc69-19ab12c06dc5",
   "metadata": {},
   "outputs": [
    {
     "name": "stdout",
     "output_type": "stream",
     "text": [
      "DataSet\n",
      "     1     anil  TE  56.77  22\n",
      "0   2     amit  TE  59.77  21\n",
      "1   3   aniket  BE  76.88  19\n",
      "2   4  ajinkya  TE  69.66  20\n",
      "3   5     asha  TE  63.28  20\n",
      "4   6   ayesha  BE  49.55  20\n",
      "5   7     amar  BE  65.34  19\n",
      "6   8    amita  BE  68.33  23\n",
      "7   9     amol  TE  56.75  20\n",
      "8  10    anmol  BE  78.66  21\n"
     ]
    }
   ],
   "source": [
    "import pandas as pd\n",
    "# load the data using pandas, header not found\n",
    "df = pd.read_csv('datasets/student1.csv')\n",
    "print('DataSet\\n', df)"
   ]
  },
  {
   "cell_type": "code",
   "execution_count": 13,
   "id": "bc1ee113-5a69-4ea5-894b-3536900c5d58",
   "metadata": {},
   "outputs": [
    {
     "name": "stdout",
     "output_type": "stream",
     "text": [
      "DataSet\n",
      "    Roll     Name Class  Marks  Age\n",
      "0     1     anil    TE  56.77   22\n",
      "1     2     amit    TE  59.77   21\n",
      "2     3   aniket    BE  76.88   19\n",
      "3     4  ajinkya    TE  69.66   20\n",
      "4     5     asha    TE  63.28   20\n",
      "5     6   ayesha    BE  49.55   20\n",
      "6     7     amar    BE  65.34   19\n",
      "7     8    amita    BE  68.33   23\n",
      "8     9     amol    TE  56.75   20\n",
      "9    10    anmol    BE  78.66   21\n"
     ]
    }
   ],
   "source": [
    "#adding header to the dataset with some names\n",
    "df = pd.read_csv('datasets/student1.csv', names = ['Roll', 'Name', 'Class', 'Marks', 'Age'] )\n",
    "print('DataSet\\n', df)"
   ]
  },
  {
   "cell_type": "code",
   "execution_count": 14,
   "id": "2262a5dd-f5a6-4301-bb47-5f3d5673bb91",
   "metadata": {},
   "outputs": [
    {
     "name": "stdout",
     "output_type": "stream",
     "text": [
      "Index based slicing of DataSet\n",
      "    Roll     Name Class\n",
      "0     1     anil    TE\n",
      "1     2     amit    TE\n",
      "2     3   aniket    BE\n",
      "3     4  ajinkya    TE\n",
      "4     5     asha    TE\n",
      "5     6   ayesha    BE\n",
      "6     7     amar    BE\n",
      "7     8    amita    BE\n"
     ]
    }
   ],
   "source": [
    "xx = df.iloc[0:8, 0:3]\n",
    "print('Index based slicing of DataSet\\n', xx)"
   ]
  },
  {
   "cell_type": "code",
   "execution_count": 15,
   "id": "2c869fb9-c21b-4c16-bd76-91042dfdd9e0",
   "metadata": {},
   "outputs": [
    {
     "name": "stdout",
     "output_type": "stream",
     "text": [
      "Index based slicing of DataSet\n",
      "       Name Class\n",
      "3  ajinkya    TE\n",
      "4     asha    TE\n",
      "5   ayesha    BE\n",
      "6     amar    BE\n",
      "7    amita    BE\n",
      "8     amol    TE\n",
      "9    anmol    BE\n"
     ]
    }
   ],
   "source": [
    "xx = df.iloc[3:, 1:3] #starting from 3rd row till end and columns from 1 to 3\n",
    "print('Index based slicing of DataSet\\n', xx)"
   ]
  },
  {
   "cell_type": "code",
   "execution_count": 16,
   "id": "013ad00a-be82-49ca-8eac-4799c11a157b",
   "metadata": {},
   "outputs": [
    {
     "name": "stdout",
     "output_type": "stream",
     "text": [
      "Index based slicing of DataSet\n",
      "    Roll     Name Class  Marks  Age\n",
      "3     4  ajinkya    TE  69.66   20\n",
      "5     6   ayesha    BE  49.55   20\n",
      "8     9     amol    TE  56.75   20\n",
      "9    10    anmol    BE  78.66   21\n"
     ]
    }
   ],
   "source": [
    "xx = df.iloc[[3,5,8,9], :] #Random selection of the rows and all the columns\n",
    "print('Index based slicing of DataSet\\n', xx)"
   ]
  },
  {
   "cell_type": "code",
   "execution_count": 17,
   "id": "c11a5323-a500-4f9a-9574-c1c8b7e65598",
   "metadata": {},
   "outputs": [
    {
     "name": "stdout",
     "output_type": "stream",
     "text": [
      "Index based slicing of DataSet\n",
      "       Name  Marks  Age\n",
      "3  ajinkya  69.66   20\n",
      "5   ayesha  49.55   20\n",
      "8     amol  56.75   20\n",
      "9    anmol  78.66   21\n"
     ]
    }
   ],
   "source": [
    "xx = df.iloc[[3,5,8,9], [1,3,4]] #Random selection of the rows and columns\n",
    "print('Index based slicing of DataSet\\n', xx)"
   ]
  },
  {
   "cell_type": "code",
   "execution_count": 18,
   "id": "43be195c-48ed-4c7e-9433-f08706bef508",
   "metadata": {},
   "outputs": [
    {
     "name": "stdout",
     "output_type": "stream",
     "text": [
      "label slicing of DataSet\n",
      "       Name  Marks  Age\n",
      "0     anil  56.77   22\n",
      "1     amit  59.77   21\n",
      "2   aniket  76.88   19\n",
      "3  ajinkya  69.66   20\n",
      "4     asha  63.28   20\n",
      "5   ayesha  49.55   20\n",
      "6     amar  65.34   19\n",
      "7    amita  68.33   23\n",
      "8     amol  56.75   20\n",
      "9    anmol  78.66   21\n"
     ]
    }
   ],
   "source": [
    "# label based slicing\n",
    "xx1 = df[['Name', 'Marks','Age']]\n",
    "print('label slicing of DataSet\\n', xx1)"
   ]
  },
  {
   "cell_type": "code",
   "execution_count": null,
   "id": "e26c71bc-085c-465e-ba48-b120ab990548",
   "metadata": {},
   "outputs": [],
   "source": []
  },
  {
   "cell_type": "code",
   "execution_count": null,
   "id": "786cdf2c-dc30-4660-85ae-4385b8991e74",
   "metadata": {},
   "outputs": [],
   "source": []
  },
  {
   "cell_type": "code",
   "execution_count": null,
   "id": "38083cc1-1f0f-4aa8-8752-d24f79275359",
   "metadata": {},
   "outputs": [],
   "source": []
  },
  {
   "cell_type": "code",
   "execution_count": null,
   "id": "a08d3886-87a6-47f2-9db6-70e0fc1001c9",
   "metadata": {},
   "outputs": [],
   "source": []
  }
 ],
 "metadata": {
  "kernelspec": {
   "display_name": "Python 3 (ipykernel)",
   "language": "python",
   "name": "python3"
  },
  "language_info": {
   "codemirror_mode": {
    "name": "ipython",
    "version": 3
   },
   "file_extension": ".py",
   "mimetype": "text/x-python",
   "name": "python",
   "nbconvert_exporter": "python",
   "pygments_lexer": "ipython3",
   "version": "3.11.7"
  }
 },
 "nbformat": 4,
 "nbformat_minor": 5
}
