{
 "cells": [
  {
   "cell_type": "code",
   "execution_count": 1,
   "id": "d6ecec5a-e118-4c9b-93da-c424495201ae",
   "metadata": {},
   "outputs": [],
   "source": [
    "import pandas as pd\n",
    "import numpy as np"
   ]
  },
  {
   "cell_type": "code",
   "execution_count": 6,
   "id": "148f5cd1-934e-486c-89ee-de35b64a6f39",
   "metadata": {},
   "outputs": [
    {
     "name": "stdout",
     "output_type": "stream",
     "text": [
      "s 0     4\n",
      "1     5\n",
      "2    20\n",
      "3    24\n",
      "4    50\n",
      "5    78\n",
      "6    98\n",
      "7    12\n",
      "8     7\n",
      "dtype: int64\n"
     ]
    }
   ],
   "source": [
    "#series\n",
    "s= pd.Series([4,5,20,24,50,78,98,12,7])\n",
    "print('s',s)"
   ]
  },
  {
   "cell_type": "code",
   "execution_count": 8,
   "id": "00eb41f5-7afa-476e-8528-a8468a3b8de9",
   "metadata": {},
   "outputs": [],
   "source": [
    "s[1]=20"
   ]
  },
  {
   "cell_type": "code",
   "execution_count": 9,
   "id": "27741d45-4dfa-4e62-8ef2-09b3bb5f0b42",
   "metadata": {},
   "outputs": [
    {
     "data": {
      "text/plain": [
       "0     4\n",
       "1    20\n",
       "2    20\n",
       "3    24\n",
       "4    50\n",
       "5    78\n",
       "6    98\n",
       "7    12\n",
       "8     7\n",
       "dtype: int64"
      ]
     },
     "execution_count": 9,
     "metadata": {},
     "output_type": "execute_result"
    }
   ],
   "source": [
    "s"
   ]
  },
  {
   "cell_type": "code",
   "execution_count": 10,
   "id": "0eab4389-db77-4534-9cf5-815078ae0a87",
   "metadata": {},
   "outputs": [],
   "source": [
    "s[0]= 50"
   ]
  },
  {
   "cell_type": "code",
   "execution_count": 11,
   "id": "270de36f-6873-4b16-beed-9e63997dd580",
   "metadata": {},
   "outputs": [
    {
     "data": {
      "text/plain": [
       "0    50\n",
       "1    20\n",
       "2    20\n",
       "3    24\n",
       "4    50\n",
       "5    78\n",
       "6    98\n",
       "7    12\n",
       "8     7\n",
       "dtype: int64"
      ]
     },
     "execution_count": 11,
     "metadata": {},
     "output_type": "execute_result"
    }
   ],
   "source": [
    "s"
   ]
  },
  {
   "cell_type": "code",
   "execution_count": 13,
   "id": "868de19d-e982-4d77-b3b8-6ccc91632cd0",
   "metadata": {},
   "outputs": [
    {
     "data": {
      "text/plain": [
       "((9,),\n",
       " 9,\n",
       " dtype('int64'),\n",
       " array([50, 20, 20, 24, 50, 78, 98, 12,  7], dtype=int64))"
      ]
     },
     "execution_count": 13,
     "metadata": {},
     "output_type": "execute_result"
    }
   ],
   "source": [
    "s.shape, s.size, s.dtype, s.values #to convert into array form"
   ]
  },
  {
   "cell_type": "code",
   "execution_count": 33,
   "id": "96a61545-3ee1-46b6-8007-ca50d2b76aee",
   "metadata": {},
   "outputs": [],
   "source": [
    "# Data Frames\n",
    "r = pd.Series([1,2,3,4,5])\n",
    "n = pd.Series(['Nitin','Ranjan','Rani','Priya','Manoj'])\n",
    "m = pd.Series([80,82,93,74,95])"
   ]
  },
  {
   "cell_type": "code",
   "execution_count": 34,
   "id": "664aba3a-c6ae-4d5a-8794-c174329e4d6c",
   "metadata": {},
   "outputs": [],
   "source": [
    "df = pd.DataFrame({'Roll':r, 'Name':n, 'Marks':m})"
   ]
  },
  {
   "cell_type": "code",
   "execution_count": 35,
   "id": "94259897-3fc1-4811-869c-321b09d62aad",
   "metadata": {},
   "outputs": [
    {
     "data": {
      "text/html": [
       "<div>\n",
       "<style scoped>\n",
       "    .dataframe tbody tr th:only-of-type {\n",
       "        vertical-align: middle;\n",
       "    }\n",
       "\n",
       "    .dataframe tbody tr th {\n",
       "        vertical-align: top;\n",
       "    }\n",
       "\n",
       "    .dataframe thead th {\n",
       "        text-align: right;\n",
       "    }\n",
       "</style>\n",
       "<table border=\"1\" class=\"dataframe\">\n",
       "  <thead>\n",
       "    <tr style=\"text-align: right;\">\n",
       "      <th></th>\n",
       "      <th>Roll</th>\n",
       "      <th>Name</th>\n",
       "      <th>Marks</th>\n",
       "    </tr>\n",
       "  </thead>\n",
       "  <tbody>\n",
       "    <tr>\n",
       "      <th>0</th>\n",
       "      <td>1</td>\n",
       "      <td>Nitin</td>\n",
       "      <td>80</td>\n",
       "    </tr>\n",
       "    <tr>\n",
       "      <th>1</th>\n",
       "      <td>2</td>\n",
       "      <td>Ranjan</td>\n",
       "      <td>82</td>\n",
       "    </tr>\n",
       "    <tr>\n",
       "      <th>2</th>\n",
       "      <td>3</td>\n",
       "      <td>Rani</td>\n",
       "      <td>93</td>\n",
       "    </tr>\n",
       "    <tr>\n",
       "      <th>3</th>\n",
       "      <td>4</td>\n",
       "      <td>Priya</td>\n",
       "      <td>74</td>\n",
       "    </tr>\n",
       "    <tr>\n",
       "      <th>4</th>\n",
       "      <td>5</td>\n",
       "      <td>Manoj</td>\n",
       "      <td>95</td>\n",
       "    </tr>\n",
       "  </tbody>\n",
       "</table>\n",
       "</div>"
      ],
      "text/plain": [
       "   Roll    Name  Marks\n",
       "0     1   Nitin     80\n",
       "1     2  Ranjan     82\n",
       "2     3    Rani     93\n",
       "3     4   Priya     74\n",
       "4     5   Manoj     95"
      ]
     },
     "execution_count": 35,
     "metadata": {},
     "output_type": "execute_result"
    }
   ],
   "source": [
    "df"
   ]
  },
  {
   "cell_type": "code",
   "execution_count": 36,
   "id": "644e6565-9c27-46a0-94b9-0d98d43b9f9c",
   "metadata": {},
   "outputs": [
    {
     "data": {
      "text/plain": [
       "15"
      ]
     },
     "execution_count": 36,
     "metadata": {},
     "output_type": "execute_result"
    }
   ],
   "source": [
    "df.size"
   ]
  },
  {
   "cell_type": "code",
   "execution_count": 38,
   "id": "96c44df9-28fb-482d-b28e-eab7acb36d7b",
   "metadata": {},
   "outputs": [
    {
     "data": {
      "text/plain": [
       "(5, 3)"
      ]
     },
     "execution_count": 38,
     "metadata": {},
     "output_type": "execute_result"
    }
   ],
   "source": [
    "df.shape"
   ]
  },
  {
   "cell_type": "code",
   "execution_count": 39,
   "id": "f208f837-fe8d-45fb-9b92-065d32413d83",
   "metadata": {},
   "outputs": [
    {
     "data": {
      "text/plain": [
       "array([[1, 'Nitin', 80],\n",
       "       [2, 'Ranjan', 82],\n",
       "       [3, 'Rani', 93],\n",
       "       [4, 'Priya', 74],\n",
       "       [5, 'Manoj', 95]], dtype=object)"
      ]
     },
     "execution_count": 39,
     "metadata": {},
     "output_type": "execute_result"
    }
   ],
   "source": [
    "df.values"
   ]
  },
  {
   "cell_type": "code",
   "execution_count": 46,
   "id": "b1a026f2-7ff0-4e87-9361-de024f2b9b45",
   "metadata": {},
   "outputs": [
    {
     "data": {
      "text/plain": [
       "pandas.core.frame.DataFrame"
      ]
     },
     "execution_count": 46,
     "metadata": {},
     "output_type": "execute_result"
    }
   ],
   "source": [
    "type(df)"
   ]
  },
  {
   "cell_type": "code",
   "execution_count": 88,
   "id": "112e95ef-9725-4f4c-84b3-655b0f088e2e",
   "metadata": {},
   "outputs": [],
   "source": [
    "# load the data using pandas\n",
    "df = pd.read_csv('datasets/student.csv')"
   ]
  },
  {
   "cell_type": "code",
   "execution_count": 89,
   "id": "46ff2886-ec21-4a0b-97b5-831074070c67",
   "metadata": {},
   "outputs": [
    {
     "name": "stdout",
     "output_type": "stream",
     "text": [
      "DataSet\n",
      "    roll     name class  marks  age\n",
      "0     1     anil    TE  56.77   22\n",
      "1     2     amit    TE  59.77   21\n",
      "2     3   aniket    BE  76.88   19\n",
      "3     4  ajinkya    TE  69.66   20\n",
      "4     5     asha    TE  63.28   20\n",
      "5     6   ayesha    BE  49.55   20\n",
      "6     7     amar    BE  65.34   19\n",
      "7     8    amita    BE  68.33   23\n",
      "8     9     amol    TE  56.75   20\n",
      "9    10    anmol    BE  78.66   21\n"
     ]
    }
   ],
   "source": [
    "print('DataSet\\n', df)"
   ]
  },
  {
   "cell_type": "code",
   "execution_count": 45,
   "id": "1d57ffa8-deaa-4925-ae1b-90d3a68951c8",
   "metadata": {},
   "outputs": [
    {
     "data": {
      "text/plain": [
       "pandas.core.frame.DataFrame"
      ]
     },
     "execution_count": 45,
     "metadata": {},
     "output_type": "execute_result"
    }
   ],
   "source": [
    "type(df)"
   ]
  },
  {
   "cell_type": "code",
   "execution_count": 47,
   "id": "3c0fba0b-6757-4355-aecf-e3b68f84f995",
   "metadata": {},
   "outputs": [
    {
     "name": "stdout",
     "output_type": "stream",
     "text": [
      "DataSet\n",
      "     1     anil  TE  56.77  22\n",
      "0   2     amit  TE  59.77  21\n",
      "1   3   aniket  BE  76.88  19\n",
      "2   4  ajinkya  TE  69.66  20\n",
      "3   5     asha  TE  63.28  20\n",
      "4   6   ayesha  BE  49.55  20\n",
      "5   7     amar  BE  65.34  19\n",
      "6   8    amita  BE  68.33  23\n",
      "7   9     amol  TE  56.75  20\n",
      "8  10    anmol  BE  78.66  21\n"
     ]
    }
   ],
   "source": [
    "# load the data using pandas, header not found\n",
    "df = pd.read_csv('datasets/student1.csv')\n",
    "print('DataSet\\n', df)"
   ]
  },
  {
   "cell_type": "code",
   "execution_count": 49,
   "id": "5f71254c-b6ce-4105-a570-cbb333647c3e",
   "metadata": {},
   "outputs": [
    {
     "name": "stdout",
     "output_type": "stream",
     "text": [
      "DataSet\n",
      "    Roll     Name Class  Marks  Age\n",
      "0     1     anil    TE  56.77   22\n",
      "1     2     amit    TE  59.77   21\n",
      "2     3   aniket    BE  76.88   19\n",
      "3     4  ajinkya    TE  69.66   20\n",
      "4     5     asha    TE  63.28   20\n",
      "5     6   ayesha    BE  49.55   20\n",
      "6     7     amar    BE  65.34   19\n",
      "7     8    amita    BE  68.33   23\n",
      "8     9     amol    TE  56.75   20\n",
      "9    10    anmol    BE  78.66   21\n"
     ]
    }
   ],
   "source": [
    "#adding header to the dataset with some numes\n",
    "df = pd.read_csv('datasets/student1.csv', names = ['Roll', 'Name', 'Class', 'Marks', 'Age'] )\n",
    "print('DataSet\\n', df)"
   ]
  },
  {
   "cell_type": "code",
   "execution_count": 50,
   "id": "a66e08cc-3cd8-4261-9117-9173f228f33b",
   "metadata": {},
   "outputs": [],
   "source": [
    "t = None"
   ]
  },
  {
   "cell_type": "code",
   "execution_count": 53,
   "id": "0af0cb06-ff2d-43a2-973d-a946667dde7a",
   "metadata": {},
   "outputs": [
    {
     "name": "stdout",
     "output_type": "stream",
     "text": [
      "DataSet\n",
      "     0        1   2      3   4\n",
      "0   1     anil  TE  56.77  22\n",
      "1   2     amit  TE  59.77  21\n",
      "2   3   aniket  BE  76.88  19\n",
      "3   4  ajinkya  TE  69.66  20\n",
      "4   5     asha  TE  63.28  20\n",
      "5   6   ayesha  BE  49.55  20\n",
      "6   7     amar  BE  65.34  19\n",
      "7   8    amita  BE  68.33  23\n",
      "8   9     amol  TE  56.75  20\n",
      "9  10    anmol  BE  78.66  21\n"
     ]
    }
   ],
   "source": [
    "#adding header to the dataset without any name\n",
    "df2 = pd.read_csv('datasets/student1.csv', header = None )\n",
    "print('DataSet\\n', df2)"
   ]
  },
  {
   "cell_type": "code",
   "execution_count": 54,
   "id": "231a7646-ad38-448a-a91b-a511cb5fb371",
   "metadata": {},
   "outputs": [
    {
     "name": "stdout",
     "output_type": "stream",
     "text": [
      "DataSet\n",
      "   roll\\tname\\tclass\\tmarks\\tage\n",
      "0        1\\tanil\\tTE\\t56.77\\t22\n",
      "1        2\\tamit\\tTE\\t59.77\\t21\n",
      "2      3\\taniket\\tBE\\t76.88\\t19\n",
      "3     4\\tajinkya\\tTE\\t69.66\\t20\n",
      "4        5\\tasha\\tTE\\t63.28\\t20\n",
      "5      6\\tayesha\\tBE\\t49.55\\t20\n",
      "6        7\\tamar\\tBE\\t65.34\\t19\n",
      "7       8\\tamita\\tBE\\t68.33\\t23\n",
      "8        9\\tamol\\tTE\\t56.75\\t20\n",
      "9      10\\tanmol\\tBE\\t78.66\\t21\n"
     ]
    }
   ],
   "source": [
    "# load the data using pandas , separator is \\\n",
    "df3 = pd.read_csv('datasets/student3.tsv')\n",
    "print('DataSet\\n', df3)"
   ]
  },
  {
   "cell_type": "code",
   "execution_count": 55,
   "id": "6071cc87-2ce1-45c7-ab4d-94984f45934d",
   "metadata": {},
   "outputs": [
    {
     "name": "stdout",
     "output_type": "stream",
     "text": [
      "DataSet\n",
      "    roll     name class  marks  age\n",
      "0     1     anil    TE  56.77   22\n",
      "1     2     amit    TE  59.77   21\n",
      "2     3   aniket    BE  76.88   19\n",
      "3     4  ajinkya    TE  69.66   20\n",
      "4     5     asha    TE  63.28   20\n",
      "5     6   ayesha    BE  49.55   20\n",
      "6     7     amar    BE  65.34   19\n",
      "7     8    amita    BE  68.33   23\n",
      "8     9     amol    TE  56.75   20\n",
      "9    10    anmol    BE  78.66   21\n"
     ]
    }
   ],
   "source": [
    "df3 = pd.read_csv('datasets/student3.tsv', sep = '\\t') #separator is \\ changed into comma(,) or space\n",
    "print('DataSet\\n', df3)"
   ]
  },
  {
   "cell_type": "code",
   "execution_count": 56,
   "id": "a312f5a2-7836-4110-8f6a-b545b6bf5a72",
   "metadata": {},
   "outputs": [
    {
     "name": "stdout",
     "output_type": "stream",
     "text": [
      "DataSet\n",
      "      sepal_length  sepal_width  petal_length  petal_width    species\n",
      "0             5.1          3.5           1.4          0.2     setosa\n",
      "1             4.9          3.0           1.4          0.2     setosa\n",
      "2             4.7          3.2           1.3          0.2     setosa\n",
      "3             4.6          3.1           1.5          0.2     setosa\n",
      "4             5.0          3.6           1.4          0.2     setosa\n",
      "..            ...          ...           ...          ...        ...\n",
      "145           6.7          3.0           5.2          2.3  virginica\n",
      "146           6.3          2.5           5.0          1.9  virginica\n",
      "147           6.5          3.0           5.2          2.0  virginica\n",
      "148           6.2          3.4           5.4          2.3  virginica\n",
      "149           5.9          3.0           5.1          1.8  virginica\n",
      "\n",
      "[150 rows x 5 columns]\n"
     ]
    }
   ],
   "source": [
    "df4 = pd.read_csv('https://raw.githubusercontent.com/mwaskom/seaborn-data/master/iris.csv') # downloaded a data from internet\n",
    "print('DataSet\\n', df4)"
   ]
  },
  {
   "cell_type": "code",
   "execution_count": 57,
   "id": "67c401a4-5a09-4068-b1ba-dd96e3e5ac97",
   "metadata": {},
   "outputs": [
    {
     "data": {
      "text/plain": [
       "(150, 5)"
      ]
     },
     "execution_count": 57,
     "metadata": {},
     "output_type": "execute_result"
    }
   ],
   "source": [
    "df4.shape #shape"
   ]
  },
  {
   "cell_type": "code",
   "execution_count": 60,
   "id": "3f262dcf-0362-438b-b5fc-799a03ef8d99",
   "metadata": {},
   "outputs": [
    {
     "data": {
      "text/plain": [
       "(750,\n",
       " pandas.core.frame.DataFrame,\n",
       " (150, 5),\n",
       " sepal_length    float64\n",
       " sepal_width     float64\n",
       " petal_length    float64\n",
       " petal_width     float64\n",
       " species          object\n",
       " dtype: object)"
      ]
     },
     "execution_count": 60,
     "metadata": {},
     "output_type": "execute_result"
    }
   ],
   "source": [
    "df4.size, type(df4), df4.shape, df4.dtypes"
   ]
  },
  {
   "cell_type": "code",
   "execution_count": 62,
   "id": "71461f5e-e03a-4520-86dd-17958ea16ea9",
   "metadata": {},
   "outputs": [
    {
     "data": {
      "text/plain": [
       "Index(['sepal_length', 'sepal_width', 'petal_length', 'petal_width',\n",
       "       'species'],\n",
       "      dtype='object')"
      ]
     },
     "execution_count": 62,
     "metadata": {},
     "output_type": "execute_result"
    }
   ],
   "source": [
    "df4.columns"
   ]
  },
  {
   "cell_type": "code",
   "execution_count": 63,
   "id": "0a822877-7b19-4ebd-929a-98342996d4fb",
   "metadata": {},
   "outputs": [
    {
     "data": {
      "text/plain": [
       "RangeIndex(start=0, stop=150, step=1)"
      ]
     },
     "execution_count": 63,
     "metadata": {},
     "output_type": "execute_result"
    }
   ],
   "source": [
    "df4.index"
   ]
  },
  {
   "cell_type": "code",
   "execution_count": 64,
   "id": "f9c1c81b-8262-485f-b5c3-582c488b390c",
   "metadata": {},
   "outputs": [
    {
     "data": {
      "text/plain": [
       "array([[5.1, 3.5, 1.4, 0.2, 'setosa'],\n",
       "       [4.9, 3.0, 1.4, 0.2, 'setosa'],\n",
       "       [4.7, 3.2, 1.3, 0.2, 'setosa'],\n",
       "       [4.6, 3.1, 1.5, 0.2, 'setosa'],\n",
       "       [5.0, 3.6, 1.4, 0.2, 'setosa'],\n",
       "       [5.4, 3.9, 1.7, 0.4, 'setosa'],\n",
       "       [4.6, 3.4, 1.4, 0.3, 'setosa'],\n",
       "       [5.0, 3.4, 1.5, 0.2, 'setosa'],\n",
       "       [4.4, 2.9, 1.4, 0.2, 'setosa'],\n",
       "       [4.9, 3.1, 1.5, 0.1, 'setosa'],\n",
       "       [5.4, 3.7, 1.5, 0.2, 'setosa'],\n",
       "       [4.8, 3.4, 1.6, 0.2, 'setosa'],\n",
       "       [4.8, 3.0, 1.4, 0.1, 'setosa'],\n",
       "       [4.3, 3.0, 1.1, 0.1, 'setosa'],\n",
       "       [5.8, 4.0, 1.2, 0.2, 'setosa'],\n",
       "       [5.7, 4.4, 1.5, 0.4, 'setosa'],\n",
       "       [5.4, 3.9, 1.3, 0.4, 'setosa'],\n",
       "       [5.1, 3.5, 1.4, 0.3, 'setosa'],\n",
       "       [5.7, 3.8, 1.7, 0.3, 'setosa'],\n",
       "       [5.1, 3.8, 1.5, 0.3, 'setosa'],\n",
       "       [5.4, 3.4, 1.7, 0.2, 'setosa'],\n",
       "       [5.1, 3.7, 1.5, 0.4, 'setosa'],\n",
       "       [4.6, 3.6, 1.0, 0.2, 'setosa'],\n",
       "       [5.1, 3.3, 1.7, 0.5, 'setosa'],\n",
       "       [4.8, 3.4, 1.9, 0.2, 'setosa'],\n",
       "       [5.0, 3.0, 1.6, 0.2, 'setosa'],\n",
       "       [5.0, 3.4, 1.6, 0.4, 'setosa'],\n",
       "       [5.2, 3.5, 1.5, 0.2, 'setosa'],\n",
       "       [5.2, 3.4, 1.4, 0.2, 'setosa'],\n",
       "       [4.7, 3.2, 1.6, 0.2, 'setosa'],\n",
       "       [4.8, 3.1, 1.6, 0.2, 'setosa'],\n",
       "       [5.4, 3.4, 1.5, 0.4, 'setosa'],\n",
       "       [5.2, 4.1, 1.5, 0.1, 'setosa'],\n",
       "       [5.5, 4.2, 1.4, 0.2, 'setosa'],\n",
       "       [4.9, 3.1, 1.5, 0.2, 'setosa'],\n",
       "       [5.0, 3.2, 1.2, 0.2, 'setosa'],\n",
       "       [5.5, 3.5, 1.3, 0.2, 'setosa'],\n",
       "       [4.9, 3.6, 1.4, 0.1, 'setosa'],\n",
       "       [4.4, 3.0, 1.3, 0.2, 'setosa'],\n",
       "       [5.1, 3.4, 1.5, 0.2, 'setosa'],\n",
       "       [5.0, 3.5, 1.3, 0.3, 'setosa'],\n",
       "       [4.5, 2.3, 1.3, 0.3, 'setosa'],\n",
       "       [4.4, 3.2, 1.3, 0.2, 'setosa'],\n",
       "       [5.0, 3.5, 1.6, 0.6, 'setosa'],\n",
       "       [5.1, 3.8, 1.9, 0.4, 'setosa'],\n",
       "       [4.8, 3.0, 1.4, 0.3, 'setosa'],\n",
       "       [5.1, 3.8, 1.6, 0.2, 'setosa'],\n",
       "       [4.6, 3.2, 1.4, 0.2, 'setosa'],\n",
       "       [5.3, 3.7, 1.5, 0.2, 'setosa'],\n",
       "       [5.0, 3.3, 1.4, 0.2, 'setosa'],\n",
       "       [7.0, 3.2, 4.7, 1.4, 'versicolor'],\n",
       "       [6.4, 3.2, 4.5, 1.5, 'versicolor'],\n",
       "       [6.9, 3.1, 4.9, 1.5, 'versicolor'],\n",
       "       [5.5, 2.3, 4.0, 1.3, 'versicolor'],\n",
       "       [6.5, 2.8, 4.6, 1.5, 'versicolor'],\n",
       "       [5.7, 2.8, 4.5, 1.3, 'versicolor'],\n",
       "       [6.3, 3.3, 4.7, 1.6, 'versicolor'],\n",
       "       [4.9, 2.4, 3.3, 1.0, 'versicolor'],\n",
       "       [6.6, 2.9, 4.6, 1.3, 'versicolor'],\n",
       "       [5.2, 2.7, 3.9, 1.4, 'versicolor'],\n",
       "       [5.0, 2.0, 3.5, 1.0, 'versicolor'],\n",
       "       [5.9, 3.0, 4.2, 1.5, 'versicolor'],\n",
       "       [6.0, 2.2, 4.0, 1.0, 'versicolor'],\n",
       "       [6.1, 2.9, 4.7, 1.4, 'versicolor'],\n",
       "       [5.6, 2.9, 3.6, 1.3, 'versicolor'],\n",
       "       [6.7, 3.1, 4.4, 1.4, 'versicolor'],\n",
       "       [5.6, 3.0, 4.5, 1.5, 'versicolor'],\n",
       "       [5.8, 2.7, 4.1, 1.0, 'versicolor'],\n",
       "       [6.2, 2.2, 4.5, 1.5, 'versicolor'],\n",
       "       [5.6, 2.5, 3.9, 1.1, 'versicolor'],\n",
       "       [5.9, 3.2, 4.8, 1.8, 'versicolor'],\n",
       "       [6.1, 2.8, 4.0, 1.3, 'versicolor'],\n",
       "       [6.3, 2.5, 4.9, 1.5, 'versicolor'],\n",
       "       [6.1, 2.8, 4.7, 1.2, 'versicolor'],\n",
       "       [6.4, 2.9, 4.3, 1.3, 'versicolor'],\n",
       "       [6.6, 3.0, 4.4, 1.4, 'versicolor'],\n",
       "       [6.8, 2.8, 4.8, 1.4, 'versicolor'],\n",
       "       [6.7, 3.0, 5.0, 1.7, 'versicolor'],\n",
       "       [6.0, 2.9, 4.5, 1.5, 'versicolor'],\n",
       "       [5.7, 2.6, 3.5, 1.0, 'versicolor'],\n",
       "       [5.5, 2.4, 3.8, 1.1, 'versicolor'],\n",
       "       [5.5, 2.4, 3.7, 1.0, 'versicolor'],\n",
       "       [5.8, 2.7, 3.9, 1.2, 'versicolor'],\n",
       "       [6.0, 2.7, 5.1, 1.6, 'versicolor'],\n",
       "       [5.4, 3.0, 4.5, 1.5, 'versicolor'],\n",
       "       [6.0, 3.4, 4.5, 1.6, 'versicolor'],\n",
       "       [6.7, 3.1, 4.7, 1.5, 'versicolor'],\n",
       "       [6.3, 2.3, 4.4, 1.3, 'versicolor'],\n",
       "       [5.6, 3.0, 4.1, 1.3, 'versicolor'],\n",
       "       [5.5, 2.5, 4.0, 1.3, 'versicolor'],\n",
       "       [5.5, 2.6, 4.4, 1.2, 'versicolor'],\n",
       "       [6.1, 3.0, 4.6, 1.4, 'versicolor'],\n",
       "       [5.8, 2.6, 4.0, 1.2, 'versicolor'],\n",
       "       [5.0, 2.3, 3.3, 1.0, 'versicolor'],\n",
       "       [5.6, 2.7, 4.2, 1.3, 'versicolor'],\n",
       "       [5.7, 3.0, 4.2, 1.2, 'versicolor'],\n",
       "       [5.7, 2.9, 4.2, 1.3, 'versicolor'],\n",
       "       [6.2, 2.9, 4.3, 1.3, 'versicolor'],\n",
       "       [5.1, 2.5, 3.0, 1.1, 'versicolor'],\n",
       "       [5.7, 2.8, 4.1, 1.3, 'versicolor'],\n",
       "       [6.3, 3.3, 6.0, 2.5, 'virginica'],\n",
       "       [5.8, 2.7, 5.1, 1.9, 'virginica'],\n",
       "       [7.1, 3.0, 5.9, 2.1, 'virginica'],\n",
       "       [6.3, 2.9, 5.6, 1.8, 'virginica'],\n",
       "       [6.5, 3.0, 5.8, 2.2, 'virginica'],\n",
       "       [7.6, 3.0, 6.6, 2.1, 'virginica'],\n",
       "       [4.9, 2.5, 4.5, 1.7, 'virginica'],\n",
       "       [7.3, 2.9, 6.3, 1.8, 'virginica'],\n",
       "       [6.7, 2.5, 5.8, 1.8, 'virginica'],\n",
       "       [7.2, 3.6, 6.1, 2.5, 'virginica'],\n",
       "       [6.5, 3.2, 5.1, 2.0, 'virginica'],\n",
       "       [6.4, 2.7, 5.3, 1.9, 'virginica'],\n",
       "       [6.8, 3.0, 5.5, 2.1, 'virginica'],\n",
       "       [5.7, 2.5, 5.0, 2.0, 'virginica'],\n",
       "       [5.8, 2.8, 5.1, 2.4, 'virginica'],\n",
       "       [6.4, 3.2, 5.3, 2.3, 'virginica'],\n",
       "       [6.5, 3.0, 5.5, 1.8, 'virginica'],\n",
       "       [7.7, 3.8, 6.7, 2.2, 'virginica'],\n",
       "       [7.7, 2.6, 6.9, 2.3, 'virginica'],\n",
       "       [6.0, 2.2, 5.0, 1.5, 'virginica'],\n",
       "       [6.9, 3.2, 5.7, 2.3, 'virginica'],\n",
       "       [5.6, 2.8, 4.9, 2.0, 'virginica'],\n",
       "       [7.7, 2.8, 6.7, 2.0, 'virginica'],\n",
       "       [6.3, 2.7, 4.9, 1.8, 'virginica'],\n",
       "       [6.7, 3.3, 5.7, 2.1, 'virginica'],\n",
       "       [7.2, 3.2, 6.0, 1.8, 'virginica'],\n",
       "       [6.2, 2.8, 4.8, 1.8, 'virginica'],\n",
       "       [6.1, 3.0, 4.9, 1.8, 'virginica'],\n",
       "       [6.4, 2.8, 5.6, 2.1, 'virginica'],\n",
       "       [7.2, 3.0, 5.8, 1.6, 'virginica'],\n",
       "       [7.4, 2.8, 6.1, 1.9, 'virginica'],\n",
       "       [7.9, 3.8, 6.4, 2.0, 'virginica'],\n",
       "       [6.4, 2.8, 5.6, 2.2, 'virginica'],\n",
       "       [6.3, 2.8, 5.1, 1.5, 'virginica'],\n",
       "       [6.1, 2.6, 5.6, 1.4, 'virginica'],\n",
       "       [7.7, 3.0, 6.1, 2.3, 'virginica'],\n",
       "       [6.3, 3.4, 5.6, 2.4, 'virginica'],\n",
       "       [6.4, 3.1, 5.5, 1.8, 'virginica'],\n",
       "       [6.0, 3.0, 4.8, 1.8, 'virginica'],\n",
       "       [6.9, 3.1, 5.4, 2.1, 'virginica'],\n",
       "       [6.7, 3.1, 5.6, 2.4, 'virginica'],\n",
       "       [6.9, 3.1, 5.1, 2.3, 'virginica'],\n",
       "       [5.8, 2.7, 5.1, 1.9, 'virginica'],\n",
       "       [6.8, 3.2, 5.9, 2.3, 'virginica'],\n",
       "       [6.7, 3.3, 5.7, 2.5, 'virginica'],\n",
       "       [6.7, 3.0, 5.2, 2.3, 'virginica'],\n",
       "       [6.3, 2.5, 5.0, 1.9, 'virginica'],\n",
       "       [6.5, 3.0, 5.2, 2.0, 'virginica'],\n",
       "       [6.2, 3.4, 5.4, 2.3, 'virginica'],\n",
       "       [5.9, 3.0, 5.1, 1.8, 'virginica']], dtype=object)"
      ]
     },
     "execution_count": 64,
     "metadata": {},
     "output_type": "execute_result"
    }
   ],
   "source": [
    "df4.values # converts dataset into array of list "
   ]
  },
  {
   "cell_type": "code",
   "execution_count": 65,
   "id": "9d11a61e-41fb-49ab-80f6-1001468c9b5e",
   "metadata": {},
   "outputs": [
    {
     "data": {
      "text/html": [
       "<div>\n",
       "<style scoped>\n",
       "    .dataframe tbody tr th:only-of-type {\n",
       "        vertical-align: middle;\n",
       "    }\n",
       "\n",
       "    .dataframe tbody tr th {\n",
       "        vertical-align: top;\n",
       "    }\n",
       "\n",
       "    .dataframe thead th {\n",
       "        text-align: right;\n",
       "    }\n",
       "</style>\n",
       "<table border=\"1\" class=\"dataframe\">\n",
       "  <thead>\n",
       "    <tr style=\"text-align: right;\">\n",
       "      <th></th>\n",
       "      <th>0</th>\n",
       "      <th>1</th>\n",
       "      <th>2</th>\n",
       "      <th>3</th>\n",
       "      <th>4</th>\n",
       "      <th>5</th>\n",
       "      <th>6</th>\n",
       "      <th>7</th>\n",
       "      <th>8</th>\n",
       "      <th>9</th>\n",
       "      <th>...</th>\n",
       "      <th>140</th>\n",
       "      <th>141</th>\n",
       "      <th>142</th>\n",
       "      <th>143</th>\n",
       "      <th>144</th>\n",
       "      <th>145</th>\n",
       "      <th>146</th>\n",
       "      <th>147</th>\n",
       "      <th>148</th>\n",
       "      <th>149</th>\n",
       "    </tr>\n",
       "  </thead>\n",
       "  <tbody>\n",
       "    <tr>\n",
       "      <th>sepal_length</th>\n",
       "      <td>5.1</td>\n",
       "      <td>4.9</td>\n",
       "      <td>4.7</td>\n",
       "      <td>4.6</td>\n",
       "      <td>5.0</td>\n",
       "      <td>5.4</td>\n",
       "      <td>4.6</td>\n",
       "      <td>5.0</td>\n",
       "      <td>4.4</td>\n",
       "      <td>4.9</td>\n",
       "      <td>...</td>\n",
       "      <td>6.7</td>\n",
       "      <td>6.9</td>\n",
       "      <td>5.8</td>\n",
       "      <td>6.8</td>\n",
       "      <td>6.7</td>\n",
       "      <td>6.7</td>\n",
       "      <td>6.3</td>\n",
       "      <td>6.5</td>\n",
       "      <td>6.2</td>\n",
       "      <td>5.9</td>\n",
       "    </tr>\n",
       "    <tr>\n",
       "      <th>sepal_width</th>\n",
       "      <td>3.5</td>\n",
       "      <td>3.0</td>\n",
       "      <td>3.2</td>\n",
       "      <td>3.1</td>\n",
       "      <td>3.6</td>\n",
       "      <td>3.9</td>\n",
       "      <td>3.4</td>\n",
       "      <td>3.4</td>\n",
       "      <td>2.9</td>\n",
       "      <td>3.1</td>\n",
       "      <td>...</td>\n",
       "      <td>3.1</td>\n",
       "      <td>3.1</td>\n",
       "      <td>2.7</td>\n",
       "      <td>3.2</td>\n",
       "      <td>3.3</td>\n",
       "      <td>3.0</td>\n",
       "      <td>2.5</td>\n",
       "      <td>3.0</td>\n",
       "      <td>3.4</td>\n",
       "      <td>3.0</td>\n",
       "    </tr>\n",
       "    <tr>\n",
       "      <th>petal_length</th>\n",
       "      <td>1.4</td>\n",
       "      <td>1.4</td>\n",
       "      <td>1.3</td>\n",
       "      <td>1.5</td>\n",
       "      <td>1.4</td>\n",
       "      <td>1.7</td>\n",
       "      <td>1.4</td>\n",
       "      <td>1.5</td>\n",
       "      <td>1.4</td>\n",
       "      <td>1.5</td>\n",
       "      <td>...</td>\n",
       "      <td>5.6</td>\n",
       "      <td>5.1</td>\n",
       "      <td>5.1</td>\n",
       "      <td>5.9</td>\n",
       "      <td>5.7</td>\n",
       "      <td>5.2</td>\n",
       "      <td>5.0</td>\n",
       "      <td>5.2</td>\n",
       "      <td>5.4</td>\n",
       "      <td>5.1</td>\n",
       "    </tr>\n",
       "    <tr>\n",
       "      <th>petal_width</th>\n",
       "      <td>0.2</td>\n",
       "      <td>0.2</td>\n",
       "      <td>0.2</td>\n",
       "      <td>0.2</td>\n",
       "      <td>0.2</td>\n",
       "      <td>0.4</td>\n",
       "      <td>0.3</td>\n",
       "      <td>0.2</td>\n",
       "      <td>0.2</td>\n",
       "      <td>0.1</td>\n",
       "      <td>...</td>\n",
       "      <td>2.4</td>\n",
       "      <td>2.3</td>\n",
       "      <td>1.9</td>\n",
       "      <td>2.3</td>\n",
       "      <td>2.5</td>\n",
       "      <td>2.3</td>\n",
       "      <td>1.9</td>\n",
       "      <td>2.0</td>\n",
       "      <td>2.3</td>\n",
       "      <td>1.8</td>\n",
       "    </tr>\n",
       "    <tr>\n",
       "      <th>species</th>\n",
       "      <td>setosa</td>\n",
       "      <td>setosa</td>\n",
       "      <td>setosa</td>\n",
       "      <td>setosa</td>\n",
       "      <td>setosa</td>\n",
       "      <td>setosa</td>\n",
       "      <td>setosa</td>\n",
       "      <td>setosa</td>\n",
       "      <td>setosa</td>\n",
       "      <td>setosa</td>\n",
       "      <td>...</td>\n",
       "      <td>virginica</td>\n",
       "      <td>virginica</td>\n",
       "      <td>virginica</td>\n",
       "      <td>virginica</td>\n",
       "      <td>virginica</td>\n",
       "      <td>virginica</td>\n",
       "      <td>virginica</td>\n",
       "      <td>virginica</td>\n",
       "      <td>virginica</td>\n",
       "      <td>virginica</td>\n",
       "    </tr>\n",
       "  </tbody>\n",
       "</table>\n",
       "<p>5 rows × 150 columns</p>\n",
       "</div>"
      ],
      "text/plain": [
       "                 0       1       2       3       4       5       6       7    \\\n",
       "sepal_length     5.1     4.9     4.7     4.6     5.0     5.4     4.6     5.0   \n",
       "sepal_width      3.5     3.0     3.2     3.1     3.6     3.9     3.4     3.4   \n",
       "petal_length     1.4     1.4     1.3     1.5     1.4     1.7     1.4     1.5   \n",
       "petal_width      0.2     0.2     0.2     0.2     0.2     0.4     0.3     0.2   \n",
       "species       setosa  setosa  setosa  setosa  setosa  setosa  setosa  setosa   \n",
       "\n",
       "                 8       9    ...        140        141        142        143  \\\n",
       "sepal_length     4.4     4.9  ...        6.7        6.9        5.8        6.8   \n",
       "sepal_width      2.9     3.1  ...        3.1        3.1        2.7        3.2   \n",
       "petal_length     1.4     1.5  ...        5.6        5.1        5.1        5.9   \n",
       "petal_width      0.2     0.1  ...        2.4        2.3        1.9        2.3   \n",
       "species       setosa  setosa  ...  virginica  virginica  virginica  virginica   \n",
       "\n",
       "                    144        145        146        147        148        149  \n",
       "sepal_length        6.7        6.7        6.3        6.5        6.2        5.9  \n",
       "sepal_width         3.3        3.0        2.5        3.0        3.4        3.0  \n",
       "petal_length        5.7        5.2        5.0        5.2        5.4        5.1  \n",
       "petal_width         2.5        2.3        1.9        2.0        2.3        1.8  \n",
       "species       virginica  virginica  virginica  virginica  virginica  virginica  \n",
       "\n",
       "[5 rows x 150 columns]"
      ]
     },
     "execution_count": 65,
     "metadata": {},
     "output_type": "execute_result"
    }
   ],
   "source": [
    "df4.T, #converts columns into rows"
   ]
  },
  {
   "cell_type": "code",
   "execution_count": 66,
   "id": "9210a6b1-5eab-43f8-bde3-b6d24403948b",
   "metadata": {},
   "outputs": [
    {
     "data": {
      "text/html": [
       "<div>\n",
       "<style scoped>\n",
       "    .dataframe tbody tr th:only-of-type {\n",
       "        vertical-align: middle;\n",
       "    }\n",
       "\n",
       "    .dataframe tbody tr th {\n",
       "        vertical-align: top;\n",
       "    }\n",
       "\n",
       "    .dataframe thead th {\n",
       "        text-align: right;\n",
       "    }\n",
       "</style>\n",
       "<table border=\"1\" class=\"dataframe\">\n",
       "  <thead>\n",
       "    <tr style=\"text-align: right;\">\n",
       "      <th></th>\n",
       "      <th>sepal_length</th>\n",
       "      <th>sepal_width</th>\n",
       "      <th>petal_length</th>\n",
       "      <th>petal_width</th>\n",
       "      <th>species</th>\n",
       "    </tr>\n",
       "  </thead>\n",
       "  <tbody>\n",
       "    <tr>\n",
       "      <th>0</th>\n",
       "      <td>5.1</td>\n",
       "      <td>3.5</td>\n",
       "      <td>1.4</td>\n",
       "      <td>0.2</td>\n",
       "      <td>setosa</td>\n",
       "    </tr>\n",
       "    <tr>\n",
       "      <th>1</th>\n",
       "      <td>4.9</td>\n",
       "      <td>3.0</td>\n",
       "      <td>1.4</td>\n",
       "      <td>0.2</td>\n",
       "      <td>setosa</td>\n",
       "    </tr>\n",
       "    <tr>\n",
       "      <th>2</th>\n",
       "      <td>4.7</td>\n",
       "      <td>3.2</td>\n",
       "      <td>1.3</td>\n",
       "      <td>0.2</td>\n",
       "      <td>setosa</td>\n",
       "    </tr>\n",
       "    <tr>\n",
       "      <th>3</th>\n",
       "      <td>4.6</td>\n",
       "      <td>3.1</td>\n",
       "      <td>1.5</td>\n",
       "      <td>0.2</td>\n",
       "      <td>setosa</td>\n",
       "    </tr>\n",
       "    <tr>\n",
       "      <th>4</th>\n",
       "      <td>5.0</td>\n",
       "      <td>3.6</td>\n",
       "      <td>1.4</td>\n",
       "      <td>0.2</td>\n",
       "      <td>setosa</td>\n",
       "    </tr>\n",
       "  </tbody>\n",
       "</table>\n",
       "</div>"
      ],
      "text/plain": [
       "   sepal_length  sepal_width  petal_length  petal_width species\n",
       "0           5.1          3.5           1.4          0.2  setosa\n",
       "1           4.9          3.0           1.4          0.2  setosa\n",
       "2           4.7          3.2           1.3          0.2  setosa\n",
       "3           4.6          3.1           1.5          0.2  setosa\n",
       "4           5.0          3.6           1.4          0.2  setosa"
      ]
     },
     "execution_count": 66,
     "metadata": {},
     "output_type": "execute_result"
    }
   ],
   "source": [
    "df4.head() #first five rows of the information (default)"
   ]
  },
  {
   "cell_type": "code",
   "execution_count": 67,
   "id": "15184e4c-4c03-4fd9-b8df-36f9141d90ff",
   "metadata": {},
   "outputs": [
    {
     "data": {
      "text/html": [
       "<div>\n",
       "<style scoped>\n",
       "    .dataframe tbody tr th:only-of-type {\n",
       "        vertical-align: middle;\n",
       "    }\n",
       "\n",
       "    .dataframe tbody tr th {\n",
       "        vertical-align: top;\n",
       "    }\n",
       "\n",
       "    .dataframe thead th {\n",
       "        text-align: right;\n",
       "    }\n",
       "</style>\n",
       "<table border=\"1\" class=\"dataframe\">\n",
       "  <thead>\n",
       "    <tr style=\"text-align: right;\">\n",
       "      <th></th>\n",
       "      <th>sepal_length</th>\n",
       "      <th>sepal_width</th>\n",
       "      <th>petal_length</th>\n",
       "      <th>petal_width</th>\n",
       "      <th>species</th>\n",
       "    </tr>\n",
       "  </thead>\n",
       "  <tbody>\n",
       "    <tr>\n",
       "      <th>0</th>\n",
       "      <td>5.1</td>\n",
       "      <td>3.5</td>\n",
       "      <td>1.4</td>\n",
       "      <td>0.2</td>\n",
       "      <td>setosa</td>\n",
       "    </tr>\n",
       "    <tr>\n",
       "      <th>1</th>\n",
       "      <td>4.9</td>\n",
       "      <td>3.0</td>\n",
       "      <td>1.4</td>\n",
       "      <td>0.2</td>\n",
       "      <td>setosa</td>\n",
       "    </tr>\n",
       "    <tr>\n",
       "      <th>2</th>\n",
       "      <td>4.7</td>\n",
       "      <td>3.2</td>\n",
       "      <td>1.3</td>\n",
       "      <td>0.2</td>\n",
       "      <td>setosa</td>\n",
       "    </tr>\n",
       "    <tr>\n",
       "      <th>3</th>\n",
       "      <td>4.6</td>\n",
       "      <td>3.1</td>\n",
       "      <td>1.5</td>\n",
       "      <td>0.2</td>\n",
       "      <td>setosa</td>\n",
       "    </tr>\n",
       "    <tr>\n",
       "      <th>4</th>\n",
       "      <td>5.0</td>\n",
       "      <td>3.6</td>\n",
       "      <td>1.4</td>\n",
       "      <td>0.2</td>\n",
       "      <td>setosa</td>\n",
       "    </tr>\n",
       "    <tr>\n",
       "      <th>5</th>\n",
       "      <td>5.4</td>\n",
       "      <td>3.9</td>\n",
       "      <td>1.7</td>\n",
       "      <td>0.4</td>\n",
       "      <td>setosa</td>\n",
       "    </tr>\n",
       "    <tr>\n",
       "      <th>6</th>\n",
       "      <td>4.6</td>\n",
       "      <td>3.4</td>\n",
       "      <td>1.4</td>\n",
       "      <td>0.3</td>\n",
       "      <td>setosa</td>\n",
       "    </tr>\n",
       "    <tr>\n",
       "      <th>7</th>\n",
       "      <td>5.0</td>\n",
       "      <td>3.4</td>\n",
       "      <td>1.5</td>\n",
       "      <td>0.2</td>\n",
       "      <td>setosa</td>\n",
       "    </tr>\n",
       "    <tr>\n",
       "      <th>8</th>\n",
       "      <td>4.4</td>\n",
       "      <td>2.9</td>\n",
       "      <td>1.4</td>\n",
       "      <td>0.2</td>\n",
       "      <td>setosa</td>\n",
       "    </tr>\n",
       "    <tr>\n",
       "      <th>9</th>\n",
       "      <td>4.9</td>\n",
       "      <td>3.1</td>\n",
       "      <td>1.5</td>\n",
       "      <td>0.1</td>\n",
       "      <td>setosa</td>\n",
       "    </tr>\n",
       "  </tbody>\n",
       "</table>\n",
       "</div>"
      ],
      "text/plain": [
       "   sepal_length  sepal_width  petal_length  petal_width species\n",
       "0           5.1          3.5           1.4          0.2  setosa\n",
       "1           4.9          3.0           1.4          0.2  setosa\n",
       "2           4.7          3.2           1.3          0.2  setosa\n",
       "3           4.6          3.1           1.5          0.2  setosa\n",
       "4           5.0          3.6           1.4          0.2  setosa\n",
       "5           5.4          3.9           1.7          0.4  setosa\n",
       "6           4.6          3.4           1.4          0.3  setosa\n",
       "7           5.0          3.4           1.5          0.2  setosa\n",
       "8           4.4          2.9           1.4          0.2  setosa\n",
       "9           4.9          3.1           1.5          0.1  setosa"
      ]
     },
     "execution_count": 67,
     "metadata": {},
     "output_type": "execute_result"
    }
   ],
   "source": [
    "df4.head(10) #first 10 rows of the information"
   ]
  },
  {
   "cell_type": "code",
   "execution_count": 68,
   "id": "c080c20b-e653-479b-993e-bd0c8b7f62fd",
   "metadata": {},
   "outputs": [
    {
     "data": {
      "text/html": [
       "<div>\n",
       "<style scoped>\n",
       "    .dataframe tbody tr th:only-of-type {\n",
       "        vertical-align: middle;\n",
       "    }\n",
       "\n",
       "    .dataframe tbody tr th {\n",
       "        vertical-align: top;\n",
       "    }\n",
       "\n",
       "    .dataframe thead th {\n",
       "        text-align: right;\n",
       "    }\n",
       "</style>\n",
       "<table border=\"1\" class=\"dataframe\">\n",
       "  <thead>\n",
       "    <tr style=\"text-align: right;\">\n",
       "      <th></th>\n",
       "      <th>sepal_length</th>\n",
       "      <th>sepal_width</th>\n",
       "      <th>petal_length</th>\n",
       "      <th>petal_width</th>\n",
       "      <th>species</th>\n",
       "    </tr>\n",
       "  </thead>\n",
       "  <tbody>\n",
       "    <tr>\n",
       "      <th>140</th>\n",
       "      <td>6.7</td>\n",
       "      <td>3.1</td>\n",
       "      <td>5.6</td>\n",
       "      <td>2.4</td>\n",
       "      <td>virginica</td>\n",
       "    </tr>\n",
       "    <tr>\n",
       "      <th>141</th>\n",
       "      <td>6.9</td>\n",
       "      <td>3.1</td>\n",
       "      <td>5.1</td>\n",
       "      <td>2.3</td>\n",
       "      <td>virginica</td>\n",
       "    </tr>\n",
       "    <tr>\n",
       "      <th>142</th>\n",
       "      <td>5.8</td>\n",
       "      <td>2.7</td>\n",
       "      <td>5.1</td>\n",
       "      <td>1.9</td>\n",
       "      <td>virginica</td>\n",
       "    </tr>\n",
       "    <tr>\n",
       "      <th>143</th>\n",
       "      <td>6.8</td>\n",
       "      <td>3.2</td>\n",
       "      <td>5.9</td>\n",
       "      <td>2.3</td>\n",
       "      <td>virginica</td>\n",
       "    </tr>\n",
       "    <tr>\n",
       "      <th>144</th>\n",
       "      <td>6.7</td>\n",
       "      <td>3.3</td>\n",
       "      <td>5.7</td>\n",
       "      <td>2.5</td>\n",
       "      <td>virginica</td>\n",
       "    </tr>\n",
       "    <tr>\n",
       "      <th>145</th>\n",
       "      <td>6.7</td>\n",
       "      <td>3.0</td>\n",
       "      <td>5.2</td>\n",
       "      <td>2.3</td>\n",
       "      <td>virginica</td>\n",
       "    </tr>\n",
       "    <tr>\n",
       "      <th>146</th>\n",
       "      <td>6.3</td>\n",
       "      <td>2.5</td>\n",
       "      <td>5.0</td>\n",
       "      <td>1.9</td>\n",
       "      <td>virginica</td>\n",
       "    </tr>\n",
       "    <tr>\n",
       "      <th>147</th>\n",
       "      <td>6.5</td>\n",
       "      <td>3.0</td>\n",
       "      <td>5.2</td>\n",
       "      <td>2.0</td>\n",
       "      <td>virginica</td>\n",
       "    </tr>\n",
       "    <tr>\n",
       "      <th>148</th>\n",
       "      <td>6.2</td>\n",
       "      <td>3.4</td>\n",
       "      <td>5.4</td>\n",
       "      <td>2.3</td>\n",
       "      <td>virginica</td>\n",
       "    </tr>\n",
       "    <tr>\n",
       "      <th>149</th>\n",
       "      <td>5.9</td>\n",
       "      <td>3.0</td>\n",
       "      <td>5.1</td>\n",
       "      <td>1.8</td>\n",
       "      <td>virginica</td>\n",
       "    </tr>\n",
       "  </tbody>\n",
       "</table>\n",
       "</div>"
      ],
      "text/plain": [
       "     sepal_length  sepal_width  petal_length  petal_width    species\n",
       "140           6.7          3.1           5.6          2.4  virginica\n",
       "141           6.9          3.1           5.1          2.3  virginica\n",
       "142           5.8          2.7           5.1          1.9  virginica\n",
       "143           6.8          3.2           5.9          2.3  virginica\n",
       "144           6.7          3.3           5.7          2.5  virginica\n",
       "145           6.7          3.0           5.2          2.3  virginica\n",
       "146           6.3          2.5           5.0          1.9  virginica\n",
       "147           6.5          3.0           5.2          2.0  virginica\n",
       "148           6.2          3.4           5.4          2.3  virginica\n",
       "149           5.9          3.0           5.1          1.8  virginica"
      ]
     },
     "execution_count": 68,
     "metadata": {},
     "output_type": "execute_result"
    }
   ],
   "source": [
    "df4.tail(10) #last 10 rows of the information"
   ]
  },
  {
   "cell_type": "code",
   "execution_count": 75,
   "id": "fbc7b968-1ce6-4e08-8a6d-f469a7a3ea77",
   "metadata": {},
   "outputs": [
    {
     "name": "stdout",
     "output_type": "stream",
     "text": [
      "Index based slicing of DataSet\n",
      "          1   2\n",
      "3  ajinkya  TE\n",
      "4     asha  TE\n",
      "5   ayesha  BE\n",
      "6     amar  BE\n",
      "7    amita  BE\n"
     ]
    }
   ],
   "source": [
    "xx = df.iloc[3:8, 1:3]\n",
    "print('Index based slicing of DataSet\\n', xx)"
   ]
  },
  {
   "cell_type": "code",
   "execution_count": 76,
   "id": "748c2053-e957-4726-bcc0-babab796dbfe",
   "metadata": {},
   "outputs": [
    {
     "name": "stdout",
     "output_type": "stream",
     "text": [
      "Index based slicing of DataSet\n",
      "          1   2\n",
      "3  ajinkya  TE\n",
      "4     asha  TE\n",
      "5   ayesha  BE\n",
      "6     amar  BE\n",
      "7    amita  BE\n",
      "8     amol  TE\n",
      "9    anmol  BE\n"
     ]
    }
   ],
   "source": [
    "xx = df.iloc[3:, 1:3] #starting from 3rd row till end and columns from 1 to 3\n",
    "print('Index based slicing of DataSet\\n', xx)"
   ]
  },
  {
   "cell_type": "code",
   "execution_count": 77,
   "id": "453def21-0664-41f3-ae8c-c0443523f181",
   "metadata": {},
   "outputs": [
    {
     "name": "stdout",
     "output_type": "stream",
     "text": [
      "Index based slicing of DataSet\n",
      "          1   2      3   4\n",
      "3  ajinkya  TE  69.66  20\n",
      "4     asha  TE  63.28  20\n",
      "5   ayesha  BE  49.55  20\n",
      "6     amar  BE  65.34  19\n",
      "7    amita  BE  68.33  23\n",
      "8     amol  TE  56.75  20\n",
      "9    anmol  BE  78.66  21\n"
     ]
    }
   ],
   "source": [
    "xx = df.iloc[3:, 1:] #starting from 3rd row till end and columns from 1 till end\n",
    "print('Index based slicing of DataSet\\n', xx)"
   ]
  },
  {
   "cell_type": "code",
   "execution_count": 78,
   "id": "6aee09e1-512b-4ae7-9dda-2fc1304bda44",
   "metadata": {},
   "outputs": [
    {
     "name": "stdout",
     "output_type": "stream",
     "text": [
      "Index based slicing of DataSet\n",
      "     0        1   2      3   4\n",
      "3   4  ajinkya  TE  69.66  20\n",
      "5   6   ayesha  BE  49.55  20\n",
      "8   9     amol  TE  56.75  20\n",
      "9  10    anmol  BE  78.66  21\n"
     ]
    }
   ],
   "source": [
    "xx = df.iloc[[3,5,8,9], :] #Random selection of the rows and all the columns\n",
    "print('Index based slicing of DataSet\\n', xx)"
   ]
  },
  {
   "cell_type": "code",
   "execution_count": 79,
   "id": "bc58f27d-2c81-4717-81f2-18cd8841f1a4",
   "metadata": {},
   "outputs": [
    {
     "name": "stdout",
     "output_type": "stream",
     "text": [
      "Index based slicing of DataSet\n",
      "          1      3   4\n",
      "3  ajinkya  69.66  20\n",
      "5   ayesha  49.55  20\n",
      "8     amol  56.75  20\n",
      "9    anmol  78.66  21\n"
     ]
    }
   ],
   "source": [
    "xx = df.iloc[[3,5,8,9], [1,3,4]] #Random selection of the rows and columns\n",
    "print('Index based slicing of DataSet\\n', xx)"
   ]
  },
  {
   "cell_type": "code",
   "execution_count": 80,
   "id": "d542434b-efc3-474b-8a8d-0a9daf40d531",
   "metadata": {},
   "outputs": [
    {
     "name": "stdout",
     "output_type": "stream",
     "text": [
      "Index based slicing of DataSet\n",
      " 0        5\n",
      "1     asha\n",
      "2       TE\n",
      "3    63.28\n",
      "4       20\n",
      "Name: 4, dtype: object\n"
     ]
    }
   ],
   "source": [
    "xx = df.iloc[4, :] #Random selection of 4th row and all the columns\n",
    "print('Index based slicing of DataSet\\n', xx)"
   ]
  },
  {
   "cell_type": "code",
   "execution_count": 81,
   "id": "55d1c93c-254d-4052-a47e-68408361e56d",
   "metadata": {},
   "outputs": [
    {
     "name": "stdout",
     "output_type": "stream",
     "text": [
      "Index based slicing of DataSet\n",
      " 0       anil\n",
      "1       amit\n",
      "2     aniket\n",
      "3    ajinkya\n",
      "4       asha\n",
      "5     ayesha\n",
      "6       amar\n",
      "7      amita\n",
      "8       amol\n",
      "9      anmol\n",
      "Name: 1, dtype: object\n"
     ]
    }
   ],
   "source": [
    "xx = df.iloc[ :, 1] #Random selection of all row and 1st column\n",
    "print('Index based slicing of DataSet\\n', xx)"
   ]
  },
  {
   "cell_type": "code",
   "execution_count": 82,
   "id": "44a1832c-004a-4e47-8fb2-0724016418e1",
   "metadata": {},
   "outputs": [
    {
     "name": "stdout",
     "output_type": "stream",
     "text": [
      "Index based slicing of DataSet\n",
      " ajinkya\n"
     ]
    }
   ],
   "source": [
    "xx = df.iloc[3,1] #Random selection of a row and a column\n",
    "print('Index based slicing of DataSet\\n', xx)"
   ]
  },
  {
   "cell_type": "code",
   "execution_count": 98,
   "id": "5088dfe9-0fe4-4803-b4e4-2f903d671e33",
   "metadata": {},
   "outputs": [
    {
     "name": "stdout",
     "output_type": "stream",
     "text": [
      "label slicing of DataSet\n",
      "       name  marks  age\n",
      "0     anil  56.77   22\n",
      "1     amit  59.77   21\n",
      "2   aniket  76.88   19\n",
      "3  ajinkya  69.66   20\n",
      "4     asha  63.28   20\n",
      "5   ayesha  49.55   20\n",
      "6     amar  65.34   19\n",
      "7    amita  68.33   23\n",
      "8     amol  56.75   20\n",
      "9    anmol  78.66   21\n"
     ]
    }
   ],
   "source": [
    "# label based slicing\n",
    "xx1 = df[['name', 'marks','age']]\n",
    "print('label slicing of DataSet\\n', xx1)"
   ]
  },
  {
   "cell_type": "code",
   "execution_count": 101,
   "id": "7afca737-6aed-44e5-9d3c-a3cdc6e63eeb",
   "metadata": {},
   "outputs": [
    {
     "name": "stdout",
     "output_type": "stream",
     "text": [
      "label slicing of DataSet\n",
      "       name  marks  age\n",
      "0     anil  56.77   22\n",
      "1     amit  59.77   21\n",
      "2   aniket  76.88   19\n",
      "3  ajinkya  69.66   20\n",
      "4     asha  63.28   20\n",
      "5   ayesha  49.55   20\n",
      "6     amar  65.34   19\n",
      "7    amita  68.33   23\n",
      "8     amol  56.75   20\n",
      "9    anmol  78.66   21\n"
     ]
    }
   ],
   "source": [
    "# label based slicing\n",
    "xx1 = df.loc[:, ['name', 'marks', 'age']]\n",
    "print('label slicing of DataSet\\n', xx1)"
   ]
  },
  {
   "cell_type": "code",
   "execution_count": 95,
   "id": "71814d90-41dd-4165-bdc1-e0ded514c6fa",
   "metadata": {},
   "outputs": [
    {
     "data": {
      "text/plain": [
       "array(['anil', 'amit', 'aniket', 'ajinkya', 'asha', 'ayesha', 'amar',\n",
       "       'amita', 'amol', 'anmol'], dtype=object)"
      ]
     },
     "execution_count": 95,
     "metadata": {},
     "output_type": "execute_result"
    }
   ],
   "source": [
    "df.name.values"
   ]
  },
  {
   "cell_type": "code",
   "execution_count": 102,
   "id": "858ff4ac-eea3-4b5b-8a30-0d93b1dc062b",
   "metadata": {},
   "outputs": [
    {
     "name": "stdout",
     "output_type": "stream",
     "text": [
      "label slicing of DataSet\n",
      "    roll     name class  marks  age\n",
      "0     1     anil    TE  56.77   22\n",
      "1     2     amit    TE  59.77   21\n",
      "2     3   aniket    BE  76.88   19\n",
      "3     4  ajinkya    TE  69.66   20\n",
      "4     5     asha    TE  63.28   20\n",
      "6     7     amar    BE  65.34   19\n",
      "7     8    amita    BE  68.33   23\n",
      "8     9     amol    TE  56.75   20\n",
      "9    10    anmol    BE  78.66   21\n"
     ]
    }
   ],
   "source": [
    "xx2 = df.drop(5) # 5 index is dropped from row\n",
    "print('label slicing of DataSet\\n', xx2)"
   ]
  },
  {
   "cell_type": "code",
   "execution_count": 103,
   "id": "77ff9cc0-2163-4477-a2d5-be09e2a42d2d",
   "metadata": {},
   "outputs": [
    {
     "name": "stdout",
     "output_type": "stream",
     "text": [
      "label slicing of DataSet\n",
      "    roll     name class  marks  age\n",
      "0     1     anil    TE  56.77   22\n",
      "1     2     amit    TE  59.77   21\n",
      "2     3   aniket    BE  76.88   19\n",
      "3     4  ajinkya    TE  69.66   20\n",
      "4     5     asha    TE  63.28   20\n",
      "8     9     amol    TE  56.75   20\n",
      "9    10    anmol    BE  78.66   21\n"
     ]
    }
   ],
   "source": [
    "xx2 = df.drop([5, 6, 7]) # 5 6 7index are dropped from row\n",
    "print('label slicing of DataSet\\n', xx2)"
   ]
  },
  {
   "cell_type": "code",
   "execution_count": 104,
   "id": "333f4719-8d5f-4cea-910a-043be67dd217",
   "metadata": {},
   "outputs": [
    {
     "name": "stdout",
     "output_type": "stream",
     "text": [
      "label slicing of DataSet\n",
      "    roll     name  marks  age\n",
      "0     1     anil  56.77   22\n",
      "1     2     amit  59.77   21\n",
      "2     3   aniket  76.88   19\n",
      "3     4  ajinkya  69.66   20\n",
      "4     5     asha  63.28   20\n",
      "5     6   ayesha  49.55   20\n",
      "6     7     amar  65.34   19\n",
      "7     8    amita  68.33   23\n",
      "8     9     amol  56.75   20\n",
      "9    10    anmol  78.66   21\n"
     ]
    }
   ],
   "source": [
    "xx2 = df.drop('class', axis = 1) # class index is dropped from column\n",
    "print('label slicing of DataSet\\n', xx2)"
   ]
  },
  {
   "cell_type": "code",
   "execution_count": 105,
   "id": "a095f6f2-63ee-4bad-8228-ef17e05c4a79",
   "metadata": {},
   "outputs": [
    {
     "name": "stdout",
     "output_type": "stream",
     "text": [
      "label slicing of DataSet\n",
      "    roll     name  marks\n",
      "0     1     anil  56.77\n",
      "1     2     amit  59.77\n",
      "2     3   aniket  76.88\n",
      "3     4  ajinkya  69.66\n",
      "4     5     asha  63.28\n",
      "5     6   ayesha  49.55\n",
      "6     7     amar  65.34\n",
      "7     8    amita  68.33\n",
      "8     9     amol  56.75\n",
      "9    10    anmol  78.66\n"
     ]
    }
   ],
   "source": [
    "xx2 = df.drop(['class', 'age'], axis = 1) # class index is dropped from column\n",
    "print('label slicing of DataSet\\n', xx2)"
   ]
  },
  {
   "cell_type": "code",
   "execution_count": 106,
   "id": "ee70b0e6-7e91-4e9b-886e-4456b9954d9f",
   "metadata": {},
   "outputs": [
    {
     "data": {
      "text/plain": [
       "(10, 3)"
      ]
     },
     "execution_count": 106,
     "metadata": {},
     "output_type": "execute_result"
    }
   ],
   "source": [
    "xx2.shape"
   ]
  },
  {
   "cell_type": "code",
   "execution_count": null,
   "id": "c5a7e847-282d-44a7-82e5-81ce1428d998",
   "metadata": {},
   "outputs": [],
   "source": [
    "#xx2 = df.drop(['class', 'age'], axis = 1, inplace = True) # to change the new_df"
   ]
  },
  {
   "cell_type": "code",
   "execution_count": 110,
   "id": "c1ee558f-7767-46c5-a644-eff6d6d0c1b9",
   "metadata": {},
   "outputs": [
    {
     "data": {
      "text/plain": [
       "(49.55, 78.66, 64.499, 64.31, 644.9899999999999, 9.207178901994535, 10)"
      ]
     },
     "execution_count": 110,
     "metadata": {},
     "output_type": "execute_result"
    }
   ],
   "source": [
    "df['marks'].min(), df['marks'].max(), df['marks'].mean(), df['marks'].median(), df['marks'].sum(), df['marks'].std(), df['marks'].count()"
   ]
  },
  {
   "cell_type": "code",
   "execution_count": 112,
   "id": "a11c3bfa-b472-4e86-9baf-d03274933fd2",
   "metadata": {},
   "outputs": [
    {
     "name": "stdout",
     "output_type": "stream",
     "text": [
      "<class 'pandas.core.frame.DataFrame'>\n",
      "RangeIndex: 10 entries, 0 to 9\n",
      "Data columns (total 5 columns):\n",
      " #   Column  Non-Null Count  Dtype  \n",
      "---  ------  --------------  -----  \n",
      " 0   roll    10 non-null     int64  \n",
      " 1   name    10 non-null     object \n",
      " 2   class   10 non-null     object \n",
      " 3   marks   10 non-null     float64\n",
      " 4   age     10 non-null     int64  \n",
      "dtypes: float64(1), int64(2), object(2)\n",
      "memory usage: 532.0+ bytes\n"
     ]
    },
    {
     "data": {
      "text/plain": [
       "(roll     10\n",
       " name     10\n",
       " class    10\n",
       " marks    10\n",
       " age      10\n",
       " dtype: int64,\n",
       " None)"
      ]
     },
     "execution_count": 112,
     "metadata": {},
     "output_type": "execute_result"
    }
   ],
   "source": [
    "df.count(), df.info()"
   ]
  },
  {
   "cell_type": "code",
   "execution_count": 113,
   "id": "c28b5fc9-393a-4335-8fd1-0e07b11e5d12",
   "metadata": {},
   "outputs": [
    {
     "data": {
      "text/html": [
       "<div>\n",
       "<style scoped>\n",
       "    .dataframe tbody tr th:only-of-type {\n",
       "        vertical-align: middle;\n",
       "    }\n",
       "\n",
       "    .dataframe tbody tr th {\n",
       "        vertical-align: top;\n",
       "    }\n",
       "\n",
       "    .dataframe thead th {\n",
       "        text-align: right;\n",
       "    }\n",
       "</style>\n",
       "<table border=\"1\" class=\"dataframe\">\n",
       "  <thead>\n",
       "    <tr style=\"text-align: right;\">\n",
       "      <th></th>\n",
       "      <th>roll</th>\n",
       "      <th>marks</th>\n",
       "      <th>age</th>\n",
       "    </tr>\n",
       "  </thead>\n",
       "  <tbody>\n",
       "    <tr>\n",
       "      <th>count</th>\n",
       "      <td>10.00000</td>\n",
       "      <td>10.000000</td>\n",
       "      <td>10.000000</td>\n",
       "    </tr>\n",
       "    <tr>\n",
       "      <th>mean</th>\n",
       "      <td>5.50000</td>\n",
       "      <td>64.499000</td>\n",
       "      <td>20.500000</td>\n",
       "    </tr>\n",
       "    <tr>\n",
       "      <th>std</th>\n",
       "      <td>3.02765</td>\n",
       "      <td>9.207179</td>\n",
       "      <td>1.269296</td>\n",
       "    </tr>\n",
       "    <tr>\n",
       "      <th>min</th>\n",
       "      <td>1.00000</td>\n",
       "      <td>49.550000</td>\n",
       "      <td>19.000000</td>\n",
       "    </tr>\n",
       "    <tr>\n",
       "      <th>25%</th>\n",
       "      <td>3.25000</td>\n",
       "      <td>57.520000</td>\n",
       "      <td>20.000000</td>\n",
       "    </tr>\n",
       "    <tr>\n",
       "      <th>50%</th>\n",
       "      <td>5.50000</td>\n",
       "      <td>64.310000</td>\n",
       "      <td>20.000000</td>\n",
       "    </tr>\n",
       "    <tr>\n",
       "      <th>75%</th>\n",
       "      <td>7.75000</td>\n",
       "      <td>69.327500</td>\n",
       "      <td>21.000000</td>\n",
       "    </tr>\n",
       "    <tr>\n",
       "      <th>max</th>\n",
       "      <td>10.00000</td>\n",
       "      <td>78.660000</td>\n",
       "      <td>23.000000</td>\n",
       "    </tr>\n",
       "  </tbody>\n",
       "</table>\n",
       "</div>"
      ],
      "text/plain": [
       "           roll      marks        age\n",
       "count  10.00000  10.000000  10.000000\n",
       "mean    5.50000  64.499000  20.500000\n",
       "std     3.02765   9.207179   1.269296\n",
       "min     1.00000  49.550000  19.000000\n",
       "25%     3.25000  57.520000  20.000000\n",
       "50%     5.50000  64.310000  20.000000\n",
       "75%     7.75000  69.327500  21.000000\n",
       "max    10.00000  78.660000  23.000000"
      ]
     },
     "execution_count": 113,
     "metadata": {},
     "output_type": "execute_result"
    }
   ],
   "source": [
    "df.describe() #to describe the numerical data"
   ]
  },
  {
   "cell_type": "code",
   "execution_count": 115,
   "id": "05723373-4191-4f77-91df-d98ed397c6a9",
   "metadata": {},
   "outputs": [
    {
     "data": {
      "text/plain": [
       "(roll         10\n",
       " name     ayesha\n",
       " class        TE\n",
       " marks     78.66\n",
       " age          23\n",
       " dtype: object,\n",
       " roll           1\n",
       " name     ajinkya\n",
       " class         BE\n",
       " marks      49.55\n",
       " age           19\n",
       " dtype: object,\n",
       " roll     3.027650\n",
       " marks    9.207179\n",
       " age      1.269296\n",
       " dtype: float64)"
      ]
     },
     "execution_count": 115,
     "metadata": {},
     "output_type": "execute_result"
    }
   ],
   "source": [
    "df.max(), df.min(), df.std(numeric_only = True)"
   ]
  },
  {
   "cell_type": "code",
   "execution_count": 116,
   "id": "6feab9d4-ffe9-4cb3-9fd3-e0cf59c90d12",
   "metadata": {},
   "outputs": [
    {
     "data": {
      "text/plain": [
       "0     79.77\n",
       "1     82.77\n",
       "2     98.88\n",
       "3     93.66\n",
       "4     88.28\n",
       "5     75.55\n",
       "6     91.34\n",
       "7     99.33\n",
       "8     85.75\n",
       "9    109.66\n",
       "dtype: float64"
      ]
     },
     "execution_count": 116,
     "metadata": {},
     "output_type": "execute_result"
    }
   ],
   "source": [
    "df.sum(axis = 1, numeric_only = True) #addition of numeric data"
   ]
  },
  {
   "cell_type": "code",
   "execution_count": 117,
   "id": "d0258d13-a916-4785-92fa-1ee46f3cfa6f",
   "metadata": {},
   "outputs": [
    {
     "data": {
      "text/plain": [
       "class\n",
       "TE    5\n",
       "BE    5\n",
       "Name: count, dtype: int64"
      ]
     },
     "execution_count": 117,
     "metadata": {},
     "output_type": "execute_result"
    }
   ],
   "source": [
    "df['class'].value_counts() #classification of data class "
   ]
  },
  {
   "cell_type": "code",
   "execution_count": 118,
   "id": "c5405569-580c-4b09-9539-9f52a9550263",
   "metadata": {},
   "outputs": [
    {
     "data": {
      "text/plain": [
       "age\n",
       "20    4\n",
       "21    2\n",
       "19    2\n",
       "22    1\n",
       "23    1\n",
       "Name: count, dtype: int64"
      ]
     },
     "execution_count": 118,
     "metadata": {},
     "output_type": "execute_result"
    }
   ],
   "source": [
    "df['age'].value_counts() #classification of data age "
   ]
  },
  {
   "cell_type": "code",
   "execution_count": 119,
   "id": "e078584d-909e-4e22-bf82-0ee1c12656d2",
   "metadata": {},
   "outputs": [
    {
     "data": {
      "text/plain": [
       "marks\n",
       "56.77    1\n",
       "59.77    1\n",
       "76.88    1\n",
       "69.66    1\n",
       "63.28    1\n",
       "49.55    1\n",
       "65.34    1\n",
       "68.33    1\n",
       "56.75    1\n",
       "78.66    1\n",
       "Name: count, dtype: int64"
      ]
     },
     "execution_count": 119,
     "metadata": {},
     "output_type": "execute_result"
    }
   ],
   "source": [
    "df['marks'].value_counts() #classification of data marks "
   ]
  },
  {
   "cell_type": "code",
   "execution_count": 123,
   "id": "90c1039f-92cc-4038-9f01-4adf723182e4",
   "metadata": {},
   "outputs": [
    {
     "data": {
      "text/html": [
       "<div>\n",
       "<style scoped>\n",
       "    .dataframe tbody tr th:only-of-type {\n",
       "        vertical-align: middle;\n",
       "    }\n",
       "\n",
       "    .dataframe tbody tr th {\n",
       "        vertical-align: top;\n",
       "    }\n",
       "\n",
       "    .dataframe thead th {\n",
       "        text-align: right;\n",
       "    }\n",
       "</style>\n",
       "<table border=\"1\" class=\"dataframe\">\n",
       "  <thead>\n",
       "    <tr style=\"text-align: right;\">\n",
       "      <th></th>\n",
       "      <th>roll</th>\n",
       "      <th>name</th>\n",
       "      <th>class</th>\n",
       "      <th>marks</th>\n",
       "      <th>age</th>\n",
       "    </tr>\n",
       "  </thead>\n",
       "  <tbody>\n",
       "    <tr>\n",
       "      <th>5</th>\n",
       "      <td>6</td>\n",
       "      <td>ayesha</td>\n",
       "      <td>BE</td>\n",
       "      <td>49.55</td>\n",
       "      <td>20</td>\n",
       "    </tr>\n",
       "    <tr>\n",
       "      <th>6</th>\n",
       "      <td>7</td>\n",
       "      <td>amar</td>\n",
       "      <td>BE</td>\n",
       "      <td>65.34</td>\n",
       "      <td>19</td>\n",
       "    </tr>\n",
       "    <tr>\n",
       "      <th>7</th>\n",
       "      <td>8</td>\n",
       "      <td>amita</td>\n",
       "      <td>BE</td>\n",
       "      <td>68.33</td>\n",
       "      <td>23</td>\n",
       "    </tr>\n",
       "    <tr>\n",
       "      <th>2</th>\n",
       "      <td>3</td>\n",
       "      <td>aniket</td>\n",
       "      <td>BE</td>\n",
       "      <td>76.88</td>\n",
       "      <td>19</td>\n",
       "    </tr>\n",
       "    <tr>\n",
       "      <th>9</th>\n",
       "      <td>10</td>\n",
       "      <td>anmol</td>\n",
       "      <td>BE</td>\n",
       "      <td>78.66</td>\n",
       "      <td>21</td>\n",
       "    </tr>\n",
       "    <tr>\n",
       "      <th>8</th>\n",
       "      <td>9</td>\n",
       "      <td>amol</td>\n",
       "      <td>TE</td>\n",
       "      <td>56.75</td>\n",
       "      <td>20</td>\n",
       "    </tr>\n",
       "    <tr>\n",
       "      <th>0</th>\n",
       "      <td>1</td>\n",
       "      <td>anil</td>\n",
       "      <td>TE</td>\n",
       "      <td>56.77</td>\n",
       "      <td>22</td>\n",
       "    </tr>\n",
       "    <tr>\n",
       "      <th>1</th>\n",
       "      <td>2</td>\n",
       "      <td>amit</td>\n",
       "      <td>TE</td>\n",
       "      <td>59.77</td>\n",
       "      <td>21</td>\n",
       "    </tr>\n",
       "    <tr>\n",
       "      <th>4</th>\n",
       "      <td>5</td>\n",
       "      <td>asha</td>\n",
       "      <td>TE</td>\n",
       "      <td>63.28</td>\n",
       "      <td>20</td>\n",
       "    </tr>\n",
       "    <tr>\n",
       "      <th>3</th>\n",
       "      <td>4</td>\n",
       "      <td>ajinkya</td>\n",
       "      <td>TE</td>\n",
       "      <td>69.66</td>\n",
       "      <td>20</td>\n",
       "    </tr>\n",
       "  </tbody>\n",
       "</table>\n",
       "</div>"
      ],
      "text/plain": [
       "   roll     name class  marks  age\n",
       "5     6   ayesha    BE  49.55   20\n",
       "6     7     amar    BE  65.34   19\n",
       "7     8    amita    BE  68.33   23\n",
       "2     3   aniket    BE  76.88   19\n",
       "9    10    anmol    BE  78.66   21\n",
       "8     9     amol    TE  56.75   20\n",
       "0     1     anil    TE  56.77   22\n",
       "1     2     amit    TE  59.77   21\n",
       "4     5     asha    TE  63.28   20\n",
       "3     4  ajinkya    TE  69.66   20"
      ]
     },
     "execution_count": 123,
     "metadata": {},
     "output_type": "execute_result"
    }
   ],
   "source": [
    "df.sort_values(['class','marks'])"
   ]
  },
  {
   "cell_type": "code",
   "execution_count": 125,
   "id": "e82bf594-18d1-48ed-bc86-42a4e746f105",
   "metadata": {},
   "outputs": [
    {
     "data": {
      "text/html": [
       "<div>\n",
       "<style scoped>\n",
       "    .dataframe tbody tr th:only-of-type {\n",
       "        vertical-align: middle;\n",
       "    }\n",
       "\n",
       "    .dataframe tbody tr th {\n",
       "        vertical-align: top;\n",
       "    }\n",
       "\n",
       "    .dataframe thead th {\n",
       "        text-align: right;\n",
       "    }\n",
       "</style>\n",
       "<table border=\"1\" class=\"dataframe\">\n",
       "  <thead>\n",
       "    <tr style=\"text-align: right;\">\n",
       "      <th></th>\n",
       "      <th>roll</th>\n",
       "      <th>name</th>\n",
       "      <th>class</th>\n",
       "      <th>marks</th>\n",
       "      <th>age</th>\n",
       "    </tr>\n",
       "  </thead>\n",
       "  <tbody>\n",
       "    <tr>\n",
       "      <th>3</th>\n",
       "      <td>4</td>\n",
       "      <td>ajinkya</td>\n",
       "      <td>TE</td>\n",
       "      <td>69.66</td>\n",
       "      <td>20</td>\n",
       "    </tr>\n",
       "    <tr>\n",
       "      <th>4</th>\n",
       "      <td>5</td>\n",
       "      <td>asha</td>\n",
       "      <td>TE</td>\n",
       "      <td>63.28</td>\n",
       "      <td>20</td>\n",
       "    </tr>\n",
       "    <tr>\n",
       "      <th>1</th>\n",
       "      <td>2</td>\n",
       "      <td>amit</td>\n",
       "      <td>TE</td>\n",
       "      <td>59.77</td>\n",
       "      <td>21</td>\n",
       "    </tr>\n",
       "    <tr>\n",
       "      <th>0</th>\n",
       "      <td>1</td>\n",
       "      <td>anil</td>\n",
       "      <td>TE</td>\n",
       "      <td>56.77</td>\n",
       "      <td>22</td>\n",
       "    </tr>\n",
       "    <tr>\n",
       "      <th>8</th>\n",
       "      <td>9</td>\n",
       "      <td>amol</td>\n",
       "      <td>TE</td>\n",
       "      <td>56.75</td>\n",
       "      <td>20</td>\n",
       "    </tr>\n",
       "    <tr>\n",
       "      <th>9</th>\n",
       "      <td>10</td>\n",
       "      <td>anmol</td>\n",
       "      <td>BE</td>\n",
       "      <td>78.66</td>\n",
       "      <td>21</td>\n",
       "    </tr>\n",
       "    <tr>\n",
       "      <th>2</th>\n",
       "      <td>3</td>\n",
       "      <td>aniket</td>\n",
       "      <td>BE</td>\n",
       "      <td>76.88</td>\n",
       "      <td>19</td>\n",
       "    </tr>\n",
       "    <tr>\n",
       "      <th>7</th>\n",
       "      <td>8</td>\n",
       "      <td>amita</td>\n",
       "      <td>BE</td>\n",
       "      <td>68.33</td>\n",
       "      <td>23</td>\n",
       "    </tr>\n",
       "    <tr>\n",
       "      <th>6</th>\n",
       "      <td>7</td>\n",
       "      <td>amar</td>\n",
       "      <td>BE</td>\n",
       "      <td>65.34</td>\n",
       "      <td>19</td>\n",
       "    </tr>\n",
       "    <tr>\n",
       "      <th>5</th>\n",
       "      <td>6</td>\n",
       "      <td>ayesha</td>\n",
       "      <td>BE</td>\n",
       "      <td>49.55</td>\n",
       "      <td>20</td>\n",
       "    </tr>\n",
       "  </tbody>\n",
       "</table>\n",
       "</div>"
      ],
      "text/plain": [
       "   roll     name class  marks  age\n",
       "3     4  ajinkya    TE  69.66   20\n",
       "4     5     asha    TE  63.28   20\n",
       "1     2     amit    TE  59.77   21\n",
       "0     1     anil    TE  56.77   22\n",
       "8     9     amol    TE  56.75   20\n",
       "9    10    anmol    BE  78.66   21\n",
       "2     3   aniket    BE  76.88   19\n",
       "7     8    amita    BE  68.33   23\n",
       "6     7     amar    BE  65.34   19\n",
       "5     6   ayesha    BE  49.55   20"
      ]
     },
     "execution_count": 125,
     "metadata": {},
     "output_type": "execute_result"
    }
   ],
   "source": [
    "df.sort_values(['class','marks', 'age'], ascending = False)"
   ]
  },
  {
   "cell_type": "code",
   "execution_count": 127,
   "id": "2e7b97d9-45cb-4156-8e43-9f249127613f",
   "metadata": {},
   "outputs": [],
   "source": [
    "# custom column operator\n",
    "df['marks'] = df['marks']+2"
   ]
  },
  {
   "cell_type": "code",
   "execution_count": 128,
   "id": "30b86406-fbfd-441e-bbca-37649edfa705",
   "metadata": {},
   "outputs": [
    {
     "data": {
      "text/html": [
       "<div>\n",
       "<style scoped>\n",
       "    .dataframe tbody tr th:only-of-type {\n",
       "        vertical-align: middle;\n",
       "    }\n",
       "\n",
       "    .dataframe tbody tr th {\n",
       "        vertical-align: top;\n",
       "    }\n",
       "\n",
       "    .dataframe thead th {\n",
       "        text-align: right;\n",
       "    }\n",
       "</style>\n",
       "<table border=\"1\" class=\"dataframe\">\n",
       "  <thead>\n",
       "    <tr style=\"text-align: right;\">\n",
       "      <th></th>\n",
       "      <th>roll</th>\n",
       "      <th>name</th>\n",
       "      <th>class</th>\n",
       "      <th>marks</th>\n",
       "      <th>age</th>\n",
       "    </tr>\n",
       "  </thead>\n",
       "  <tbody>\n",
       "    <tr>\n",
       "      <th>0</th>\n",
       "      <td>1</td>\n",
       "      <td>anil</td>\n",
       "      <td>TE</td>\n",
       "      <td>58.77</td>\n",
       "      <td>22</td>\n",
       "    </tr>\n",
       "    <tr>\n",
       "      <th>1</th>\n",
       "      <td>2</td>\n",
       "      <td>amit</td>\n",
       "      <td>TE</td>\n",
       "      <td>61.77</td>\n",
       "      <td>21</td>\n",
       "    </tr>\n",
       "    <tr>\n",
       "      <th>2</th>\n",
       "      <td>3</td>\n",
       "      <td>aniket</td>\n",
       "      <td>BE</td>\n",
       "      <td>78.88</td>\n",
       "      <td>19</td>\n",
       "    </tr>\n",
       "    <tr>\n",
       "      <th>3</th>\n",
       "      <td>4</td>\n",
       "      <td>ajinkya</td>\n",
       "      <td>TE</td>\n",
       "      <td>71.66</td>\n",
       "      <td>20</td>\n",
       "    </tr>\n",
       "    <tr>\n",
       "      <th>4</th>\n",
       "      <td>5</td>\n",
       "      <td>asha</td>\n",
       "      <td>TE</td>\n",
       "      <td>65.28</td>\n",
       "      <td>20</td>\n",
       "    </tr>\n",
       "    <tr>\n",
       "      <th>5</th>\n",
       "      <td>6</td>\n",
       "      <td>ayesha</td>\n",
       "      <td>BE</td>\n",
       "      <td>51.55</td>\n",
       "      <td>20</td>\n",
       "    </tr>\n",
       "    <tr>\n",
       "      <th>6</th>\n",
       "      <td>7</td>\n",
       "      <td>amar</td>\n",
       "      <td>BE</td>\n",
       "      <td>67.34</td>\n",
       "      <td>19</td>\n",
       "    </tr>\n",
       "    <tr>\n",
       "      <th>7</th>\n",
       "      <td>8</td>\n",
       "      <td>amita</td>\n",
       "      <td>BE</td>\n",
       "      <td>70.33</td>\n",
       "      <td>23</td>\n",
       "    </tr>\n",
       "    <tr>\n",
       "      <th>8</th>\n",
       "      <td>9</td>\n",
       "      <td>amol</td>\n",
       "      <td>TE</td>\n",
       "      <td>58.75</td>\n",
       "      <td>20</td>\n",
       "    </tr>\n",
       "    <tr>\n",
       "      <th>9</th>\n",
       "      <td>10</td>\n",
       "      <td>anmol</td>\n",
       "      <td>BE</td>\n",
       "      <td>80.66</td>\n",
       "      <td>21</td>\n",
       "    </tr>\n",
       "  </tbody>\n",
       "</table>\n",
       "</div>"
      ],
      "text/plain": [
       "   roll     name class  marks  age\n",
       "0     1     anil    TE  58.77   22\n",
       "1     2     amit    TE  61.77   21\n",
       "2     3   aniket    BE  78.88   19\n",
       "3     4  ajinkya    TE  71.66   20\n",
       "4     5     asha    TE  65.28   20\n",
       "5     6   ayesha    BE  51.55   20\n",
       "6     7     amar    BE  67.34   19\n",
       "7     8    amita    BE  70.33   23\n",
       "8     9     amol    TE  58.75   20\n",
       "9    10    anmol    BE  80.66   21"
      ]
     },
     "execution_count": 128,
     "metadata": {},
     "output_type": "execute_result"
    }
   ],
   "source": [
    "df"
   ]
  },
  {
   "cell_type": "code",
   "execution_count": 129,
   "id": "186934a6-0dfb-44d1-a2e9-d90df6b5c96d",
   "metadata": {},
   "outputs": [],
   "source": [
    "df['cgpa'] = df['marks']/10+0.034 #extra column creation"
   ]
  },
  {
   "cell_type": "code",
   "execution_count": 130,
   "id": "b0c077a6-5e0b-4746-8a99-416d73ae46c4",
   "metadata": {},
   "outputs": [
    {
     "data": {
      "text/html": [
       "<div>\n",
       "<style scoped>\n",
       "    .dataframe tbody tr th:only-of-type {\n",
       "        vertical-align: middle;\n",
       "    }\n",
       "\n",
       "    .dataframe tbody tr th {\n",
       "        vertical-align: top;\n",
       "    }\n",
       "\n",
       "    .dataframe thead th {\n",
       "        text-align: right;\n",
       "    }\n",
       "</style>\n",
       "<table border=\"1\" class=\"dataframe\">\n",
       "  <thead>\n",
       "    <tr style=\"text-align: right;\">\n",
       "      <th></th>\n",
       "      <th>roll</th>\n",
       "      <th>name</th>\n",
       "      <th>class</th>\n",
       "      <th>marks</th>\n",
       "      <th>age</th>\n",
       "      <th>cgpa</th>\n",
       "    </tr>\n",
       "  </thead>\n",
       "  <tbody>\n",
       "    <tr>\n",
       "      <th>0</th>\n",
       "      <td>1</td>\n",
       "      <td>anil</td>\n",
       "      <td>TE</td>\n",
       "      <td>58.77</td>\n",
       "      <td>22</td>\n",
       "      <td>5.911</td>\n",
       "    </tr>\n",
       "    <tr>\n",
       "      <th>1</th>\n",
       "      <td>2</td>\n",
       "      <td>amit</td>\n",
       "      <td>TE</td>\n",
       "      <td>61.77</td>\n",
       "      <td>21</td>\n",
       "      <td>6.211</td>\n",
       "    </tr>\n",
       "    <tr>\n",
       "      <th>2</th>\n",
       "      <td>3</td>\n",
       "      <td>aniket</td>\n",
       "      <td>BE</td>\n",
       "      <td>78.88</td>\n",
       "      <td>19</td>\n",
       "      <td>7.922</td>\n",
       "    </tr>\n",
       "    <tr>\n",
       "      <th>3</th>\n",
       "      <td>4</td>\n",
       "      <td>ajinkya</td>\n",
       "      <td>TE</td>\n",
       "      <td>71.66</td>\n",
       "      <td>20</td>\n",
       "      <td>7.200</td>\n",
       "    </tr>\n",
       "    <tr>\n",
       "      <th>4</th>\n",
       "      <td>5</td>\n",
       "      <td>asha</td>\n",
       "      <td>TE</td>\n",
       "      <td>65.28</td>\n",
       "      <td>20</td>\n",
       "      <td>6.562</td>\n",
       "    </tr>\n",
       "    <tr>\n",
       "      <th>5</th>\n",
       "      <td>6</td>\n",
       "      <td>ayesha</td>\n",
       "      <td>BE</td>\n",
       "      <td>51.55</td>\n",
       "      <td>20</td>\n",
       "      <td>5.189</td>\n",
       "    </tr>\n",
       "    <tr>\n",
       "      <th>6</th>\n",
       "      <td>7</td>\n",
       "      <td>amar</td>\n",
       "      <td>BE</td>\n",
       "      <td>67.34</td>\n",
       "      <td>19</td>\n",
       "      <td>6.768</td>\n",
       "    </tr>\n",
       "    <tr>\n",
       "      <th>7</th>\n",
       "      <td>8</td>\n",
       "      <td>amita</td>\n",
       "      <td>BE</td>\n",
       "      <td>70.33</td>\n",
       "      <td>23</td>\n",
       "      <td>7.067</td>\n",
       "    </tr>\n",
       "    <tr>\n",
       "      <th>8</th>\n",
       "      <td>9</td>\n",
       "      <td>amol</td>\n",
       "      <td>TE</td>\n",
       "      <td>58.75</td>\n",
       "      <td>20</td>\n",
       "      <td>5.909</td>\n",
       "    </tr>\n",
       "    <tr>\n",
       "      <th>9</th>\n",
       "      <td>10</td>\n",
       "      <td>anmol</td>\n",
       "      <td>BE</td>\n",
       "      <td>80.66</td>\n",
       "      <td>21</td>\n",
       "      <td>8.100</td>\n",
       "    </tr>\n",
       "  </tbody>\n",
       "</table>\n",
       "</div>"
      ],
      "text/plain": [
       "   roll     name class  marks  age   cgpa\n",
       "0     1     anil    TE  58.77   22  5.911\n",
       "1     2     amit    TE  61.77   21  6.211\n",
       "2     3   aniket    BE  78.88   19  7.922\n",
       "3     4  ajinkya    TE  71.66   20  7.200\n",
       "4     5     asha    TE  65.28   20  6.562\n",
       "5     6   ayesha    BE  51.55   20  5.189\n",
       "6     7     amar    BE  67.34   19  6.768\n",
       "7     8    amita    BE  70.33   23  7.067\n",
       "8     9     amol    TE  58.75   20  5.909\n",
       "9    10    anmol    BE  80.66   21  8.100"
      ]
     },
     "execution_count": 130,
     "metadata": {},
     "output_type": "execute_result"
    }
   ],
   "source": [
    "df"
   ]
  },
  {
   "cell_type": "code",
   "execution_count": 131,
   "id": "c5833d21-f6ad-4b39-805d-39d90edf98a5",
   "metadata": {},
   "outputs": [
    {
     "name": "stdout",
     "output_type": "stream",
     "text": [
      "DataSet\n",
      "    roll     name class  marks  age   cgpa  I_class\n",
      "0     1     anil    TE  58.77   22  5.911    False\n",
      "1     2     amit    TE  61.77   21  6.211    False\n",
      "2     3   aniket    BE  78.88   19  7.922     True\n",
      "3     4  ajinkya    TE  71.66   20  7.200     True\n",
      "4     5     asha    TE  65.28   20  6.562    False\n",
      "5     6   ayesha    BE  51.55   20  5.189    False\n",
      "6     7     amar    BE  67.34   19  6.768    False\n",
      "7     8    amita    BE  70.33   23  7.067     True\n",
      "8     9     amol    TE  58.75   20  5.909    False\n",
      "9    10    anmol    BE  80.66   21  8.100     True\n"
     ]
    }
   ],
   "source": [
    "df['I_class'] = df['marks']>70\n",
    "print('DataSet\\n', df)"
   ]
  },
  {
   "cell_type": "code",
   "execution_count": 132,
   "id": "9afce4ab-a792-410c-a9c9-0f0336b91d71",
   "metadata": {},
   "outputs": [
    {
     "name": "stdout",
     "output_type": "stream",
     "text": [
      "DataSet\n",
      "    roll     name class  marks  age   cgpa  I_class gender\n",
      "0     1     anil    TE  58.77   22  5.911    False      M\n",
      "1     2     amit    TE  61.77   21  6.211    False      M\n",
      "2     3   aniket    BE  78.88   19  7.922     True      M\n",
      "3     4  ajinkya    TE  71.66   20  7.200     True      M\n",
      "4     5     asha    TE  65.28   20  6.562    False      F\n",
      "5     6   ayesha    BE  51.55   20  5.189    False      F\n",
      "6     7     amar    BE  67.34   19  6.768    False      M\n",
      "7     8    amita    BE  70.33   23  7.067     True      F\n",
      "8     9     amol    TE  58.75   20  5.909    False      M\n",
      "9    10    anmol    BE  80.66   21  8.100     True      M\n"
     ]
    }
   ],
   "source": [
    "x = ['M','M','M','M','F', 'F','M','F','M','M']\n",
    "df['gender'] = x\n",
    "print('DataSet\\n', df)"
   ]
  },
  {
   "cell_type": "code",
   "execution_count": 134,
   "id": "514e9cc6-235c-4ea7-b356-09b4771a842c",
   "metadata": {},
   "outputs": [
    {
     "name": "stdout",
     "output_type": "stream",
     "text": [
      "ndf\n",
      "    roll   cgpa gender\n",
      "0     1  5.711      M\n",
      "1     2  6.011      M\n",
      "2     3  7.722      M\n",
      "3     4  7.000      M\n",
      "4     5  6.362      F\n",
      "5     6  4.989      F\n",
      "6     7  6.568      M\n",
      "7     8  6.867      F\n",
      "8     9  5.709      M\n",
      "9    10  7.900      M\n",
      "df\n",
      "    roll     name class  marks  age\n",
      "0     1     anil    TE  56.77   22\n",
      "1     2     amit    TE  59.77   21\n",
      "2     3   aniket    BE  76.88   19\n",
      "3     4  ajinkya    TE  69.66   20\n",
      "4     5     asha    TE  63.28   20\n",
      "5     6   ayesha    BE  49.55   20\n",
      "6     7     amar    BE  65.34   19\n",
      "7     8    amita    BE  68.33   23\n",
      "8     9     amol    TE  56.75   20\n",
      "9    10    anmol    BE  78.66   21\n"
     ]
    }
   ],
   "source": [
    "ndf = pd.DataFrame({\n",
    "       'roll':range(1,11),\n",
    "       'cgpa':df['marks']/10+0.034,\n",
    "       'gender':['M','M','M','M','F', 'F','M','F','M','M']\n",
    "})\n",
    "df = pd.read_csv('datasets/student.csv')\n",
    "print('ndf\\n',ndf)\n",
    "print('df\\n',df)"
   ]
  },
  {
   "cell_type": "code",
   "execution_count": 136,
   "id": "358c7fe0-ad59-427d-ad36-93f75e080ef3",
   "metadata": {},
   "outputs": [
    {
     "name": "stdout",
     "output_type": "stream",
     "text": [
      "Merging using common roll\n",
      "    roll     name class  marks  age   cgpa gender\n",
      "0     1     anil    TE  56.77   22  5.711      M\n",
      "1     2     amit    TE  59.77   21  6.011      M\n",
      "2     3   aniket    BE  76.88   19  7.722      M\n",
      "3     4  ajinkya    TE  69.66   20  7.000      M\n",
      "4     5     asha    TE  63.28   20  6.362      F\n",
      "5     6   ayesha    BE  49.55   20  4.989      F\n",
      "6     7     amar    BE  65.34   19  6.568      M\n",
      "7     8    amita    BE  68.33   23  6.867      F\n",
      "8     9     amol    TE  56.75   20  5.709      M\n",
      "9    10    anmol    BE  78.66   21  7.900      M\n"
     ]
    }
   ],
   "source": [
    "df1 = df.merge(ndf, on = 'roll') #joining two data sets or merging to \n",
    "print('Merging using common roll\\n', df1)"
   ]
  },
  {
   "cell_type": "code",
   "execution_count": 137,
   "id": "4931a7ce-0d54-413e-9d0e-152d530f4434",
   "metadata": {},
   "outputs": [
    {
     "name": "stdout",
     "output_type": "stream",
     "text": [
      "Dataset\n",
      "    roll     name class  marks  age\n",
      "0     1   surbhi    TE  67.44   23\n",
      "1     2    sujay    TE  74.12   22\n",
      "2     3  subhash    BE  82.44   21\n",
      "3     4   sachin    TE  59.33   21\n",
      "4     5  shalini    TE  63.45   20\n"
     ]
    }
   ],
   "source": [
    "df5 = pd.read_csv('datasets/student5.csv')\n",
    "print('Dataset\\n', df5)"
   ]
  },
  {
   "cell_type": "code",
   "execution_count": 140,
   "id": "0873e3f4-64c9-4186-b8bf-5295223a8835",
   "metadata": {},
   "outputs": [
    {
     "name": "stdout",
     "output_type": "stream",
     "text": [
      "Dataset concatanation\n",
      "     roll     name class  marks  age\n",
      "0      1     anil    TE  56.77   22\n",
      "1      2     amit    TE  59.77   21\n",
      "2      3   aniket    BE  76.88   19\n",
      "3      4  ajinkya    TE  69.66   20\n",
      "4      5     asha    TE  63.28   20\n",
      "5      6   ayesha    BE  49.55   20\n",
      "6      7     amar    BE  65.34   19\n",
      "7      8    amita    BE  68.33   23\n",
      "8      9     amol    TE  56.75   20\n",
      "9     10    anmol    BE  78.66   21\n",
      "10     1   surbhi    TE  67.44   23\n",
      "11     2    sujay    TE  74.12   22\n",
      "12     3  subhash    BE  82.44   21\n",
      "13     4   sachin    TE  59.33   21\n",
      "14     5  shalini    TE  63.45   20\n"
     ]
    }
   ],
   "source": [
    "df6 = pd.concat([df, df5], ignore_index = True)\n",
    "print('Dataset concatanation\\n', df6)"
   ]
  },
  {
   "cell_type": "code",
   "execution_count": 141,
   "id": "a32dfa1d-a5ab-4666-8a79-ebd2af7b87e4",
   "metadata": {},
   "outputs": [],
   "source": [
    "# String operation\n",
    "name = 'CDAC'"
   ]
  },
  {
   "cell_type": "code",
   "execution_count": 142,
   "id": "3843198e-3418-4487-be69-db95d36093ad",
   "metadata": {},
   "outputs": [
    {
     "data": {
      "text/plain": [
       "'cdac'"
      ]
     },
     "execution_count": 142,
     "metadata": {},
     "output_type": "execute_result"
    }
   ],
   "source": [
    "name.casefold()"
   ]
  },
  {
   "cell_type": "code",
   "execution_count": 145,
   "id": "faccdfc0-3fc4-419f-8974-7d16259c5325",
   "metadata": {},
   "outputs": [
    {
     "data": {
      "text/plain": [
       "2"
      ]
     },
     "execution_count": 145,
     "metadata": {},
     "output_type": "execute_result"
    }
   ],
   "source": [
    "name.count('C')"
   ]
  },
  {
   "cell_type": "code",
   "execution_count": 146,
   "id": "3fe7c658-c25f-42b2-b785-c4c8f3b98ca1",
   "metadata": {},
   "outputs": [
    {
     "data": {
      "text/plain": [
       "0       anil\n",
       "1       amit\n",
       "2     aniket\n",
       "3    ajinkya\n",
       "4       asha\n",
       "5     ayesha\n",
       "6       amar\n",
       "7      amita\n",
       "8       amol\n",
       "9      anmol\n",
       "Name: name, dtype: object"
      ]
     },
     "execution_count": 146,
     "metadata": {},
     "output_type": "execute_result"
    }
   ],
   "source": [
    "df['name'].str.casefold()"
   ]
  },
  {
   "cell_type": "code",
   "execution_count": 148,
   "id": "d18187f7-9f95-4b2f-a8c4-5e3450b0edfd",
   "metadata": {},
   "outputs": [
    {
     "data": {
      "text/plain": [
       "0       Anil\n",
       "1       Amit\n",
       "2     Aniket\n",
       "3    Ajinkya\n",
       "4       Asha\n",
       "5     Ayesha\n",
       "6       Amar\n",
       "7      Amita\n",
       "8       Amol\n",
       "9      Anmol\n",
       "Name: name, dtype: object"
      ]
     },
     "execution_count": 148,
     "metadata": {},
     "output_type": "execute_result"
    }
   ],
   "source": [
    "df['name'].str.capitalize()"
   ]
  },
  {
   "cell_type": "code",
   "execution_count": 149,
   "id": "1971e2ca-b369-4fd8-8387-49ab52e612e8",
   "metadata": {},
   "outputs": [
    {
     "data": {
      "text/plain": [
       "0     True\n",
       "1    False\n",
       "2     True\n",
       "3    False\n",
       "4    False\n",
       "5    False\n",
       "6    False\n",
       "7    False\n",
       "8    False\n",
       "9     True\n",
       "Name: name, dtype: bool"
      ]
     },
     "execution_count": 149,
     "metadata": {},
     "output_type": "execute_result"
    }
   ],
   "source": [
    "df['name'].str.startswith('an')"
   ]
  },
  {
   "cell_type": "code",
   "execution_count": 150,
   "id": "6f488d09-c3fc-4b9e-aa99-dcd5a73b2fdd",
   "metadata": {},
   "outputs": [
    {
     "data": {
      "text/plain": [
       "0       aneel\n",
       "1       ameet\n",
       "2     aneeket\n",
       "3    ajeenkya\n",
       "4        asha\n",
       "5      ayesha\n",
       "6        amar\n",
       "7      ameeta\n",
       "8        amol\n",
       "9       anmol\n",
       "Name: name, dtype: object"
      ]
     },
     "execution_count": 150,
     "metadata": {},
     "output_type": "execute_result"
    }
   ],
   "source": [
    "df['name'].str.replace('i', 'ee')"
   ]
  },
  {
   "cell_type": "code",
   "execution_count": 151,
   "id": "f33b5c3c-2071-4109-9e4c-d8cff38e13de",
   "metadata": {},
   "outputs": [
    {
     "data": {
      "text/plain": [
       "0       ANIL\n",
       "1       AMIT\n",
       "2     ANIKET\n",
       "3    AJINKYA\n",
       "4       ASHA\n",
       "5     AYESHA\n",
       "6       AMAR\n",
       "7      AMITA\n",
       "8       AMOL\n",
       "9      ANMOL\n",
       "Name: name, dtype: object"
      ]
     },
     "execution_count": 151,
     "metadata": {},
     "output_type": "execute_result"
    }
   ],
   "source": [
    "df['name'].str.upper()"
   ]
  },
  {
   "cell_type": "code",
   "execution_count": 152,
   "id": "2743a39e-47c9-496a-89d5-031293ed19cc",
   "metadata": {},
   "outputs": [
    {
     "data": {
      "text/plain": [
       "0    2\n",
       "1    2\n",
       "2    2\n",
       "3    2\n",
       "4   -1\n",
       "5   -1\n",
       "6   -1\n",
       "7    2\n",
       "8   -1\n",
       "9   -1\n",
       "Name: name, dtype: int64"
      ]
     },
     "execution_count": 152,
     "metadata": {},
     "output_type": "execute_result"
    }
   ],
   "source": [
    "df['name'].str.find('i')"
   ]
  },
  {
   "cell_type": "code",
   "execution_count": 153,
   "id": "228154ac-bd99-42c6-a824-477b16b92b07",
   "metadata": {},
   "outputs": [
    {
     "data": {
      "text/plain": [
       "0    True\n",
       "1    True\n",
       "2    True\n",
       "3    True\n",
       "4    True\n",
       "5    True\n",
       "6    True\n",
       "7    True\n",
       "8    True\n",
       "9    True\n",
       "Name: name, dtype: bool"
      ]
     },
     "execution_count": 153,
     "metadata": {},
     "output_type": "execute_result"
    }
   ],
   "source": [
    "df['name'].str.isalpha()"
   ]
  },
  {
   "cell_type": "code",
   "execution_count": 159,
   "id": "32cc8e58-2edc-4ad6-b4d7-0a63f7bf7e49",
   "metadata": {},
   "outputs": [
    {
     "data": {
      "text/plain": [
       "{'BE': [2, 5, 6, 7, 9], 'TE': [0, 1, 3, 4, 8]}"
      ]
     },
     "execution_count": 159,
     "metadata": {},
     "output_type": "execute_result"
    }
   ],
   "source": [
    "# grouping and aggregation\n",
    "gr = df.groupby('class')\n",
    "gr.groups"
   ]
  },
  {
   "cell_type": "code",
   "execution_count": 160,
   "id": "11021fbc-5503-4dab-9368-c4b12adb2632",
   "metadata": {},
   "outputs": [
    {
     "name": "stdout",
     "output_type": "stream",
     "text": [
      "Dataset of TE group\n",
      "    roll     name class  marks  age\n",
      "0     1     anil    TE  56.77   22\n",
      "1     2     amit    TE  59.77   21\n",
      "3     4  ajinkya    TE  69.66   20\n",
      "4     5     asha    TE  63.28   20\n",
      "8     9     amol    TE  56.75   20\n"
     ]
    }
   ],
   "source": [
    "gr_te = gr.get_group('TE')\n",
    "print('Dataset of TE group\\n', gr_te)"
   ]
  },
  {
   "cell_type": "code",
   "execution_count": 161,
   "id": "040f249d-0ead-4371-b09e-a9b6ed21979e",
   "metadata": {},
   "outputs": [
    {
     "name": "stdout",
     "output_type": "stream",
     "text": [
      "Dataset of BE group\n",
      "    roll    name class  marks  age\n",
      "2     3  aniket    BE  76.88   19\n",
      "5     6  ayesha    BE  49.55   20\n",
      "6     7    amar    BE  65.34   19\n",
      "7     8   amita    BE  68.33   23\n",
      "9    10   anmol    BE  78.66   21\n"
     ]
    }
   ],
   "source": [
    "gr_be = gr.get_group('BE')\n",
    "print('Dataset of BE group\\n', gr_be)"
   ]
  },
  {
   "cell_type": "code",
   "execution_count": 163,
   "id": "54ca10c2-e61f-4170-b477-032d05de84b1",
   "metadata": {},
   "outputs": [
    {
     "data": {
      "text/plain": [
       "(69.66, 56.75)"
      ]
     },
     "execution_count": 163,
     "metadata": {},
     "output_type": "execute_result"
    }
   ],
   "source": [
    "gr_te['marks'].max(), gr_te['marks'].min()"
   ]
  },
  {
   "cell_type": "code",
   "execution_count": 164,
   "id": "cc81ed46-7b2c-42c4-a8c7-faa7628e9458",
   "metadata": {},
   "outputs": [
    {
     "data": {
      "text/plain": [
       "(78.66, 49.55)"
      ]
     },
     "execution_count": 164,
     "metadata": {},
     "output_type": "execute_result"
    }
   ],
   "source": [
    "gr_be['marks'].max(),gr_be['marks'].min()"
   ]
  },
  {
   "cell_type": "code",
   "execution_count": null,
   "id": "caa1e3c6-c0f2-4503-aaf6-d958204c70dc",
   "metadata": {},
   "outputs": [],
   "source": [
    "# boolean operation"
   ]
  },
  {
   "cell_type": "code",
   "execution_count": 165,
   "id": "dce31696-7ace-468b-a1c5-871d205b8d3a",
   "metadata": {},
   "outputs": [
    {
     "name": "stdout",
     "output_type": "stream",
     "text": [
      "Dataset of marks above 60\n",
      " 0    False\n",
      "1    False\n",
      "2     True\n",
      "3     True\n",
      "4     True\n",
      "5    False\n",
      "6     True\n",
      "7     True\n",
      "8    False\n",
      "9     True\n",
      "Name: marks, dtype: bool\n"
     ]
    }
   ],
   "source": [
    "mask = df['marks']>60\n",
    "print('Dataset of marks above 60\\n', mask)"
   ]
  },
  {
   "cell_type": "code",
   "execution_count": 167,
   "id": "dd36e04a-4487-4d36-9368-2fa0f51d49ca",
   "metadata": {},
   "outputs": [
    {
     "name": "stdout",
     "output_type": "stream",
     "text": [
      "Dataset of marks above 60\n",
      "    roll     name class  marks  age\n",
      "2     3   aniket    BE  76.88   19\n",
      "3     4  ajinkya    TE  69.66   20\n",
      "4     5     asha    TE  63.28   20\n",
      "6     7     amar    BE  65.34   19\n",
      "7     8    amita    BE  68.33   23\n",
      "9    10    anmol    BE  78.66   21\n"
     ]
    }
   ],
   "source": [
    "mask = df[df['marks']>60]\n",
    "print('Dataset of marks above 60\\n', mask)"
   ]
  },
  {
   "cell_type": "code",
   "execution_count": 170,
   "id": "8592b4fc-5275-401b-a8fb-d054c2ca08ba",
   "metadata": {},
   "outputs": [
    {
     "name": "stdout",
     "output_type": "stream",
     "text": [
      "Dataset of names with an\n",
      "    roll    name class  marks  age\n",
      "0     1    anil    TE  56.77   22\n",
      "2     3  aniket    BE  76.88   19\n",
      "9    10   anmol    BE  78.66   21\n"
     ]
    }
   ],
   "source": [
    "name_mask = df[df['name'].str.startswith('an')]\n",
    "print('Dataset of names with an\\n', name_mask)"
   ]
  },
  {
   "cell_type": "code",
   "execution_count": 186,
   "id": "a77e8ef4-a45f-4d87-a430-9c215ccf7d91",
   "metadata": {},
   "outputs": [
    {
     "name": "stdout",
     "output_type": "stream",
     "text": [
      "dataout    roll     name class  marks  age\n",
      "3     4  ajinkya    TE  69.66   20\n",
      "4     5     asha    TE  63.28   20\n"
     ]
    }
   ],
   "source": [
    "x = df[(df['marks'] > 60) & (df['class']=='TE')]\n",
    "print('dataout', x)"
   ]
  },
  {
   "cell_type": "code",
   "execution_count": 187,
   "id": "14da9f55-79dc-459b-b1d9-8bcb669fd21c",
   "metadata": {},
   "outputs": [],
   "source": [
    "x.to_csv('datasets/x.csv')"
   ]
  },
  {
   "cell_type": "code",
   "execution_count": 189,
   "id": "2899dffc-ff27-49c5-ba32-15b8f3d2a8eb",
   "metadata": {},
   "outputs": [],
   "source": [
    "x.to_html('datasets/x.html')"
   ]
  },
  {
   "cell_type": "code",
   "execution_count": null,
   "id": "f76b0fb7-a733-4011-af7e-5706487b39bf",
   "metadata": {},
   "outputs": [],
   "source": []
  }
 ],
 "metadata": {
  "kernelspec": {
   "display_name": "Python 3 (ipykernel)",
   "language": "python",
   "name": "python3"
  },
  "language_info": {
   "codemirror_mode": {
    "name": "ipython",
    "version": 3
   },
   "file_extension": ".py",
   "mimetype": "text/x-python",
   "name": "python",
   "nbconvert_exporter": "python",
   "pygments_lexer": "ipython3",
   "version": "3.11.7"
  }
 },
 "nbformat": 4,
 "nbformat_minor": 5
}
