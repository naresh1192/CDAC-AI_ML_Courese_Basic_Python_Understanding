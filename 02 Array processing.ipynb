{
 "cells": [
  {
   "cell_type": "markdown",
   "id": "2fa8031c-615d-4183-bda3-71ee2d3d5a94",
   "metadata": {},
   "source": [
    "##### Creating an array"
   ]
  },
  {
   "cell_type": "code",
   "execution_count": 46,
   "id": "bbbeb325-5d45-401d-ba51-89f4687c57d4",
   "metadata": {},
   "outputs": [],
   "source": [
    "import numpy as np"
   ]
  },
  {
   "cell_type": "code",
   "execution_count": 47,
   "id": "ed51179f-3a13-4344-be7a-e81f8d7f1b8b",
   "metadata": {},
   "outputs": [
    {
     "name": "stdout",
     "output_type": "stream",
     "text": [
      "[20 85 33 78 92 14]\n"
     ]
    }
   ],
   "source": [
    "x=np.array([20,85,33,78,92,14])\n",
    "print(x)"
   ]
  },
  {
   "cell_type": "code",
   "execution_count": 48,
   "id": "2ed8c611-1e50-4995-ae51-99b26a78fc87",
   "metadata": {},
   "outputs": [
    {
     "data": {
      "text/plain": [
       "numpy.ndarray"
      ]
     },
     "execution_count": 48,
     "metadata": {},
     "output_type": "execute_result"
    }
   ],
   "source": [
    "type(x)"
   ]
  },
  {
   "cell_type": "code",
   "execution_count": 49,
   "id": "dac1ff51-d166-41b5-bf29-03dd7c45b6d0",
   "metadata": {},
   "outputs": [
    {
     "data": {
      "text/plain": [
       "1"
      ]
     },
     "execution_count": 49,
     "metadata": {},
     "output_type": "execute_result"
    }
   ],
   "source": [
    "x.ndim"
   ]
  },
  {
   "cell_type": "code",
   "execution_count": 50,
   "id": "6cb2dd8f-2f8a-4d0e-8eaa-cbcfa31132c3",
   "metadata": {},
   "outputs": [
    {
     "data": {
      "text/plain": [
       "array([20, 85, 33, 78, 92, 14])"
      ]
     },
     "execution_count": 50,
     "metadata": {},
     "output_type": "execute_result"
    }
   ],
   "source": [
    "x"
   ]
  },
  {
   "cell_type": "code",
   "execution_count": 52,
   "id": "929e15ac-d1a6-4002-8293-556589daf3ec",
   "metadata": {},
   "outputs": [],
   "source": [
    "x=np.array([20,85,33,78,92,14], dtype=np.int8)"
   ]
  },
  {
   "cell_type": "code",
   "execution_count": 53,
   "id": "e7f5d653-0bd1-4f9a-a868-ad42c9fc5a79",
   "metadata": {},
   "outputs": [
    {
     "data": {
      "text/plain": [
       "array([20, 85, 33, 78, 92, 14], dtype=int8)"
      ]
     },
     "execution_count": 53,
     "metadata": {},
     "output_type": "execute_result"
    }
   ],
   "source": [
    "x"
   ]
  },
  {
   "cell_type": "code",
   "execution_count": 54,
   "id": "648158b2-5e3f-4f13-86a1-53dd40001d79",
   "metadata": {},
   "outputs": [],
   "source": [
    "y=np.array([20,85,33,78,92,14], dtype=np.uint8)\n",
    "y[0]=255"
   ]
  },
  {
   "cell_type": "code",
   "execution_count": 55,
   "id": "e47b916e-2bf8-4610-9b99-f9bff28714ea",
   "metadata": {},
   "outputs": [
    {
     "data": {
      "text/plain": [
       "array([255,  85,  33,  78,  92,  14], dtype=uint8)"
      ]
     },
     "execution_count": 55,
     "metadata": {},
     "output_type": "execute_result"
    }
   ],
   "source": [
    "y"
   ]
  },
  {
   "cell_type": "code",
   "execution_count": 58,
   "id": "ccd6e62b-8a87-420b-9130-e9d8ae2ab91f",
   "metadata": {},
   "outputs": [],
   "source": [
    "y=np.array([20,85,33,78,92,14], dtype=np.uint8)\n",
    "y[0]=200"
   ]
  },
  {
   "cell_type": "code",
   "execution_count": 59,
   "id": "12900fd7-4c14-40e8-8155-f3d3a44a256f",
   "metadata": {},
   "outputs": [
    {
     "data": {
      "text/plain": [
       "array([200,  85,  33,  78,  92,  14], dtype=uint8)"
      ]
     },
     "execution_count": 59,
     "metadata": {},
     "output_type": "execute_result"
    }
   ],
   "source": [
    "y"
   ]
  },
  {
   "cell_type": "code",
   "execution_count": 60,
   "id": "7a91be8f-7d05-4d6e-a3a4-b3db529158da",
   "metadata": {},
   "outputs": [],
   "source": [
    "# to find y.size, y.shape, y.max(),y.std(),x.dtype,y.sum(),y.mean()"
   ]
  },
  {
   "cell_type": "code",
   "execution_count": 61,
   "id": "ddc5e384-9512-48cc-a254-c545642cdc1f",
   "metadata": {},
   "outputs": [],
   "source": [
    "xx=np.array([10,20,22.63,86])"
   ]
  },
  {
   "cell_type": "code",
   "execution_count": 62,
   "id": "9565de1f-dae5-462f-840e-5cf745e474ef",
   "metadata": {},
   "outputs": [
    {
     "data": {
      "text/plain": [
       "array([10.  , 20.  , 22.63, 86.  ])"
      ]
     },
     "execution_count": 62,
     "metadata": {},
     "output_type": "execute_result"
    }
   ],
   "source": [
    "xx"
   ]
  },
  {
   "cell_type": "code",
   "execution_count": 63,
   "id": "1709d9ec-3200-4609-9517-822c9b974ee6",
   "metadata": {},
   "outputs": [
    {
     "data": {
      "text/plain": [
       "dtype('float64')"
      ]
     },
     "execution_count": 63,
     "metadata": {},
     "output_type": "execute_result"
    }
   ],
   "source": [
    "xx.dtype"
   ]
  },
  {
   "cell_type": "code",
   "execution_count": 66,
   "id": "c7547cce-fd46-434e-8556-81b3d736a6ed",
   "metadata": {},
   "outputs": [
    {
     "data": {
      "text/plain": [
       "array([0, 0, 0, 0, 0, 0, 0, 0, 0, 0], dtype=int16)"
      ]
     },
     "execution_count": 66,
     "metadata": {},
     "output_type": "execute_result"
    }
   ],
   "source": [
    "x1=np.zeros(10,dtype=np.int16)\n",
    "x1"
   ]
  },
  {
   "cell_type": "code",
   "execution_count": 67,
   "id": "9eeb81e6-7dab-42ce-a06c-92600b2fce4c",
   "metadata": {},
   "outputs": [
    {
     "data": {
      "text/plain": [
       "array([1, 1, 1, 1, 1, 1, 1, 1, 1, 1], dtype=int16)"
      ]
     },
     "execution_count": 67,
     "metadata": {},
     "output_type": "execute_result"
    }
   ],
   "source": [
    "x2=np.ones(10,dtype=np.int16)\n",
    "x2"
   ]
  },
  {
   "cell_type": "code",
   "execution_count": 68,
   "id": "4bbd1410-6256-4d43-bda1-fa79a896273b",
   "metadata": {},
   "outputs": [
    {
     "data": {
      "text/plain": [
       "array([0, 1, 2, 3, 4, 5, 6, 7, 8, 9])"
      ]
     },
     "execution_count": 68,
     "metadata": {},
     "output_type": "execute_result"
    }
   ],
   "source": [
    "np.arange(10) #array of 10 elements"
   ]
  },
  {
   "cell_type": "code",
   "execution_count": 69,
   "id": "1415e770-49ef-4578-88b1-ad9c5ea3e01d",
   "metadata": {},
   "outputs": [
    {
     "data": {
      "text/plain": [
       "array([ 4,  5,  6,  7,  8,  9, 10, 11, 12, 13, 14, 15, 16, 17, 18, 19])"
      ]
     },
     "execution_count": 69,
     "metadata": {},
     "output_type": "execute_result"
    }
   ],
   "source": [
    "x3=np.arange(4,20) #array of 4 to 20-1 elements\n",
    "x3"
   ]
  },
  {
   "cell_type": "code",
   "execution_count": 70,
   "id": "f20e3c79-6e59-45fd-9cf1-96be41e86f1e",
   "metadata": {},
   "outputs": [
    {
     "data": {
      "text/plain": [
       "array([ 4,  6,  8, 10, 12, 14, 16, 18])"
      ]
     },
     "execution_count": 70,
     "metadata": {},
     "output_type": "execute_result"
    }
   ],
   "source": [
    "x4=np.arange(4,20,2) #array of 4 to 20 elements by increasing 2 \n",
    "x4"
   ]
  },
  {
   "cell_type": "code",
   "execution_count": 71,
   "id": "105e2d61-7883-4c9c-acd1-a3815f3c4d1d",
   "metadata": {},
   "outputs": [],
   "source": [
    "#array operations\n",
    "x4=np.arange(4,20,2) #array of 4 to 20 elements by increasing 2 \n",
    "x5=np.arange(4,20,3) #array of 4 to 20 elements by increasing 2 \n",
    "res1=x4*4\n",
    "res2=x5/5\n",
    "res3=2+x4\n",
    "res4=10-x5"
   ]
  },
  {
   "cell_type": "code",
   "execution_count": 72,
   "id": "a7138d5c-27a6-44ef-8c56-362f2280a04c",
   "metadata": {},
   "outputs": [
    {
     "data": {
      "text/plain": [
       "array([16, 24, 32, 40, 48, 56, 64, 72])"
      ]
     },
     "execution_count": 72,
     "metadata": {},
     "output_type": "execute_result"
    }
   ],
   "source": [
    "res1"
   ]
  },
  {
   "cell_type": "code",
   "execution_count": 73,
   "id": "7f6888ee-ddb4-44e9-87e1-d15507175cf4",
   "metadata": {},
   "outputs": [
    {
     "data": {
      "text/plain": [
       "array([0.8, 1.4, 2. , 2.6, 3.2, 3.8])"
      ]
     },
     "execution_count": 73,
     "metadata": {},
     "output_type": "execute_result"
    }
   ],
   "source": [
    "res2"
   ]
  },
  {
   "cell_type": "code",
   "execution_count": 74,
   "id": "a4a2a01e-d2f4-4db9-aa33-7aeb75b6fd72",
   "metadata": {},
   "outputs": [
    {
     "data": {
      "text/plain": [
       "array([ 6,  8, 10, 12, 14, 16, 18, 20])"
      ]
     },
     "execution_count": 74,
     "metadata": {},
     "output_type": "execute_result"
    }
   ],
   "source": [
    "res3"
   ]
  },
  {
   "cell_type": "code",
   "execution_count": 75,
   "id": "c996706c-81ca-4ee0-9736-5d80b605e690",
   "metadata": {},
   "outputs": [],
   "source": [
    "x6=[16, 24, 32, 40, 48, 56, 64, 72]*2"
   ]
  },
  {
   "cell_type": "code",
   "execution_count": 76,
   "id": "2123d908-aa54-4050-a2f0-47e8466fdcde",
   "metadata": {},
   "outputs": [
    {
     "data": {
      "text/plain": [
       "[16, 24, 32, 40, 48, 56, 64, 72, 16, 24, 32, 40, 48, 56, 64, 72]"
      ]
     },
     "execution_count": 76,
     "metadata": {},
     "output_type": "execute_result"
    }
   ],
   "source": [
    "x6"
   ]
  },
  {
   "cell_type": "code",
   "execution_count": 77,
   "id": "5a7a2f6e-4f49-4764-a4b8-60e686565269",
   "metadata": {},
   "outputs": [],
   "source": [
    "#vector operation can be done"
   ]
  },
  {
   "cell_type": "code",
   "execution_count": 79,
   "id": "50f9bcba-0ff5-4aa3-b1f5-554c01bcfbc1",
   "metadata": {},
   "outputs": [
    {
     "data": {
      "text/plain": [
       "array([[ 1,  4,  7],\n",
       "       [ 1,  5,  9],\n",
       "       [10,  1,  3]])"
      ]
     },
     "execution_count": 79,
     "metadata": {},
     "output_type": "execute_result"
    }
   ],
   "source": [
    "#matrix :2dimentional array\n",
    "M1=np.array([[1,4,7],[1,5,9],[10,1,3]])\n",
    "M1"
   ]
  },
  {
   "cell_type": "code",
   "execution_count": 82,
   "id": "625f3234-4614-4e71-8e2e-861437c23883",
   "metadata": {},
   "outputs": [],
   "source": [
    "r1=M1.dtype\n",
    "r2=M1.shape\n",
    "r4=M1.size\n",
    "r5=M1.ndim"
   ]
  },
  {
   "cell_type": "code",
   "execution_count": 84,
   "id": "9379437c-9193-46ad-bbd0-e6fea46d83e8",
   "metadata": {},
   "outputs": [
    {
     "name": "stdout",
     "output_type": "stream",
     "text": [
      "int32 (3, 3) 9 2\n"
     ]
    }
   ],
   "source": [
    "print(r1,r2,r4,r5)"
   ]
  },
  {
   "cell_type": "code",
   "execution_count": 86,
   "id": "6c0059ee-d712-406b-9578-94f50dbf02a6",
   "metadata": {},
   "outputs": [
    {
     "data": {
      "text/plain": [
       "array([[1, 4],\n",
       "       [1, 5]])"
      ]
     },
     "execution_count": 86,
     "metadata": {},
     "output_type": "execute_result"
    }
   ],
   "source": [
    "M1[0:2,0:2]"
   ]
  },
  {
   "cell_type": "code",
   "execution_count": 87,
   "id": "0a7defb5-04d0-4733-bebd-2e9eb4c41f75",
   "metadata": {},
   "outputs": [
    {
     "data": {
      "text/plain": [
       "array([[ 1],\n",
       "       [ 4],\n",
       "       [ 7],\n",
       "       [ 1],\n",
       "       [ 5],\n",
       "       [ 9],\n",
       "       [10],\n",
       "       [ 1],\n",
       "       [ 3]])"
      ]
     },
     "execution_count": 87,
     "metadata": {},
     "output_type": "execute_result"
    }
   ],
   "source": [
    "M1.reshape(9,1)"
   ]
  },
  {
   "cell_type": "code",
   "execution_count": 89,
   "id": "89384bd4-30cb-4b9f-a074-559fc5dbc43a",
   "metadata": {},
   "outputs": [
    {
     "data": {
      "text/plain": [
       "array([[ 1,  0,  7],\n",
       "       [ 0,  1,  9],\n",
       "       [10,  1,  3]])"
      ]
     },
     "execution_count": 89,
     "metadata": {},
     "output_type": "execute_result"
    }
   ],
   "source": [
    "M1[0:2,0:2]=np.array([[1,0],[0,1]])\n",
    "M1"
   ]
  },
  {
   "cell_type": "code",
   "execution_count": 90,
   "id": "ee73c2d4-5356-40f9-b2da-2f81c2691054",
   "metadata": {},
   "outputs": [
    {
     "data": {
      "text/plain": [
       "array([[ 1,  0,  7],\n",
       "       [ 0,  1,  9],\n",
       "       [10,  1,  3]])"
      ]
     },
     "execution_count": 90,
     "metadata": {},
     "output_type": "execute_result"
    }
   ],
   "source": [
    "M1.reshape(9,-1) #columns adjust accordingly\n",
    "M1"
   ]
  },
  {
   "cell_type": "code",
   "execution_count": 91,
   "id": "cbb92693-81d4-4cfb-83bd-8db32eb0518e",
   "metadata": {},
   "outputs": [],
   "source": [
    "xx1=M1.reshape(-1) #converts the data into vector\n",
    "xx2=M1.flatten() #converts the data into vector\n",
    "xx3=M1.T # transpose of a matrix\n",
    "xx4=M1.min()\n",
    "xx5=M1.min(axis=0) #minimum numbers in a row\n",
    "xx6=M1.min(axis=1)# minimum number in a column"
   ]
  },
  {
   "cell_type": "code",
   "execution_count": 92,
   "id": "76a3aec2-e760-4406-acd9-044ba661390d",
   "metadata": {},
   "outputs": [
    {
     "name": "stdout",
     "output_type": "stream",
     "text": [
      "[ 1  0  7  0  1  9 10  1  3] [ 1  0  7  0  1  9 10  1  3] [[ 1  0 10]\n",
      " [ 0  1  1]\n",
      " [ 7  9  3]] 0 [0 0 3] [0 0 1]\n"
     ]
    }
   ],
   "source": [
    "print(xx1,xx2,xx3,xx4,xx5,xx6)"
   ]
  },
  {
   "cell_type": "code",
   "execution_count": 93,
   "id": "f18ab005-b5a8-4f28-a7e7-817a9fa30e85",
   "metadata": {},
   "outputs": [
    {
     "data": {
      "text/plain": [
       "array([[ 1,  0,  7],\n",
       "       [ 0,  1,  9],\n",
       "       [10,  1,  3]])"
      ]
     },
     "execution_count": 93,
     "metadata": {},
     "output_type": "execute_result"
    }
   ],
   "source": [
    "M1"
   ]
  },
  {
   "cell_type": "code",
   "execution_count": 94,
   "id": "7213cf47-280a-476d-bb82-e0dbf64218cb",
   "metadata": {},
   "outputs": [
    {
     "data": {
      "text/plain": [
       "dtype('int32')"
      ]
     },
     "execution_count": 94,
     "metadata": {},
     "output_type": "execute_result"
    }
   ],
   "source": [
    "M1.dtype"
   ]
  },
  {
   "cell_type": "code",
   "execution_count": 95,
   "id": "f22a1dd8-8250-4593-99ce-aff330dc8729",
   "metadata": {},
   "outputs": [
    {
     "data": {
      "text/plain": [
       "array([[ 1,  0,  7],\n",
       "       [ 0,  1,  9],\n",
       "       [10,  1,  3]], dtype=int16)"
      ]
     },
     "execution_count": 95,
     "metadata": {},
     "output_type": "execute_result"
    }
   ],
   "source": [
    "M2=M1.astype(np.int16)\n",
    "M2"
   ]
  },
  {
   "cell_type": "code",
   "execution_count": 96,
   "id": "75062062-b0e0-45b4-b5e0-9f0973ad53c1",
   "metadata": {},
   "outputs": [
    {
     "data": {
      "text/plain": [
       "array([[ 1.,  0.,  7.],\n",
       "       [ 0.,  1.,  9.],\n",
       "       [10.,  1.,  3.]], dtype=float16)"
      ]
     },
     "execution_count": 96,
     "metadata": {},
     "output_type": "execute_result"
    }
   ],
   "source": [
    "M3=M1.astype(np.float16)\n",
    "M3"
   ]
  },
  {
   "cell_type": "code",
   "execution_count": 97,
   "id": "25e830a2-159e-4ca6-bee5-ccc47542e5b9",
   "metadata": {},
   "outputs": [],
   "source": [
    "M4=M2"
   ]
  },
  {
   "cell_type": "code",
   "execution_count": 98,
   "id": "ce7785f8-6221-4d5b-af75-b54142a6aeea",
   "metadata": {},
   "outputs": [
    {
     "data": {
      "text/plain": [
       "1782969581264"
      ]
     },
     "execution_count": 98,
     "metadata": {},
     "output_type": "execute_result"
    }
   ],
   "source": [
    "id(M4)"
   ]
  },
  {
   "cell_type": "code",
   "execution_count": 99,
   "id": "04673837-f2e4-4fc4-b5e9-d8afe67d76cb",
   "metadata": {},
   "outputs": [
    {
     "data": {
      "text/plain": [
       "1782969581264"
      ]
     },
     "execution_count": 99,
     "metadata": {},
     "output_type": "execute_result"
    }
   ],
   "source": [
    "id(M2)"
   ]
  },
  {
   "cell_type": "code",
   "execution_count": 100,
   "id": "8d77fbc4-fb24-4607-97db-57e0dbd3d63e",
   "metadata": {},
   "outputs": [
    {
     "data": {
      "text/plain": [
       "array([[ 1,  0,  7],\n",
       "       [ 0,  1,  9],\n",
       "       [10,  1,  3]], dtype=int16)"
      ]
     },
     "execution_count": 100,
     "metadata": {},
     "output_type": "execute_result"
    }
   ],
   "source": [
    "M4=M2.copy()\n",
    "M4"
   ]
  },
  {
   "cell_type": "code",
   "execution_count": 102,
   "id": "db5e139b-32c7-4565-9216-35fe266982c0",
   "metadata": {},
   "outputs": [],
   "source": [
    "M4[0:3,0:1]=50"
   ]
  },
  {
   "cell_type": "code",
   "execution_count": 103,
   "id": "8c0e0706-1fed-4adf-b29f-dfeaef604cef",
   "metadata": {},
   "outputs": [
    {
     "data": {
      "text/plain": [
       "array([[50,  0,  7],\n",
       "       [50,  1,  9],\n",
       "       [50,  1,  3]], dtype=int16)"
      ]
     },
     "execution_count": 103,
     "metadata": {},
     "output_type": "execute_result"
    }
   ],
   "source": [
    "M4"
   ]
  },
  {
   "cell_type": "code",
   "execution_count": 104,
   "id": "48638888-80a5-42a1-abcf-7c4d64b11677",
   "metadata": {},
   "outputs": [
    {
     "data": {
      "text/plain": [
       "array([[ 1,  0,  7],\n",
       "       [ 0,  1,  9],\n",
       "       [10,  1,  3]], dtype=int16)"
      ]
     },
     "execution_count": 104,
     "metadata": {},
     "output_type": "execute_result"
    }
   ],
   "source": [
    "M2"
   ]
  },
  {
   "cell_type": "code",
   "execution_count": 105,
   "id": "9803bd13-e913-48ad-88f3-d76eab1200a6",
   "metadata": {},
   "outputs": [
    {
     "data": {
      "text/plain": [
       "1782978427856"
      ]
     },
     "execution_count": 105,
     "metadata": {},
     "output_type": "execute_result"
    }
   ],
   "source": [
    "id(M4)"
   ]
  },
  {
   "cell_type": "code",
   "execution_count": 106,
   "id": "2a41d0cd-4a2f-4519-8a1b-d6925a4296e2",
   "metadata": {},
   "outputs": [
    {
     "data": {
      "text/plain": [
       "1782969581264"
      ]
     },
     "execution_count": 106,
     "metadata": {},
     "output_type": "execute_result"
    }
   ],
   "source": [
    "id(M2)"
   ]
  },
  {
   "cell_type": "code",
   "execution_count": null,
   "id": "ad1b9f35-2f9e-41c2-b38b-7281d59cc344",
   "metadata": {},
   "outputs": [],
   "source": []
  }
 ],
 "metadata": {
  "kernelspec": {
   "display_name": "Python 3 (ipykernel)",
   "language": "python",
   "name": "python3"
  },
  "language_info": {
   "codemirror_mode": {
    "name": "ipython",
    "version": 3
   },
   "file_extension": ".py",
   "mimetype": "text/x-python",
   "name": "python",
   "nbconvert_exporter": "python",
   "pygments_lexer": "ipython3",
   "version": "3.11.7"
  }
 },
 "nbformat": 4,
 "nbformat_minor": 5
}
