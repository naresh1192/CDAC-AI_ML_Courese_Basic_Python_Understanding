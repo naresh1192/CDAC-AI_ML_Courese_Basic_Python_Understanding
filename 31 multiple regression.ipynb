{
 "cells": [
  {
   "cell_type": "code",
   "execution_count": 1,
   "id": "d56ad1cd-35bf-49d8-a2f0-212580cbfaa8",
   "metadata": {},
   "outputs": [],
   "source": [
    "import numpy as np\n",
    "import matplotlib.pyplot as plt\n",
    "import pandas as pd"
   ]
  },
  {
   "cell_type": "code",
   "execution_count": 3,
   "id": "1301df3e-8e8c-4be0-b84b-8c8f6eabb082",
   "metadata": {
    "scrolled": true
   },
   "outputs": [
    {
     "name": "stdout",
     "output_type": "stream",
     "text": [
      "mtcars Data\n",
      "      mpg  cyl   disp   hp  drat     wt   qsec  vs  am  gear  carb\n",
      "0   21.0    6  160.0  110  3.90  2.620  16.46   0   1     4     4\n",
      "1   21.0    6  160.0  110  3.90  2.875  17.02   0   1     4     4\n",
      "2   22.8    4  108.0   93  3.85  2.320  18.61   1   1     4     1\n",
      "3   21.4    6  258.0  110  3.08  3.215  19.44   1   0     3     1\n",
      "4   18.7    8  360.0  175  3.15  3.440  17.02   0   0     3     2\n",
      "5   18.1    6  225.0  105  2.76  3.460  20.22   1   0     3     1\n",
      "6   14.3    8  360.0  245  3.21  3.570  15.84   0   0     3     4\n",
      "7   24.4    4  146.7   62  3.69  3.190  20.00   1   0     4     2\n",
      "8   22.8    4  140.8   95  3.92  3.150  22.90   1   0     4     2\n",
      "9   19.2    6  167.6  123  3.92  3.440  18.30   1   0     4     4\n",
      "10  17.8    6  167.6  123  3.92  3.440  18.90   1   0     4     4\n",
      "11  16.4    8  275.8  180  3.07  4.070  17.40   0   0     3     3\n",
      "12  17.3    8  275.8  180  3.07  3.730  17.60   0   0     3     3\n",
      "13  15.2    8  275.8  180  3.07  3.780  18.00   0   0     3     3\n",
      "14  10.4    8  472.0  205  2.93  5.250  17.98   0   0     3     4\n",
      "15  10.4    8  460.0  215  3.00  5.424  17.82   0   0     3     4\n",
      "16  14.7    8  440.0  230  3.23  5.345  17.42   0   0     3     4\n",
      "17  32.4    4   78.7   66  4.08  2.200  19.47   1   1     4     1\n",
      "18  30.4    4   75.7   52  4.93  1.615  18.52   1   1     4     2\n",
      "19  33.9    4   71.1   65  4.22  1.835  19.90   1   1     4     1\n",
      "20  21.5    4  120.1   97  3.70  2.465  20.01   1   0     3     1\n",
      "21  15.5    8  318.0  150  2.76  3.520  16.87   0   0     3     2\n",
      "22  15.2    8  304.0  150  3.15  3.435  17.30   0   0     3     2\n",
      "23  13.3    8  350.0  245  3.73  3.840  15.41   0   0     3     4\n",
      "24  19.2    8  400.0  175  3.08  3.845  17.05   0   0     3     2\n",
      "25  27.3    4   79.0   66  4.08  1.935  18.90   1   1     4     1\n",
      "26  26.0    4  120.3   91  4.43  2.140  16.70   0   1     5     2\n",
      "27  30.4    4   95.1  113  3.77  1.513  16.90   1   1     5     2\n",
      "28  15.8    8  351.0  264  4.22  3.170  14.50   0   1     5     4\n",
      "29  19.7    6  145.0  175  3.62  2.770  15.50   0   1     5     6\n",
      "30  15.0    8  301.0  335  3.54  3.570  14.60   0   1     5     8\n",
      "31  21.4    4  121.0  109  4.11  2.780  18.60   1   1     4     2\n"
     ]
    }
   ],
   "source": [
    "df = pd.read_csv('datasets/mtcars.csv')\n",
    "print('mtcars Data\\n',df)"
   ]
  },
  {
   "cell_type": "code",
   "execution_count": 8,
   "id": "8ca27b51-940c-433c-a539-40e7a6fa2af2",
   "metadata": {},
   "outputs": [
    {
     "data": {
      "text/plain": [
       "Index(['mpg', 'cyl', 'disp', 'hp', 'drat', 'wt', 'qsec', 'vs', 'am', 'gear',\n",
       "       'carb'],\n",
       "      dtype='object')"
      ]
     },
     "execution_count": 8,
     "metadata": {},
     "output_type": "execute_result"
    }
   ],
   "source": [
    "df.columns"
   ]
  },
  {
   "cell_type": "code",
   "execution_count": 13,
   "id": "21de927f-2d1a-47eb-a16e-84bb49416162",
   "metadata": {},
   "outputs": [],
   "source": [
    "# separate the input and output variable\n",
    "x = df[['disp', 'hp','wt']] #3inputs\n",
    "y = df['mpg']#output"
   ]
  },
  {
   "cell_type": "code",
   "execution_count": 17,
   "id": "21b3c253-9c9c-4d30-b9c7-f07fac7c8755",
   "metadata": {},
   "outputs": [
    {
     "name": "stdout",
     "output_type": "stream",
     "text": [
      "inputs\n",
      "      disp   hp     wt\n",
      "0   160.0  110  2.620\n",
      "1   160.0  110  2.875\n",
      "2   108.0   93  2.320\n",
      "3   258.0  110  3.215\n",
      "4   360.0  175  3.440\n",
      "5   225.0  105  3.460\n",
      "6   360.0  245  3.570\n",
      "7   146.7   62  3.190\n",
      "8   140.8   95  3.150\n",
      "9   167.6  123  3.440\n",
      "10  167.6  123  3.440\n",
      "11  275.8  180  4.070\n",
      "12  275.8  180  3.730\n",
      "13  275.8  180  3.780\n",
      "14  472.0  205  5.250\n",
      "15  460.0  215  5.424\n",
      "16  440.0  230  5.345\n",
      "17   78.7   66  2.200\n",
      "18   75.7   52  1.615\n",
      "19   71.1   65  1.835\n",
      "20  120.1   97  2.465\n",
      "21  318.0  150  3.520\n",
      "22  304.0  150  3.435\n",
      "23  350.0  245  3.840\n",
      "24  400.0  175  3.845\n",
      "25   79.0   66  1.935\n",
      "26  120.3   91  2.140\n",
      "27   95.1  113  1.513\n",
      "28  351.0  264  3.170\n",
      "29  145.0  175  2.770\n",
      "30  301.0  335  3.570\n",
      "31  121.0  109  2.780\n",
      "mpg output\n",
      " 0     21.0\n",
      "1     21.0\n",
      "2     22.8\n",
      "3     21.4\n",
      "4     18.7\n",
      "5     18.1\n",
      "6     14.3\n",
      "7     24.4\n",
      "8     22.8\n",
      "9     19.2\n",
      "10    17.8\n",
      "11    16.4\n",
      "12    17.3\n",
      "13    15.2\n",
      "14    10.4\n",
      "15    10.4\n",
      "16    14.7\n",
      "17    32.4\n",
      "18    30.4\n",
      "19    33.9\n",
      "20    21.5\n",
      "21    15.5\n",
      "22    15.2\n",
      "23    13.3\n",
      "24    19.2\n",
      "25    27.3\n",
      "26    26.0\n",
      "27    30.4\n",
      "28    15.8\n",
      "29    19.7\n",
      "30    15.0\n",
      "31    21.4\n",
      "Name: mpg, dtype: float64\n"
     ]
    },
    {
     "data": {
      "text/plain": [
       "(None, None)"
      ]
     },
     "execution_count": 17,
     "metadata": {},
     "output_type": "execute_result"
    }
   ],
   "source": [
    "print('inputs\\n',x),print('mpg output\\n',y)"
   ]
  },
  {
   "cell_type": "code",
   "execution_count": 15,
   "id": "87f643df-98a5-454f-8c3d-f5da65eb66a7",
   "metadata": {},
   "outputs": [
    {
     "data": {
      "text/plain": [
       "disp   -0.847551\n",
       "hp     -0.776168\n",
       "wt     -0.867659\n",
       "dtype: float64"
      ]
     },
     "execution_count": 15,
     "metadata": {},
     "output_type": "execute_result"
    }
   ],
   "source": [
    "x.corrwith(y)"
   ]
  },
  {
   "cell_type": "code",
   "execution_count": 18,
   "id": "37d5fcb3-6e68-4cbf-8bdb-cc300eefc96d",
   "metadata": {},
   "outputs": [],
   "source": [
    "# build model\n",
    "from sklearn.linear_model import LinearRegression"
   ]
  },
  {
   "cell_type": "code",
   "execution_count": 19,
   "id": "fbad7003-ef6b-459e-90a9-da4483f10ae3",
   "metadata": {},
   "outputs": [
    {
     "data": {
      "text/html": [
       "<style>#sk-container-id-1 {color: black;background-color: white;}#sk-container-id-1 pre{padding: 0;}#sk-container-id-1 div.sk-toggleable {background-color: white;}#sk-container-id-1 label.sk-toggleable__label {cursor: pointer;display: block;width: 100%;margin-bottom: 0;padding: 0.3em;box-sizing: border-box;text-align: center;}#sk-container-id-1 label.sk-toggleable__label-arrow:before {content: \"▸\";float: left;margin-right: 0.25em;color: #696969;}#sk-container-id-1 label.sk-toggleable__label-arrow:hover:before {color: black;}#sk-container-id-1 div.sk-estimator:hover label.sk-toggleable__label-arrow:before {color: black;}#sk-container-id-1 div.sk-toggleable__content {max-height: 0;max-width: 0;overflow: hidden;text-align: left;background-color: #f0f8ff;}#sk-container-id-1 div.sk-toggleable__content pre {margin: 0.2em;color: black;border-radius: 0.25em;background-color: #f0f8ff;}#sk-container-id-1 input.sk-toggleable__control:checked~div.sk-toggleable__content {max-height: 200px;max-width: 100%;overflow: auto;}#sk-container-id-1 input.sk-toggleable__control:checked~label.sk-toggleable__label-arrow:before {content: \"▾\";}#sk-container-id-1 div.sk-estimator input.sk-toggleable__control:checked~label.sk-toggleable__label {background-color: #d4ebff;}#sk-container-id-1 div.sk-label input.sk-toggleable__control:checked~label.sk-toggleable__label {background-color: #d4ebff;}#sk-container-id-1 input.sk-hidden--visually {border: 0;clip: rect(1px 1px 1px 1px);clip: rect(1px, 1px, 1px, 1px);height: 1px;margin: -1px;overflow: hidden;padding: 0;position: absolute;width: 1px;}#sk-container-id-1 div.sk-estimator {font-family: monospace;background-color: #f0f8ff;border: 1px dotted black;border-radius: 0.25em;box-sizing: border-box;margin-bottom: 0.5em;}#sk-container-id-1 div.sk-estimator:hover {background-color: #d4ebff;}#sk-container-id-1 div.sk-parallel-item::after {content: \"\";width: 100%;border-bottom: 1px solid gray;flex-grow: 1;}#sk-container-id-1 div.sk-label:hover label.sk-toggleable__label {background-color: #d4ebff;}#sk-container-id-1 div.sk-serial::before {content: \"\";position: absolute;border-left: 1px solid gray;box-sizing: border-box;top: 0;bottom: 0;left: 50%;z-index: 0;}#sk-container-id-1 div.sk-serial {display: flex;flex-direction: column;align-items: center;background-color: white;padding-right: 0.2em;padding-left: 0.2em;position: relative;}#sk-container-id-1 div.sk-item {position: relative;z-index: 1;}#sk-container-id-1 div.sk-parallel {display: flex;align-items: stretch;justify-content: center;background-color: white;position: relative;}#sk-container-id-1 div.sk-item::before, #sk-container-id-1 div.sk-parallel-item::before {content: \"\";position: absolute;border-left: 1px solid gray;box-sizing: border-box;top: 0;bottom: 0;left: 50%;z-index: -1;}#sk-container-id-1 div.sk-parallel-item {display: flex;flex-direction: column;z-index: 1;position: relative;background-color: white;}#sk-container-id-1 div.sk-parallel-item:first-child::after {align-self: flex-end;width: 50%;}#sk-container-id-1 div.sk-parallel-item:last-child::after {align-self: flex-start;width: 50%;}#sk-container-id-1 div.sk-parallel-item:only-child::after {width: 0;}#sk-container-id-1 div.sk-dashed-wrapped {border: 1px dashed gray;margin: 0 0.4em 0.5em 0.4em;box-sizing: border-box;padding-bottom: 0.4em;background-color: white;}#sk-container-id-1 div.sk-label label {font-family: monospace;font-weight: bold;display: inline-block;line-height: 1.2em;}#sk-container-id-1 div.sk-label-container {text-align: center;}#sk-container-id-1 div.sk-container {/* jupyter's `normalize.less` sets `[hidden] { display: none; }` but bootstrap.min.css set `[hidden] { display: none !important; }` so we also need the `!important` here to be able to override the default hidden behavior on the sphinx rendered scikit-learn.org. See: https://github.com/scikit-learn/scikit-learn/issues/21755 */display: inline-block !important;position: relative;}#sk-container-id-1 div.sk-text-repr-fallback {display: none;}</style><div id=\"sk-container-id-1\" class=\"sk-top-container\"><div class=\"sk-text-repr-fallback\"><pre>LinearRegression()</pre><b>In a Jupyter environment, please rerun this cell to show the HTML representation or trust the notebook. <br />On GitHub, the HTML representation is unable to render, please try loading this page with nbviewer.org.</b></div><div class=\"sk-container\" hidden><div class=\"sk-item\"><div class=\"sk-estimator sk-toggleable\"><input class=\"sk-toggleable__control sk-hidden--visually\" id=\"sk-estimator-id-1\" type=\"checkbox\" checked><label for=\"sk-estimator-id-1\" class=\"sk-toggleable__label sk-toggleable__label-arrow\">LinearRegression</label><div class=\"sk-toggleable__content\"><pre>LinearRegression()</pre></div></div></div></div></div>"
      ],
      "text/plain": [
       "LinearRegression()"
      ]
     },
     "execution_count": 19,
     "metadata": {},
     "output_type": "execute_result"
    }
   ],
   "source": [
    "regressor = LinearRegression()\n",
    "regressor.fit(x,y)"
   ]
  },
  {
   "cell_type": "code",
   "execution_count": 20,
   "id": "16d78fe3-f8f7-486e-aac0-413d316cdb18",
   "metadata": {},
   "outputs": [
    {
     "data": {
      "text/plain": [
       "0.8268361424946447"
      ]
     },
     "execution_count": 20,
     "metadata": {},
     "output_type": "execute_result"
    }
   ],
   "source": [
    "regressor.score(x,y)"
   ]
  },
  {
   "cell_type": "code",
   "execution_count": 21,
   "id": "9a132aa3-e314-40ab-9f37-3b13e5624a50",
   "metadata": {},
   "outputs": [
    {
     "data": {
      "text/plain": [
       "array([-9.37009081e-04, -3.11565508e-02, -3.80089058e+00])"
      ]
     },
     "execution_count": 21,
     "metadata": {},
     "output_type": "execute_result"
    }
   ],
   "source": [
    "# m value\n",
    "regressor.coef_"
   ]
  },
  {
   "cell_type": "code",
   "execution_count": 22,
   "id": "c9ea9c6a-36a2-4729-b9af-c4e0759fa5cc",
   "metadata": {},
   "outputs": [
    {
     "data": {
      "text/plain": [
       "37.10550526903182"
      ]
     },
     "execution_count": 22,
     "metadata": {},
     "output_type": "execute_result"
    }
   ],
   "source": [
    "# c value\n",
    "regressor.intercept_"
   ]
  },
  {
   "cell_type": "code",
   "execution_count": 23,
   "id": "bc586a69-4ad7-496e-9ed4-01f159dc8df0",
   "metadata": {},
   "outputs": [
    {
     "name": "stderr",
     "output_type": "stream",
     "text": [
      "C:\\ProgramData\\anaconda3\\Lib\\site-packages\\sklearn\\base.py:439: UserWarning: X does not have valid feature names, but LinearRegression was fitted with feature names\n",
      "  warnings.warn(\n"
     ]
    },
    {
     "data": {
      "text/plain": [
       "array([22.65986648])"
      ]
     },
     "execution_count": 23,
     "metadata": {},
     "output_type": "execute_result"
    }
   ],
   "source": [
    "# predict mpg for an unseen data\n",
    "disp = 221\n",
    "hp = 102\n",
    "wt = 2.91\n",
    "regressor.predict([[221,102,2.91]])"
   ]
  },
  {
   "cell_type": "code",
   "execution_count": 26,
   "id": "0682753b-db84-49cf-a412-70b3c9988d7c",
   "metadata": {},
   "outputs": [
    {
     "data": {
      "text/html": [
       "<div>\n",
       "<style scoped>\n",
       "    .dataframe tbody tr th:only-of-type {\n",
       "        vertical-align: middle;\n",
       "    }\n",
       "\n",
       "    .dataframe tbody tr th {\n",
       "        vertical-align: top;\n",
       "    }\n",
       "\n",
       "    .dataframe thead th {\n",
       "        text-align: right;\n",
       "    }\n",
       "</style>\n",
       "<table border=\"1\" class=\"dataframe\">\n",
       "  <thead>\n",
       "    <tr style=\"text-align: right;\">\n",
       "      <th></th>\n",
       "      <th>disp</th>\n",
       "      <th>hp</th>\n",
       "      <th>wt</th>\n",
       "    </tr>\n",
       "  </thead>\n",
       "  <tbody>\n",
       "    <tr>\n",
       "      <th>0</th>\n",
       "      <td>221</td>\n",
       "      <td>102</td>\n",
       "      <td>2.91</td>\n",
       "    </tr>\n",
       "  </tbody>\n",
       "</table>\n",
       "</div>"
      ],
      "text/plain": [
       "   disp   hp    wt\n",
       "0   221  102  2.91"
      ]
     },
     "execution_count": 26,
     "metadata": {},
     "output_type": "execute_result"
    }
   ],
   "source": [
    "result = pd.DataFrame({\n",
    "    'disp':[221],\n",
    "    'hp': [102],\n",
    "    'wt': [2.91]\n",
    "})\n",
    "result"
   ]
  },
  {
   "cell_type": "code",
   "execution_count": 32,
   "id": "06bba6ae-26d9-48a8-924b-36ca5adc8bdc",
   "metadata": {},
   "outputs": [
    {
     "name": "stdout",
     "output_type": "stream",
     "text": [
      "predicted milage is:\n",
      " [22.65986648]\n"
     ]
    }
   ],
   "source": [
    "y_pred = regressor.predict(result)\n",
    "print('predicted milage is:\\n', y_pred)"
   ]
  },
  {
   "cell_type": "code",
   "execution_count": 35,
   "id": "f6594272-622d-4123-ae4e-51a853104cf3",
   "metadata": {},
   "outputs": [
    {
     "name": "stdout",
     "output_type": "stream",
     "text": [
      "predicted milage is:\n",
      " 22.65986648189271\n"
     ]
    }
   ],
   "source": [
    "predict = disp*regressor.coef_[0] + hp*regressor.coef_[1] + wt*regressor.coef_[2] + regressor.intercept_\n",
    "print('predicted milage is:\\n', predict)"
   ]
  },
  {
   "cell_type": "code",
   "execution_count": 45,
   "id": "09818478-0ae7-4d7a-ba3d-052043c8f01b",
   "metadata": {},
   "outputs": [
    {
     "data": {
      "text/plain": [
       "<matplotlib.collections.PathCollection at 0x27ce2debcd0>"
      ]
     },
     "execution_count": 45,
     "metadata": {},
     "output_type": "execute_result"
    },
    {
     "data": {
      "image/png": "[encoded data removed]",
      "text/plain": [
       "<Figure size 1600x900 with 3 Axes>"
      ]
     },
     "metadata": {},
     "output_type": "display_data"
    }
   ],
   "source": [
    "plt.figure(figsize = (16,9))\n",
    "plt.subplot(1,3,1)\n",
    "plt.title(' mpg vs disp')\n",
    "plt.xlabel(' disp')\n",
    "plt.ylabel('mpg')\n",
    "plt.grid()\n",
    "plt.scatter(x['disp'], y, color = 'red')\n",
    "\n",
    "plt.subplot(1,3,2)\n",
    "plt.title(' mpg vs hp')\n",
    "plt.xlabel(' hp')\n",
    "plt.ylabel('mpg')\n",
    "plt.grid()\n",
    "plt.scatter(x['hp'], y, color = 'green')\n",
    "\n",
    "plt.subplot(1,3,3)\n",
    "plt.title(' mpg vs wt')\n",
    "plt.xlabel(' wt')\n",
    "plt.ylabel('mpg')\n",
    "plt.grid()\n",
    "plt.scatter(x['wt'], y, color = 'blue')"
   ]
  },
  {
   "cell_type": "code",
   "execution_count": null,
   "id": "b5590631-f976-4c9e-8741-4aa3af6acc0f",
   "metadata": {},
   "outputs": [],
   "source": []
  }
 ],
 "metadata": {
  "kernelspec": {
   "display_name": "Python 3 (ipykernel)",
   "language": "python",
   "name": "python3"
  },
  "language_info": {
   "codemirror_mode": {
    "name": "ipython",
    "version": 3
   },
   "file_extension": ".py",
   "mimetype": "text/x-python",
   "name": "python",
   "nbconvert_exporter": "python",
   "pygments_lexer": "ipython3",
   "version": "3.11.7"
  }
 },
 "nbformat": 4,
 "nbformat_minor": 5
}
