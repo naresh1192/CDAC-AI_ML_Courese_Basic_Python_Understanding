{
 "cells": [
  {
   "cell_type": "code",
   "execution_count": 37,
   "id": "3c136dd0-4916-464d-8ce0-dda40fa2344a",
   "metadata": {},
   "outputs": [],
   "source": [
    "\n",
    "import pandas as pd\n",
    "import numpy as np"
   ]
  },
  {
   "cell_type": "code",
   "execution_count": 38,
   "id": "9f756d27-ad0d-464e-9bdb-1cbbf033eb85",
   "metadata": {},
   "outputs": [
    {
     "name": "stdout",
     "output_type": "stream",
     "text": [
      "DataSet\n",
      "      Unnamed: 0  Ozone  Solar.R  Wind  Temp  Month  Day\n",
      "0             1   41.0    190.0   7.4    67      5    1\n",
      "1             2   36.0    118.0   8.0    72      5    2\n",
      "2             3   12.0    149.0  12.6    74      5    3\n",
      "3             4   18.0    313.0  11.5    62      5    4\n",
      "4             5    NaN      NaN  14.3    56      5    5\n",
      "..          ...    ...      ...   ...   ...    ...  ...\n",
      "148         149   30.0    193.0   6.9    70      9   26\n",
      "149         150    NaN    145.0  13.2    77      9   27\n",
      "150         151   14.0    191.0  14.3    75      9   28\n",
      "151         152   18.0    131.0   8.0    76      9   29\n",
      "152         153   20.0    223.0  11.5    68      9   30\n",
      "\n",
      "[153 rows x 7 columns]\n"
     ]
    }
   ],
   "source": [
    "# 01-1 reading the data using pandas\n",
    "df = pd.read_csv('datasets/airquality.csv')\n",
    "print('DataSet\\n', df)"
   ]
  },
  {
   "cell_type": "code",
   "execution_count": 64,
   "id": "6ac96876-06e0-4b90-8612-b8d9a294493f",
   "metadata": {},
   "outputs": [
    {
     "name": "stdout",
     "output_type": "stream",
     "text": [
      "no of rows: 153\n",
      "no of columns: 7\n"
     ]
    }
   ],
   "source": [
    "#01-2 find number of rows and columns\n",
    "rows, cols = df.shape\n",
    "r = rows\n",
    "c = cols\n",
    "print('no of rows:', r)\n",
    "print('no of columns:', c)"
   ]
  },
  {
   "cell_type": "code",
   "execution_count": 65,
   "id": "e216fcfe-2204-487a-919d-d3073a79fff7",
   "metadata": {},
   "outputs": [
    {
     "name": "stdout",
     "output_type": "stream",
     "text": [
      "column names\n",
      " Index(['Unnamed: 0', 'Ozone', 'Solar.R', 'Wind', 'Temp', 'Month', 'Day'], dtype='object')\n"
     ]
    }
   ],
   "source": [
    "# 01-3 find names columns  \n",
    "column_names = df.columns\n",
    "print('column names\\n',column_names)"
   ]
  },
  {
   "cell_type": "code",
   "execution_count": 68,
   "id": "cf94ff3c-8e8d-463f-9c6b-2681f688bae8",
   "metadata": {},
   "outputs": [
    {
     "name": "stdout",
     "output_type": "stream",
     "text": [
      "extraction of row data from 10 to 25\n",
      "     Unnamed: 0  Ozone  Solar.R  Wind  Temp  Month  Day\n",
      "10          11    7.0      NaN   6.9    74      5   11\n",
      "11          12   16.0    256.0   9.7    69      5   12\n",
      "12          13   11.0    290.0   9.2    66      5   13\n",
      "13          14   14.0    274.0  10.9    68      5   14\n",
      "14          15   18.0     65.0  13.2    58      5   15\n",
      "15          16   14.0    334.0  11.5    64      5   16\n",
      "16          17   34.0    307.0  12.0    66      5   17\n",
      "17          18    6.0     78.0  18.4    57      5   18\n",
      "18          19   30.0    322.0  11.5    68      5   19\n",
      "19          20   11.0     44.0   9.7    62      5   20\n",
      "20          21    1.0      8.0   9.7    59      5   21\n",
      "21          22   11.0    320.0  16.6    73      5   22\n",
      "22          23    4.0     25.0   9.7    61      5   23\n",
      "23          24   32.0     92.0  12.0    61      5   24\n",
      "24          25    NaN     66.0  16.6    57      5   25\n",
      "25          26    NaN    266.0  14.9    58      5   26\n"
     ]
    }
   ],
   "source": [
    "# 01-4 extracting row data from 10 to 25  \n",
    "slicing_row = df.iloc[10:26,:]\n",
    "print('extraction of row data from 10 to 25\\n', slicing_row)"
   ]
  },
  {
   "cell_type": "code",
   "execution_count": 42,
   "id": "24364f04-ebcc-4649-9124-2d16bc195b6e",
   "metadata": {},
   "outputs": [
    {
     "name": "stdout",
     "output_type": "stream",
     "text": [
      "temperature data is \n",
      " 0      67\n",
      "1      72\n",
      "2      74\n",
      "3      62\n",
      "4      56\n",
      "       ..\n",
      "148    70\n",
      "149    77\n",
      "150    75\n",
      "151    76\n",
      "152    68\n",
      "Name: Temp, Length: 153, dtype: int64\n"
     ]
    }
   ],
   "source": [
    "# 01-5 extracting data from temperature column\n",
    "temp_data = df['Temp']\n",
    "print('Temperature data is \\n', temp_data)"
   ]
  },
  {
   "cell_type": "code",
   "execution_count": 69,
   "id": "38d0e9db-431e-4fce-8a6e-b59e45408025",
   "metadata": {},
   "outputs": [
    {
     "name": "stdout",
     "output_type": "stream",
     "text": [
      "temperature data in degC is \n",
      " 0      63.0\n",
      "1      72.0\n",
      "2      75.6\n",
      "3      54.0\n",
      "4      43.2\n",
      "       ... \n",
      "148    68.4\n",
      "149    81.0\n",
      "150    77.4\n",
      "151    79.2\n",
      "152    64.8\n",
      "Name: Temp, Length: 153, dtype: float64\n"
     ]
    }
   ],
   "source": [
    "# 01-6 data conversion from forenheigt to centigrade\n",
    "temp_centg = 1.8*temp_data-57.6\n",
    "print('Temperature data in degC is \\n', temp_centg)"
   ]
  },
  {
   "cell_type": "code",
   "execution_count": 73,
   "id": "249e483a-ba4c-4491-9594-b7b149f8c030",
   "metadata": {},
   "outputs": [
    {
     "name": "stdout",
     "output_type": "stream",
     "text": [
      "Selecting DataSet containing month 5 \n",
      "      Unnamed: 0  Ozone  Solar.R  Wind  Temp  Month  Day\n",
      "0             1   41.0    190.0   7.4    67      5    1\n",
      "1             2   36.0    118.0   8.0    72      5    2\n",
      "2             3   12.0    149.0  12.6    74      5    3\n",
      "3             4   18.0    313.0  11.5    62      5    4\n",
      "4             5    NaN      NaN  14.3    56      5    5\n",
      "..          ...    ...      ...   ...   ...    ...  ...\n",
      "148         149   30.0    193.0   6.9    70      5   26\n",
      "149         150    NaN    145.0  13.2    77      5   27\n",
      "150         151   14.0    191.0  14.3    75      5   28\n",
      "151         152   18.0    131.0   8.0    76      5   29\n",
      "152         153   20.0    223.0  11.5    68      5   30\n",
      "\n",
      "[153 rows x 7 columns]\n"
     ]
    }
   ],
   "source": [
    "# 01-7 displaying the information of fifth month\n",
    "info_fifth_m = df['Month']\n",
    "#print('label slicing of DataSet\\n',info_fifth_m )\n",
    "\n",
    "month = df[df['Month']==5]\n",
    "print('Selecting DataSet containing month 5 \\n', month)"
   ]
  },
  {
   "cell_type": "code",
   "execution_count": 1,
   "id": "3a955aaf-7adb-488e-910d-f873c9312767",
   "metadata": {},
   "outputs": [
    {
     "name": "stdout",
     "output_type": "stream",
     "text": [
      "Data of cricket players\n",
      "    sr.no           name  matches  runs  catches  wickets  stumpings\n",
      "0      1    Anil Dalpat      122  6755       56       12          0\n",
      "1      2   Rohan Kanhay      144  1256       76      178          0\n",
      "2      3  Avdhoot Dighe      265  8954      120        0          0\n",
      "3      4       Bahubali       10   756        6       11          3\n",
      "4      5      Leeladhar      234  2866      105      376          0\n",
      "5      6      Pradyumna      177  5877       47      122          0\n",
      "6      7     Dinesh Roy      211  8537      112       16          0\n",
      "7      8     Parmeshwar      245  9466       53        0          0\n",
      "8      9    Ali Durrani       55  2756       12       26          0\n",
      "9     10   Litesh Singh       89  1099       46       49          0\n"
     ]
    }
   ],
   "source": [
    "# 02-1 reading the data using pandas\n",
    "import pandas as pd\n",
    "import numpy as np\n",
    "df = pd.read_csv('datasets/cricket.csv')\n",
    "print('Data of cricket players\\n', df)"
   ]
  },
  {
   "cell_type": "code",
   "execution_count": 2,
   "id": "bf8a8d54-e770-428e-bdc1-4e9eb8f106a9",
   "metadata": {},
   "outputs": [
    {
     "name": "stdout",
     "output_type": "stream",
     "text": [
      "List of cricketers along with their runs\n",
      "             name  runs\n",
      "0    Anil Dalpat  6755\n",
      "1   Rohan Kanhay  1256\n",
      "2  Avdhoot Dighe  8954\n",
      "3       Bahubali   756\n",
      "4      Leeladhar  2866\n",
      "5      Pradyumna  5877\n",
      "6     Dinesh Roy  8537\n",
      "7     Parmeshwar  9466\n",
      "8    Ali Durrani  2756\n",
      "9   Litesh Singh  1099\n"
     ]
    }
   ],
   "source": [
    "# 02-2 list of cricketers along with their runs\n",
    "cric_list = df.loc[:, ['name', 'runs']]\n",
    "print('List of cricketers along with their runs\\n', cric_list)"
   ]
  },
  {
   "cell_type": "code",
   "execution_count": 3,
   "id": "11d373e4-a37c-4bf1-ae4d-ce8cd8bdc36a",
   "metadata": {},
   "outputs": [
    {
     "name": "stdout",
     "output_type": "stream",
     "text": [
      "Wickets taken:\n",
      " 790\n"
     ]
    }
   ],
   "source": [
    "# 02-3 Total wickets taken by all the cricketers \n",
    "wickets1 = df.loc[:,'wickets']\n",
    "sum_wickets = wickets1.sum()\n",
    "print('Wickets taken:\\n', sum_wickets)"
   ]
  },
  {
   "cell_type": "code",
   "execution_count": 8,
   "id": "dbf9e2bf-3e4f-40ee-84a8-88efb740d481",
   "metadata": {},
   "outputs": [
    {
     "name": "stdout",
     "output_type": "stream",
     "text": [
      "Average catches:\n",
      " 63.3\n"
     ]
    }
   ],
   "source": [
    "# 02-4 average catches by all the cricketers \n",
    "catches1 = df.loc[:,'catches']\n",
    "avg_catches = catches1.mean()\n",
    "print('Average catches:\\n', avg_catches)"
   ]
  },
  {
   "cell_type": "code",
   "execution_count": 11,
   "id": "693bad4e-8c8e-488e-acbf-26b7d8d1e486",
   "metadata": {},
   "outputs": [
    {
     "name": "stdout",
     "output_type": "stream",
     "text": [
      "   sr.no           name  matches  runs  catches  wickets  stumpings  \\\n",
      "0      1    Anil Dalpat      122  6755       56       12          0   \n",
      "1      2   Rohan Kanhay      144  1256       76      178          0   \n",
      "2      3  Avdhoot Dighe      265  8954      120        0          0   \n",
      "3      4       Bahubali       10   756        6       11          3   \n",
      "4      5      Leeladhar      234  2866      105      376          0   \n",
      "5      6      Pradyumna      177  5877       47      122          0   \n",
      "6      7     Dinesh Roy      211  8537      112       16          0   \n",
      "7      8     Parmeshwar      245  9466       53        0          0   \n",
      "8      9    Ali Durrani       55  2756       12       26          0   \n",
      "9     10   Litesh Singh       89  1099       46       49          0   \n",
      "\n",
      "   Total Balls Faced  Strike Rate  Strike_Rate  \n",
      "0               7320    92.281421    92.281421  \n",
      "1               8640    14.537037    14.537037  \n",
      "2              15900    56.314465    56.314465  \n",
      "3                600   126.000000   126.000000  \n",
      "4              14040    20.413105    20.413105  \n",
      "5              10620    55.338983    55.338983  \n",
      "6              12660    67.432859    67.432859  \n",
      "7              14700    64.394558    64.394558  \n",
      "8               3300    83.515152    83.515152  \n",
      "9               5340    20.580524    20.580524  \n"
     ]
    }
   ],
   "source": [
    "# 02-5 strike rate of a cricketer \n",
    "#df['Total Balls Faced'] = pd.NA\n",
    "def calculate_balls_faced(row):\n",
    "    return row['matches'] * 60 #considered 60 as min number of balls faced per match\n",
    "df['Total Balls Faced'] = df.apply(calculate_balls_faced, axis=1)\n",
    "df['Strike_Rate'] = (df['runs'] / df['Total Balls Faced']) * 100\n",
    "print(df)"
   ]
  },
  {
   "cell_type": "code",
   "execution_count": 13,
   "id": "9caba3b7-86e9-4bf7-a43d-cb9e0945bcfe",
   "metadata": {},
   "outputs": [
    {
     "name": "stdout",
     "output_type": "stream",
     "text": [
      "Selecting DataSet containing Strike Rate more than 50 \n",
      "    sr.no           name  matches  runs  catches  wickets  stumpings  \\\n",
      "0      1    Anil Dalpat      122  6755       56       12          0   \n",
      "2      3  Avdhoot Dighe      265  8954      120        0          0   \n",
      "3      4       Bahubali       10   756        6       11          3   \n",
      "5      6      Pradyumna      177  5877       47      122          0   \n",
      "6      7     Dinesh Roy      211  8537      112       16          0   \n",
      "7      8     Parmeshwar      245  9466       53        0          0   \n",
      "8      9    Ali Durrani       55  2756       12       26          0   \n",
      "\n",
      "   Total Balls Faced  Strike Rate  Strike_Rate  \n",
      "0               7320    92.281421    92.281421  \n",
      "2              15900    56.314465    56.314465  \n",
      "3                600   126.000000   126.000000  \n",
      "5              10620    55.338983    55.338983  \n",
      "6              12660    67.432859    67.432859  \n",
      "7              14700    64.394558    64.394558  \n",
      "8               3300    83.515152    83.515152  \n"
     ]
    }
   ],
   "source": [
    "# 02-6 strike rate of a cricketer more than 60\n",
    "Strike_Rate = df[df['Strike Rate']>50]\n",
    "print('Selecting DataSet containing Strike Rate more than 50 \\n', Strike_Rate )"
   ]
  },
  {
   "cell_type": "code",
   "execution_count": 144,
   "id": "6705d991-f3a6-452c-9e62-5f1d833121ea",
   "metadata": {},
   "outputs": [
    {
     "name": "stdout",
     "output_type": "stream",
     "text": [
      "Finding wicket keeper name \n",
      "    sr.no      name  matches  runs  catches  wickets  stumpings  \\\n",
      "3      4  Bahubali       10   756        6       11          3   \n",
      "\n",
      "   Total Balls Faced  Strike Rate  \n",
      "3                600        126.0  \n"
     ]
    }
   ],
   "source": [
    "# 02-7 Finding wicket keeper name\n",
    "name_keeper  = df[df['stumpings']>0]\n",
    "print('Finding wicket keeper name \\n', name_keeper)"
   ]
  },
  {
   "cell_type": "code",
   "execution_count": 147,
   "id": "0908a572-ab68-4f4d-b938-351c866f58f5",
   "metadata": {},
   "outputs": [
    {
     "name": "stdout",
     "output_type": "stream",
     "text": [
      "max no of matches:\n",
      " matches    265\n",
      "dtype: int64\n"
     ]
    }
   ],
   "source": [
    "# 02-8 the cricketer who played max no of matches\n",
    "matches1 = df.loc[:,['matches']]\n",
    "max_match = matches1.max()\n",
    "print('max no of matches:\\n', max_match)"
   ]
  },
  {
   "cell_type": "code",
   "execution_count": 148,
   "id": "10db666c-ac97-4966-a675-b3fbdaeaf0c0",
   "metadata": {},
   "outputs": [
    {
     "name": "stdout",
     "output_type": "stream",
     "text": [
      " the cricketer who played max no of matches \n",
      "    sr.no           name  matches  runs  catches  wickets  stumpings  \\\n",
      "2      3  Avdhoot Dighe      265  8954      120        0          0   \n",
      "\n",
      "   Total Balls Faced  Strike Rate  \n",
      "2              15900    56.314465  \n"
     ]
    }
   ],
   "source": [
    "max_match  = df[df['matches']==265]\n",
    "print(' the cricketer who played max no of matches \\n', max_match )"
   ]
  },
  {
   "cell_type": "code",
   "execution_count": 14,
   "id": "06b4d0a6-e55a-46fb-b46b-a9696952b492",
   "metadata": {},
   "outputs": [
    {
     "name": "stdout",
     "output_type": "stream",
     "text": [
      "players who are not bowlers\n",
      "    sr.no           name  matches  runs  catches  wickets  stumpings  \\\n",
      "2      3  Avdhoot Dighe      265  8954      120        0          0   \n",
      "7      8     Parmeshwar      245  9466       53        0          0   \n",
      "\n",
      "   Total Balls Faced  Strike Rate  Strike_Rate  \n",
      "2              15900    56.314465    56.314465  \n",
      "7              14700    64.394558    64.394558  \n"
     ]
    }
   ],
   "source": [
    "# 02-9 avg of all the bowlers\n",
    "not_bowlers  = df[df['wickets']==0]\n",
    "print('players who are not bowlers\\n', not_bowlers)"
   ]
  },
  {
   "cell_type": "code",
   "execution_count": 15,
   "id": "dacf8716-e638-455e-a029-1b0af0499416",
   "metadata": {},
   "outputs": [
    {
     "name": "stdout",
     "output_type": "stream",
     "text": [
      "players who are bowlers\n",
      "    sr.no          name  matches  runs  catches  wickets  stumpings  \\\n",
      "0      1   Anil Dalpat      122  6755       56       12          0   \n",
      "1      2  Rohan Kanhay      144  1256       76      178          0   \n",
      "3      4      Bahubali       10   756        6       11          3   \n",
      "4      5     Leeladhar      234  2866      105      376          0   \n",
      "5      6     Pradyumna      177  5877       47      122          0   \n",
      "6      7    Dinesh Roy      211  8537      112       16          0   \n",
      "8      9   Ali Durrani       55  2756       12       26          0   \n",
      "9     10  Litesh Singh       89  1099       46       49          0   \n",
      "\n",
      "   Total Balls Faced  Strike Rate  Strike_Rate  \n",
      "0               7320    92.281421    92.281421  \n",
      "1               8640    14.537037    14.537037  \n",
      "3                600   126.000000   126.000000  \n",
      "4              14040    20.413105    20.413105  \n",
      "5              10620    55.338983    55.338983  \n",
      "6              12660    67.432859    67.432859  \n",
      "8               3300    83.515152    83.515152  \n",
      "9               5340    20.580524    20.580524  \n"
     ]
    }
   ],
   "source": [
    "df = df.drop([2,7]) # 2 7 index are dropped from row\n",
    "print('players who are bowlers\\n', df)"
   ]
  },
  {
   "cell_type": "code",
   "execution_count": 24,
   "id": "2b1853ac-1e9e-4b2b-90f1-fc2d996780e4",
   "metadata": {},
   "outputs": [
    {
     "name": "stdout",
     "output_type": "stream",
     "text": [
      "max no of matches:\n",
      " matches    234\n",
      "dtype: int64\n"
     ]
    }
   ],
   "source": [
    "##02-8 the cricketer who played max no of matches\n",
    "matches1 = df.loc[:,['matches']]\n",
    "max_match = matches1.max()\n",
    "print('max no of matches:\\n', max_match)"
   ]
  },
  {
   "cell_type": "code",
   "execution_count": 25,
   "id": "9fea62a6-6e1c-4c0d-82af-a57304fa5243",
   "metadata": {},
   "outputs": [
    {
     "name": "stdout",
     "output_type": "stream",
     "text": [
      " the cricketer who played max no of matches \n",
      "    sr.no       name  matches  runs  catches  wickets  stumpings  \\\n",
      "4      5  Leeladhar      234  2866      105      376          0   \n",
      "\n",
      "   Total Balls Faced  Strike Rate  Strike_Rate  \n",
      "4              14040    20.413105    20.413105  \n"
     ]
    }
   ],
   "source": [
    "max_match  = df[df['matches']== 234]\n",
    "print(' the cricketer who played max no of matches \\n', max_match )"
   ]
  },
  {
   "cell_type": "code",
   "execution_count": 152,
   "id": "4d610635-5172-4681-907c-8337ca36d559",
   "metadata": {},
   "outputs": [
    {
     "name": "stdout",
     "output_type": "stream",
     "text": [
      "avg of all the bowlers\n",
      " 98.75\n"
     ]
    }
   ],
   "source": [
    "bowling_avg = df.loc[:,'wickets']\n",
    "bowling_avg = bowling_avg.mean()\n",
    "print('avg of all the bowlers\\n', bowling_avg)"
   ]
  },
  {
   "cell_type": "code",
   "execution_count": 158,
   "id": "0205a51f-7940-4f97-a867-3ab4e989ea87",
   "metadata": {},
   "outputs": [
    {
     "name": "stdout",
     "output_type": "stream",
     "text": [
      "   sr.no           name  matches  runs  catches  wickets  stumpings  \\\n",
      "0      1    Anil Dalpat      122  6755       56       12          0   \n",
      "1      2   Rohan Kanhay      144  1256       76      178          0   \n",
      "2      3  Avdhoot Dighe      265  8954      120        0          0   \n",
      "3      4       Bahubali       10   756        6       11          3   \n",
      "4      5      Leeladhar      234  2866      105      376          0   \n",
      "5      6      Pradyumna      177  5877       47      122          0   \n",
      "6      7     Dinesh Roy      211  8537      112       16          0   \n",
      "7      8     Parmeshwar      245  9466       53        0          0   \n",
      "8      9    Ali Durrani       55  2756       12       26          0   \n",
      "9     10   Litesh Singh       89  1099       46       49          0   \n",
      "\n",
      "   Runs Conceded  Bowling Average  \n",
      "0            300         4.918033  \n",
      "1           4450        61.805556  \n",
      "2              0         0.000000  \n",
      "3            275        55.000000  \n",
      "4           9400        80.341880  \n",
      "5           3050        34.463277  \n",
      "6            400         3.791469  \n",
      "7              0         0.000000  \n",
      "8            650        23.636364  \n",
      "9           1225        27.528090  \n"
     ]
    }
   ],
   "source": [
    "# 02-10 avg of all the bowlers\n",
    "df = pd.read_csv('datasets/cricket.csv')\n",
    "df['Runs Conceded'] = pd.NA\n",
    "df['Runs Conceded'] = df['wickets'] * 25 #Assuming 25 runs per wicket \n",
    "df['Bowling Average'] = (df['Runs Conceded'] / df['matches']) * 2 #2 is avg wickets atken per match\n",
    "print(df)"
   ]
  },
  {
   "cell_type": "code",
   "execution_count": 159,
   "id": "d907496d-c322-44e3-a9d8-4675b9a1ed57",
   "metadata": {},
   "outputs": [
    {
     "name": "stdout",
     "output_type": "stream",
     "text": [
      "players who are not bowlers\n",
      "    sr.no           name  matches  runs  catches  wickets  stumpings  \\\n",
      "2      3  Avdhoot Dighe      265  8954      120        0          0   \n",
      "7      8     Parmeshwar      245  9466       53        0          0   \n",
      "\n",
      "   Runs Conceded  Bowling Average  \n",
      "2              0              0.0  \n",
      "7              0              0.0  \n"
     ]
    }
   ],
   "source": [
    "not_bowlers  = df[df['wickets']==0]\n",
    "print('players who are not bowlers\\n', not_bowlers)"
   ]
  },
  {
   "cell_type": "code",
   "execution_count": 160,
   "id": "e731ed2b-8b66-4284-86be-d23059c6a8d2",
   "metadata": {},
   "outputs": [
    {
     "name": "stdout",
     "output_type": "stream",
     "text": [
      "players who are bowlers\n",
      "    sr.no          name  matches  runs  catches  wickets  stumpings  \\\n",
      "0      1   Anil Dalpat      122  6755       56       12          0   \n",
      "1      2  Rohan Kanhay      144  1256       76      178          0   \n",
      "3      4      Bahubali       10   756        6       11          3   \n",
      "4      5     Leeladhar      234  2866      105      376          0   \n",
      "5      6     Pradyumna      177  5877       47      122          0   \n",
      "6      7    Dinesh Roy      211  8537      112       16          0   \n",
      "8      9   Ali Durrani       55  2756       12       26          0   \n",
      "9     10  Litesh Singh       89  1099       46       49          0   \n",
      "\n",
      "   Runs Conceded  Bowling Average  \n",
      "0            300         4.918033  \n",
      "1           4450        61.805556  \n",
      "3            275        55.000000  \n",
      "4           9400        80.341880  \n",
      "5           3050        34.463277  \n",
      "6            400         3.791469  \n",
      "8            650        23.636364  \n",
      "9           1225        27.528090  \n"
     ]
    }
   ],
   "source": [
    "df = df.drop([2,7]) # 2 7 index are dropped from row\n",
    "print('players who are bowlers\\n', df)"
   ]
  },
  {
   "cell_type": "code",
   "execution_count": 26,
   "id": "2d8d0e15-40be-4d5e-806a-3d358acc04f9",
   "metadata": {},
   "outputs": [
    {
     "name": "stdout",
     "output_type": "stream",
     "text": [
      "min avg of all the bowlers\n",
      " sr.no                          1\n",
      "name                 Ali Durrani\n",
      "matches                       10\n",
      "runs                         756\n",
      "catches                        6\n",
      "wickets                       11\n",
      "stumpings                      0\n",
      "Total Balls Faced            600\n",
      "Strike Rate            14.537037\n",
      "Strike_Rate            14.537037\n",
      "dtype: object\n"
     ]
    }
   ],
   "source": [
    "# 02-11 min bowling avg\n",
    "min_bowling_avg = df.min()\n",
    "print('min avg of all the bowlers\\n', min_bowling_avg)"
   ]
  },
  {
   "cell_type": "code",
   "execution_count": 18,
   "id": "9f85819d-89f5-41a3-8aa7-12875414a064",
   "metadata": {},
   "outputs": [
    {
     "name": "stdout",
     "output_type": "stream",
     "text": [
      "name of player whose wickets are more than matches\n",
      " 1    Rohan Kanhay\n",
      "3        Bahubali\n",
      "4       Leeladhar\n",
      "Name: name, dtype: object\n"
     ]
    }
   ],
   "source": [
    "# 02-12 name of player whose wickets are more than matches\n",
    "bowlers_wickets  = df[df['wickets']>df['matches']]\n",
    "print('name of player whose wickets are more than matches\\n', bowlers_wickets['name'])"
   ]
  },
  {
   "cell_type": "code",
   "execution_count": null,
   "id": "fd55ad90-3701-4320-b681-8910ee0830fc",
   "metadata": {},
   "outputs": [],
   "source": []
  }
 ],
 "metadata": {
  "kernelspec": {
   "display_name": "Python 3 (ipykernel)",
   "language": "python",
   "name": "python3"
  },
  "language_info": {
   "codemirror_mode": {
    "name": "ipython",
    "version": 3
   },
   "file_extension": ".py",
   "mimetype": "text/x-python",
   "name": "python",
   "nbconvert_exporter": "python",
   "pygments_lexer": "ipython3",
   "version": "3.11.7"
  }
 },
 "nbformat": 4,
 "nbformat_minor": 5
}
