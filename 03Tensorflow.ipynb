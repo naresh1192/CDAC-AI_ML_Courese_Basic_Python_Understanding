{
 "cells": [
  {
   "cell_type": "markdown",
   "id": "f0f1f906-38bb-4f23-856b-63e262c366ce",
   "metadata": {},
   "source": [
    "##### Day02:Tensorflow"
   ]
  },
  {
   "cell_type": "code",
   "execution_count": 46,
   "id": "5efd1bfd-fe0c-4954-b448-d7b474f0b7b0",
   "metadata": {},
   "outputs": [],
   "source": [
    "import tensorflow as tf\n",
    "import numpy as np"
   ]
  },
  {
   "cell_type": "code",
   "execution_count": 47,
   "id": "818bf4b6-6899-4b16-93e2-b4278a287232",
   "metadata": {},
   "outputs": [
    {
     "data": {
      "text/plain": [
       "<module 'tensorflow' from 'C:\\\\Users\\\\rajesh\\\\AppData\\\\Roaming\\\\Python\\\\Python311\\\\site-packages\\\\tensorflow\\\\__init__.py'>"
      ]
     },
     "execution_count": 47,
     "metadata": {},
     "output_type": "execute_result"
    }
   ],
   "source": [
    "tf"
   ]
  },
  {
   "cell_type": "code",
   "execution_count": 48,
   "id": "4be69a9a-9ec2-4ebb-a463-bfc350e9365c",
   "metadata": {},
   "outputs": [],
   "source": [
    "# create tensor"
   ]
  },
  {
   "cell_type": "code",
   "execution_count": 49,
   "id": "038df2c0-a997-4363-ba8d-e26d6c831e45",
   "metadata": {},
   "outputs": [
    {
     "name": "stdout",
     "output_type": "stream",
     "text": [
      "Tensor a: tf.Tensor([1 2 3 4], shape=(4,), dtype=int32)\n",
      "Tensor b: tf.Tensor([ 8 10 15  9], shape=(4,), dtype=int32)\n"
     ]
    }
   ],
   "source": [
    "a=tf.constant([1,2,3,4])\n",
    "b=tf.constant([8,10,15,9])\n",
    "print(\"Tensor a:\",a)\n",
    "print(\"Tensor b:\",b)"
   ]
  },
  {
   "cell_type": "code",
   "execution_count": 50,
   "id": "343b95d8-ad61-4529-9d47-fe7db95618fc",
   "metadata": {},
   "outputs": [
    {
     "data": {
      "text/plain": [
       "<tf.Tensor: shape=(), dtype=int32, numpy=1>"
      ]
     },
     "execution_count": 50,
     "metadata": {},
     "output_type": "execute_result"
    }
   ],
   "source": [
    "a[0]"
   ]
  },
  {
   "cell_type": "code",
   "execution_count": 51,
   "id": "560a64e5-6c4f-42c2-837b-d99c7ab7d909",
   "metadata": {},
   "outputs": [
    {
     "name": "stdout",
     "output_type": "stream",
     "text": [
      "Tensor a: tf.Tensor([1 2 3 4], shape=(4,), dtype=int32)\n",
      "Tensor b: tf.Tensor([ 8 10 15  9], shape=(4,), dtype=int32)\n"
     ]
    }
   ],
   "source": [
    "a1=tf.constant([[1,2,3,4],[5,8,1,2],[4,1,6,9]])\n",
    "b1=tf.constant([[8,10,15,3],[4,8,3,5],[10,12,8,6]])\n",
    "print(\"Tensor a:\",a)\n",
    "print(\"Tensor b:\",b)"
   ]
  },
  {
   "cell_type": "code",
   "execution_count": 52,
   "id": "de983983-7218-4bbc-9ca3-75f1b8f67880",
   "metadata": {},
   "outputs": [
    {
     "name": "stdout",
     "output_type": "stream",
     "text": [
      "Tensor a: tf.Tensor([1 2 3 4], shape=(4,), dtype=int32)\n",
      "Tensor b: tf.Tensor([ 8 10 15  9], shape=(4,), dtype=int32)\n"
     ]
    }
   ],
   "source": [
    "a2=tf.constant([[1,2,3,4],[5,8,1,2],[4,1,6,9]],dtype=np.int8)\n",
    "b2=tf.constant([[8,10,15,12],[4,8,3,10],[1,4,6,9]],dtype=np.int8)\n",
    "print(\"Tensor a:\",a)\n",
    "print(\"Tensor b:\",b)"
   ]
  },
  {
   "cell_type": "code",
   "execution_count": 53,
   "id": "e4726955-7e50-4260-a84f-b3ae4bd45c4d",
   "metadata": {},
   "outputs": [
    {
     "name": "stdout",
     "output_type": "stream",
     "text": [
      "Addition of two tensor: tf.Tensor(\n",
      "[[ 9 12 18  7]\n",
      " [ 9 16  4  7]\n",
      " [14 13 14 15]], shape=(3, 4), dtype=int32)\n"
     ]
    }
   ],
   "source": [
    "# add tensors\n",
    "c1=tf.add(a1,b1)\n",
    "print(\"Addition of two tensor:\",c1)"
   ]
  },
  {
   "cell_type": "code",
   "execution_count": 54,
   "id": "f563d98b-8728-4cac-8f9d-00f923e6efa9",
   "metadata": {},
   "outputs": [
    {
     "name": "stdout",
     "output_type": "stream",
     "text": [
      "Substraction of two tensor: tf.Tensor(\n",
      "[[ -7  -8 -12  -8]\n",
      " [  1   0  -2  -8]\n",
      " [  3  -3   0   0]], shape=(3, 4), dtype=int8)\n"
     ]
    }
   ],
   "source": [
    "c2=tf.subtract(a2,b2)\n",
    "print(\"Substraction of two tensor:\",c2)"
   ]
  },
  {
   "cell_type": "code",
   "execution_count": 61,
   "id": "1d06d337-137a-43a2-a7d0-f6609ec6dd97",
   "metadata": {},
   "outputs": [
    {
     "data": {
      "text/plain": [
       "<tf.Tensor: shape=(3, 4), dtype=int8, numpy=\n",
       "array([[ -7,  -8, -12,  -8],\n",
       "       [  1,   0,  -2,  -8],\n",
       "       [  3,  -3,   0,   0]], dtype=int8)>"
      ]
     },
     "execution_count": 61,
     "metadata": {},
     "output_type": "execute_result"
    }
   ],
   "source": [
    "a2-b2"
   ]
  },
  {
   "cell_type": "code",
   "execution_count": 62,
   "id": "b2a431ad-5bc3-41d0-95d3-80f5ce48f06e",
   "metadata": {},
   "outputs": [
    {
     "data": {
      "text/plain": [
       "<tf.Tensor: shape=(3, 4), dtype=int32, numpy=\n",
       "array([[ 9, 12, 18,  7],\n",
       "       [ 9, 16,  4,  7],\n",
       "       [14, 13, 14, 15]])>"
      ]
     },
     "execution_count": 62,
     "metadata": {},
     "output_type": "execute_result"
    }
   ],
   "source": [
    "a1+b1"
   ]
  },
  {
   "cell_type": "code",
   "execution_count": 64,
   "id": "d622ae14-1ca2-4c35-83f0-25dcc192ddf9",
   "metadata": {},
   "outputs": [
    {
     "name": "stdout",
     "output_type": "stream",
     "text": [
      "tf.Tensor(\n",
      "[[ 8 20 45 12]\n",
      " [20 64  3 10]\n",
      " [40 12 48 54]], shape=(3, 4), dtype=int32)\n"
     ]
    }
   ],
   "source": [
    "r2=a1*b1\n",
    "print(r2)"
   ]
  },
  {
   "cell_type": "code",
   "execution_count": 65,
   "id": "525ab7f0-c986-48ca-a31e-2cbbd131b4e0",
   "metadata": {},
   "outputs": [
    {
     "name": "stdout",
     "output_type": "stream",
     "text": [
      "tf.Tensor(\n",
      "[[0.125      0.2        0.2        1.33333333]\n",
      " [1.25       1.         0.33333333 0.4       ]\n",
      " [0.4        0.08333333 0.75       1.5       ]], shape=(3, 4), dtype=float64)\n"
     ]
    }
   ],
   "source": [
    "r3=a1/b1\n",
    "print(r3)"
   ]
  },
  {
   "cell_type": "code",
   "execution_count": 66,
   "id": "cf13850b-d86a-4608-8b20-66491048273a",
   "metadata": {},
   "outputs": [
    {
     "name": "stdout",
     "output_type": "stream",
     "text": [
      "tf.Tensor(\n",
      "[[0 0 0 1]\n",
      " [1 1 0 0]\n",
      " [0 0 0 1]], shape=(3, 4), dtype=int32)\n"
     ]
    }
   ],
   "source": [
    "r4=a1//b1\n",
    "print(r4)"
   ]
  },
  {
   "cell_type": "code",
   "execution_count": 60,
   "id": "9a52496a-2c23-497a-a1f5-e8bbdb7df799",
   "metadata": {},
   "outputs": [
    {
     "name": "stdout",
     "output_type": "stream",
     "text": [
      "Multiplication of two tensor: tf.Tensor(\n",
      "[[ 5  8]\n",
      " [16 28]], shape=(2, 2), dtype=int32)\n"
     ]
    }
   ],
   "source": [
    "#matrix multiplication\n",
    "a3=tf.constant([[1,2],[2,7]])\n",
    "a4=tf.constant([[1,0],[2,4]])\n",
    "r5=tf.matmul(a3,a4)\n",
    "print(\"Multiplication of two tensor:\",r5)"
   ]
  },
  {
   "cell_type": "code",
   "execution_count": null,
   "id": "1fd9118c-d28c-47b0-b3d0-a9d35184383f",
   "metadata": {},
   "outputs": [],
   "source": []
  },
  {
   "cell_type": "code",
   "execution_count": null,
   "id": "c3b56fd5-bb7d-4ce3-a5f9-2237ebbb7ec3",
   "metadata": {},
   "outputs": [],
   "source": []
  },
  {
   "cell_type": "code",
   "execution_count": null,
   "id": "19d5c4b4-744d-4fb3-bf2a-efb9e1d45c22",
   "metadata": {},
   "outputs": [],
   "source": []
  },
  {
   "cell_type": "code",
   "execution_count": null,
   "id": "bd357aad-cd53-40e4-8ec7-30874fa7ddd2",
   "metadata": {},
   "outputs": [],
   "source": []
  }
 ],
 "metadata": {
  "kernelspec": {
   "display_name": "Python 3 (ipykernel)",
   "language": "python",
   "name": "python3"
  },
  "language_info": {
   "codemirror_mode": {
    "name": "ipython",
    "version": 3
   },
   "file_extension": ".py",
   "mimetype": "text/x-python",
   "name": "python",
   "nbconvert_exporter": "python",
   "pygments_lexer": "ipython3",
   "version": "3.11.7"
  }
 },
 "nbformat": 4,
 "nbformat_minor": 5
}
