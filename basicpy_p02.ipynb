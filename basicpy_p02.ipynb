{
 "cells": [
  {
   "cell_type": "code",
   "execution_count": 1,
   "id": "3e7239d6-3a0d-4ae2-a353-321f3d1a08a0",
   "metadata": {},
   "outputs": [
    {
     "name": "stdout",
     "output_type": "stream",
     "text": [
      "i\n",
      "i\n",
      "i\n",
      "i\n",
      "i\n"
     ]
    }
   ],
   "source": [
    "for i in 1,2,3,4,5:\n",
    "    print('i')"
   ]
  },
  {
   "cell_type": "code",
   "execution_count": 2,
   "id": "b4deed7a-a444-472a-845c-1ec7816c6368",
   "metadata": {},
   "outputs": [
    {
     "name": "stdout",
     "output_type": "stream",
     "text": [
      "the value of sq of the num: 400\n",
      "the value of sq of the num: 900\n",
      "the value of sq of the num: 2025\n",
      "the value of sq of the num: 3025\n",
      "the value of sq of the num: 3600\n"
     ]
    }
   ],
   "source": [
    "for num in 20,30,45,55,60:\n",
    "    sq=num*num\n",
    "    print('the value of sq of the num:',sq)"
   ]
  },
  {
   "cell_type": "code",
   "execution_count": 3,
   "id": "70c0069c-4cc5-49a4-bf25-f33f562a65d1",
   "metadata": {},
   "outputs": [
    {
     "data": {
      "text/plain": [
       "16"
      ]
     },
     "execution_count": 3,
     "metadata": {},
     "output_type": "execute_result"
    }
   ],
   "source": [
    "def square(num=10):\n",
    "    sq=num*num\n",
    "    return sq\n",
    "square(4)"
   ]
  },
  {
   "cell_type": "code",
   "execution_count": 4,
   "id": "5daff6e8-2a11-46dd-ac24-bf470dd9b2ea",
   "metadata": {},
   "outputs": [
    {
     "data": {
      "text/plain": [
       "121"
      ]
     },
     "execution_count": 4,
     "metadata": {},
     "output_type": "execute_result"
    }
   ],
   "source": [
    "square(11)"
   ]
  },
  {
   "cell_type": "code",
   "execution_count": 5,
   "id": "d8341bab-6e40-4f88-ad02-5a28375fafda",
   "metadata": {},
   "outputs": [
    {
     "data": {
      "text/plain": [
       "(100, 1000)"
      ]
     },
     "execution_count": 5,
     "metadata": {},
     "output_type": "execute_result"
    }
   ],
   "source": [
    "def calc(num):\n",
    "    sq=num*num\n",
    "    cu=num**3\n",
    "    return sq, cu\n",
    "calc(10)"
   ]
  },
  {
   "cell_type": "code",
   "execution_count": 6,
   "id": "123274e7-ced2-4490-b2de-39472a203fbf",
   "metadata": {},
   "outputs": [
    {
     "data": {
      "text/plain": [
       "list"
      ]
     },
     "execution_count": 6,
     "metadata": {},
     "output_type": "execute_result"
    }
   ],
   "source": [
    "num1=[10,40,55,62,32,49]\n",
    "type(num1)"
   ]
  },
  {
   "cell_type": "code",
   "execution_count": 8,
   "id": "027adf4d-8668-4d02-84c9-9fb6a381bbc5",
   "metadata": {},
   "outputs": [
    {
     "data": {
      "text/plain": [
       "62"
      ]
     },
     "execution_count": 8,
     "metadata": {},
     "output_type": "execute_result"
    }
   ],
   "source": [
    "num1[3]"
   ]
  },
  {
   "cell_type": "code",
   "execution_count": 9,
   "id": "4872980b-ab73-470c-b89d-b4a3a8dff461",
   "metadata": {},
   "outputs": [
    {
     "data": {
      "text/plain": [
       "tuple"
      ]
     },
     "execution_count": 9,
     "metadata": {},
     "output_type": "execute_result"
    }
   ],
   "source": [
    "num2=(10,40,55,62,32,49)\n",
    "type(num2)"
   ]
  },
  {
   "cell_type": "code",
   "execution_count": 12,
   "id": "0f12c765-0b65-4b92-bf60-a7390a10b422",
   "metadata": {},
   "outputs": [
    {
     "data": {
      "text/plain": [
       "set"
      ]
     },
     "execution_count": 12,
     "metadata": {},
     "output_type": "execute_result"
    }
   ],
   "source": [
    "num3={10,20,20,30}\n",
    "type(num3)"
   ]
  },
  {
   "cell_type": "code",
   "execution_count": 13,
   "id": "7ce1c6ec-bb77-476d-a7ec-4d595eb80f9e",
   "metadata": {},
   "outputs": [
    {
     "data": {
      "text/plain": [
       "{10, 20, 30}"
      ]
     },
     "execution_count": 13,
     "metadata": {},
     "output_type": "execute_result"
    }
   ],
   "source": [
    "num3"
   ]
  },
  {
   "cell_type": "code",
   "execution_count": 15,
   "id": "4296d5ed-b837-4a37-8aee-af8ce148ed04",
   "metadata": {},
   "outputs": [],
   "source": [
    "num4={1:5,6:8,10:12,'y':40}"
   ]
  },
  {
   "cell_type": "code",
   "execution_count": 16,
   "id": "c9ea3d25-c605-4241-841d-06b13279a553",
   "metadata": {},
   "outputs": [
    {
     "data": {
      "text/plain": [
       "dict"
      ]
     },
     "execution_count": 16,
     "metadata": {},
     "output_type": "execute_result"
    }
   ],
   "source": [
    "type(num4)"
   ]
  },
  {
   "cell_type": "code",
   "execution_count": 18,
   "id": "7e78af2d-b0ac-4cbd-baed-bf5f3eba8b0e",
   "metadata": {},
   "outputs": [
    {
     "data": {
      "text/plain": [
       "5"
      ]
     },
     "execution_count": 18,
     "metadata": {},
     "output_type": "execute_result"
    }
   ],
   "source": [
    "num4[1]"
   ]
  },
  {
   "cell_type": "code",
   "execution_count": 33,
   "id": "da95d8bd-547f-4414-bcbd-0a0fe627544a",
   "metadata": {},
   "outputs": [],
   "source": [
    "class Person:\n",
    "    def __init__(self, n, a):\n",
    "      self.name=n\n",
    "      self.age=a\n",
    "    def show(self):\n",
    "      print('Values are:')\n",
    "      print(self.name, self.age)\n"
   ]
  },
  {
   "cell_type": "code",
   "execution_count": 34,
   "id": "d507fc86-58aa-4a94-8df7-e07645e07330",
   "metadata": {},
   "outputs": [],
   "source": [
    "p1=Person('Ajay', 34)"
   ]
  },
  {
   "cell_type": "code",
   "execution_count": 35,
   "id": "db2b1a96-ea8e-43c3-8790-7d244ffd416d",
   "metadata": {},
   "outputs": [
    {
     "name": "stdout",
     "output_type": "stream",
     "text": [
      "Values are:\n",
      "Ajay 34\n"
     ]
    }
   ],
   "source": [
    "p1.show()"
   ]
  },
  {
   "cell_type": "code",
   "execution_count": 45,
   "id": "ddc0f685-984d-4c9c-860f-7a8bc9ec874c",
   "metadata": {},
   "outputs": [],
   "source": [
    "import math\n",
    "#help(math)\n",
    "a=math.sqrt(3)\n",
    "b=math.factorial(3)"
   ]
  },
  {
   "cell_type": "code",
   "execution_count": null,
   "id": "19535edb-d41b-4ce5-bf28-784af4ea2f2e",
   "metadata": {},
   "outputs": [],
   "source": []
  },
  {
   "cell_type": "code",
   "execution_count": null,
   "id": "957b93d0-6e6d-4fe8-9a04-531cc47b58f4",
   "metadata": {},
   "outputs": [],
   "source": []
  },
  {
   "cell_type": "code",
   "execution_count": null,
   "id": "7ad324c6-83a2-44ce-96ab-0c31ed4df0f8",
   "metadata": {},
   "outputs": [],
   "source": []
  },
  {
   "cell_type": "code",
   "execution_count": null,
   "id": "ac20655d-ee5f-474c-8513-1b60aded3fcd",
   "metadata": {},
   "outputs": [],
   "source": []
  }
 ],
 "metadata": {
  "kernelspec": {
   "display_name": "Python 3 (ipykernel)",
   "language": "python",
   "name": "python3"
  },
  "language_info": {
   "codemirror_mode": {
    "name": "ipython",
    "version": 3
   },
   "file_extension": ".py",
   "mimetype": "text/x-python",
   "name": "python",
   "nbconvert_exporter": "python",
   "pygments_lexer": "ipython3",
   "version": "3.11.7"
  }
 },
 "nbformat": 4,
 "nbformat_minor": 5
}
