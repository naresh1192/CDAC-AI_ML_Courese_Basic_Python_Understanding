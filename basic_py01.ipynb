{
 "cells": [
  {
   "cell_type": "markdown",
   "id": "c21ffecd-36f2-477b-842a-78d0f7d43f64",
   "metadata": {},
   "source": [
    "##### Basic py programs on numerical data type"
   ]
  },
  {
   "cell_type": "code",
   "execution_count": 11,
   "id": "f2ebbf8c-b5c1-4cb4-bd60-c4edf71a4b93",
   "metadata": {},
   "outputs": [
    {
     "name": "stdin",
     "output_type": "stream",
     "text": [
      "enter a number -10\n"
     ]
    },
    {
     "name": "stdout",
     "output_type": "stream",
     "text": [
      "the number is : -10\n",
      "it is a negative number\n"
     ]
    }
   ],
   "source": [
    "a=int(input('enter a number'))\n",
    "print('the number is :',a)\n",
    "if a>0:\n",
    "    print('it is a positive number')\n",
    "elif a==0:\n",
    "      print('the number is zero')\n",
    "else:\n",
    "    print('it is a negative number')"
   ]
  },
  {
   "cell_type": "code",
   "execution_count": 12,
   "id": "314d0d2d-389e-4631-bab8-a1f23321954a",
   "metadata": {},
   "outputs": [
    {
     "name": "stdin",
     "output_type": "stream",
     "text": [
      "Enter the value of C -40\n"
     ]
    },
    {
     "name": "stdout",
     "output_type": "stream",
     "text": [
      "the value of C in K is: -40.0\n"
     ]
    },
    {
     "data": {
      "text/plain": [
       "float"
      ]
     },
     "execution_count": 12,
     "metadata": {},
     "output_type": "execute_result"
    }
   ],
   "source": [
    "c=float(input('the temperature in value of C'));\n",
    "k=c*1.8+32;\n",
    "print('the value of C in K is:', k)\n",
    "type(k) #to check the data type of variable;"
   ]
  },
  {
   "cell_type": "code",
   "execution_count": null,
   "id": "520668ab-6896-415a-a050-598d170ad261",
   "metadata": {},
   "outputs": [],
   "source": []
  }
 ],
 "metadata": {
  "kernelspec": {
   "display_name": "Python 3 (ipykernel)",
   "language": "python",
   "name": "python3"
  },
  "language_info": {
   "codemirror_mode": {
    "name": "ipython",
    "version": 3
   },
   "file_extension": ".py",
   "mimetype": "text/x-python",
   "name": "python",
   "nbconvert_exporter": "python",
   "pygments_lexer": "ipython3",
   "version": "3.11.7"
  }
 },
 "nbformat": 4,
 "nbformat_minor": 5
}
