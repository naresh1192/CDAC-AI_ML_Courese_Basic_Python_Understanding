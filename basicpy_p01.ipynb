{
 "cells": [
  {
   "cell_type": "code",
   "execution_count": 1,
   "id": "5798ec6c-03ac-40ee-8c8f-5a891fa1de85",
   "metadata": {},
   "outputs": [
    {
     "name": "stdout",
     "output_type": "stream",
     "text": [
      "Welcome to CDAC\n"
     ]
    }
   ],
   "source": [
    "print('Welcome to CDAC')\n"
   ]
  },
  {
   "cell_type": "code",
   "execution_count": 2,
   "id": "5c22ffba-da9b-4cc0-8057-d328b371272e",
   "metadata": {
    "scrolled": true
   },
   "outputs": [
    {
     "name": "stdout",
     "output_type": "stream",
     "text": [
      "hello world\n"
     ]
    }
   ],
   "source": [
    "print(\"hello world\")"
   ]
  },
  {
   "cell_type": "code",
   "execution_count": 3,
   "id": "60b58457-d72e-4a5c-b0b1-17b696db2ec9",
   "metadata": {},
   "outputs": [
    {
     "name": "stdin",
     "output_type": "stream",
     "text": [
      "Enter the value of C 50\n"
     ]
    },
    {
     "name": "stdout",
     "output_type": "stream",
     "text": [
      "the value of C in K is: 122.0\n"
     ]
    },
    {
     "data": {
      "text/plain": [
       "float"
      ]
     },
     "execution_count": 3,
     "metadata": {},
     "output_type": "execute_result"
    }
   ],
   "source": [
    "c=float(input('Enter the value of C'));\n",
    "k=c*1.8+32;\n",
    "print('the value of C in K is:', k)\n",
    "type(k) #to check the data type of variable;"
   ]
  },
  {
   "cell_type": "code",
   "execution_count": 6,
   "id": "35e67d59-9d40-40e1-b1f5-b5d12e6a3eaa",
   "metadata": {},
   "outputs": [
    {
     "name": "stdin",
     "output_type": "stream",
     "text": [
      "enter a number: 10\n"
     ]
    },
    {
     "name": "stdout",
     "output_type": "stream",
     "text": [
      "the number is positive: 10\n"
     ]
    }
   ],
   "source": [
    "a=int(input('enter a number:'));\n",
    "if a > 0:\n",
    "   print('the number is positive:',a)\n",
    "elif a==0:\n",
    "    print('the number is zero')\n",
    "else:\n",
    "   print('the number is negative:',a)"
   ]
  },
  {
   "cell_type": "code",
   "execution_count": null,
   "id": "4f9436c8-f728-4e0d-946e-61816509e68c",
   "metadata": {},
   "outputs": [],
   "source": []
  }
 ],
 "metadata": {
  "kernelspec": {
   "display_name": "Python 3 (ipykernel)",
   "language": "python",
   "name": "python3"
  },
  "language_info": {
   "codemirror_mode": {
    "name": "ipython",
    "version": 3
   },
   "file_extension": ".py",
   "mimetype": "text/x-python",
   "name": "python",
   "nbconvert_exporter": "python",
   "pygments_lexer": "ipython3",
   "version": "3.11.7"
  }
 },
 "nbformat": 4,
 "nbformat_minor": 5
}
